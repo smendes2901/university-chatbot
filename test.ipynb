{
 "cells": [
  {
   "cell_type": "code",
   "execution_count": 1,
   "metadata": {},
   "outputs": [],
   "source": [
    "from langchain_openai import ChatOpenAI\n",
    "\n",
    "llm = ChatOpenAI(model=\"gpt-4-1106-preview\")"
   ]
  },
  {
   "cell_type": "code",
   "execution_count": 2,
   "metadata": {},
   "outputs": [],
   "source": [
    "import bs4\n",
    "from langchain import hub\n",
    "from langchain_community.document_loaders import WebBaseLoader, DirectoryLoader\n",
    "from langchain_chroma import Chroma\n",
    "from langchain_core.output_parsers import StrOutputParser\n",
    "from langchain_core.runnables import RunnablePassthrough\n",
    "from langchain_openai import OpenAIEmbeddings\n",
    "from langchain_text_splitters import RecursiveCharacterTextSplitter"
   ]
  },
  {
   "cell_type": "code",
   "execution_count": 12,
   "metadata": {},
   "outputs": [],
   "source": [
    "import textwrap\n",
    "from IPython.display import Markdown\n",
    "\n",
    "def to_markdown(text):\n",
    "  text = text.replace('•', '  *')\n",
    "  return Markdown(textwrap.indent(text, '> ', predicate=lambda _: True))"
   ]
  },
  {
   "cell_type": "code",
   "execution_count": 3,
   "metadata": {},
   "outputs": [],
   "source": [
    "# Load, chunk and index the contents of the blog.\n",
    "loader = WebBaseLoader(\n",
    "    web_paths=(\"https://stevens.smartcatalogiq.com/en/2023-2024/academic-catalog/department-of-computer-science/graduate-programs/master-of-science-in-machine-learning\",),\n",
    "    )\n",
    "\n",
    "# loader = DirectoryLoader(\"data/stevens/\")\n",
    "\n",
    "docs = loader.load()"
   ]
  },
  {
   "cell_type": "code",
   "execution_count": 4,
   "metadata": {},
   "outputs": [
    {
     "data": {
      "text/plain": [
       "[Document(page_content='\\n\\n\\n\\r\\n\\tStevens Institute of Technology\\xa0-\\xa0Master of Science in Machine Learning\\r\\n\\n\\n\\n\\n\\n\\n\\n\\n\\n\\n\\nSkip to main content\\n\\n\\n\\n\\n\\n\\n\\n\\n\\n\\n\\n\\n\\n\\n\\n\\n\\n\\n\\n\\nCatalog Search\\n\\n\\n\\n\\nSearch Options\\n\\n\\nEntire Catalog\\nPrograms\\nCourses\\n\\nSearch\\nhttp://stevens.smartcatalogiq.com\\n4d3ddf27-e408-400c-b836-d1281514fc2f\\n\\n68aab440-d6be-464a-b585-3d808753e390\\nprogram\\n\\n\\n\\n\\n/Institutions/Stevens-Institution-of-Technology/json/2023-2024/Academic-Catalog-local.json/Institutions/Stevens-Institution-of-Technology/json/2023-2024/Academic-Catalog.json\\n\\r\\n\\t\\tContents\\r\\n\\t\\n\\n\\n\\nAboutOur History and MissionAccreditationAcademic IntegrityStudent LifeStudent ServicesUndergraduate EducationGraduate EducationTuition, Fees and Other Expenses for Undergraduate StudentsTuition, Fees and Other Expenses for Graduate StudentsFinancing a Stevens EducationSchool of BusinessSchool of Humanities, Arts and Social SciencesSchaefer School of Engineering and ScienceDepartment of Biomedical EngineeringDepartment of Chemistry and Chemical BiologyDepartment of Chemical Engineering and Materials ScienceDepartment of Civil, Environmental, and Ocean EngineeringDepartment of Computer Science\\nFacultyUndergraduate ProgramsGraduate Programs\\nMaster of Science in Computer ScienceMaster of Science in Computer Science (Pathways)Master of Engineering in Media and Broadcast EngineeringMaster of Science in CybersecurityMaster of Science in Machine LearningDoctor of Philosophy in Computer ScienceDoctor of Philosophy in Data ScienceEngineer Degree in Computer Science\\nGraduate Certificate Programs\\nDepartment of Electrical and Computer EngineeringDepartment of Mathematical SciencesDepartment of Mechanical EngineeringDepartment of PhysicsSchool of Systems and EnterprisesCourses\\n\\n\\n\\n\\r\\n\\t\\tCatalog Links\\r\\n\\t\\n\\nCatalog HomeSite MapAll Catalogs\\n\\n\\n\\n\\n\\n\\n\\n\\n\\n2023-2024 Academic Catalog > Department of Computer Science > Graduate Programs > Master of Science in Machine Learning\\n\\n\\n\\n\\nPrint this page\\n\\n\\n\\n\\n\\n\\r\\n\\t\\tMaster of Science in Machine Learning\\r\\n\\tThe Master of Science in Machine Learning degree aims to provide theoretical and practical foundations that enable its graduates to be at the forefront of progress in machine learning and related disciplines. Machine learning is a rapidly expanding field with many applications in diverse areas, such as intelligent systems, perception, robotics, finance, information retrieval, bioinformatics, healthcare, weather prediction among others. In addition to established employers in these industries, a large number of startups have also entered the market seeking to hire machine learning scientists. Besides careers in industry, this program will prepare students for the pursuit of doctoral degrees and careers in research.\\nProgram Objectives\\n\\xa0\\nThe program prepares students to:\\n\\n\\nEstablish a career as a machine learning scientist in either industry or academia.\\n\\n\\nDevelop a deep understanding of machine learning theory and become familiar with the most important machine learning paradigms.\\n\\n\\nSelect and apply appropriate machine learning models on real-world applications in various areas of science and engineering.\\n\\n\\nProgram Outcomes\\nUpon completion of the program, students will be able to:\\n\\n\\nUnderstand the theory underlying machine learning algorithms.\\n\\n\\nUse machine learning to make decisions and predictions.\\n\\n\\nSelect appropriate statistical and predictive methodologies.\\n\\n\\nBuild statistical learning models and understand their strengths and limitations.\\n\\n\\nProvide appropriate interpretation of classification or regression results.\\n\\n\\n\\xa0\\n\\n\\r\\n\\t\\t\\tDegree Requirements\\r\\n\\t\\tThe program is a 30-credit degree program. Students are required to complete:\\n\\n\\n4 machine learning core courses (12 credits)\\n\\n\\n3 machine learning core electives\\xa0 (9 credits)\\xa0\\n\\n\\n3 general electives (9 credits), which can be any graduate course\\n\\n\\nStudents must maintain a minimum grade of a C or above in any course and a minimum GPA of 3.000.\\r\\n\\t\\t\\tMachine Learning Core Requirements: Complete Four out of the Five Courses Mentioned Below:\\r\\n\\t\\t\\n\\nCS 541Artificial Intelligence3\\n\\nCS 559Machine Learning: Fundamentals and Applications3\\n\\nCS 560Statistical Machine Learning3\\n\\nCS 583Deep Learning3\\n\\nCS 584Natural Language Processing3\\n\\n\\r\\n\\t\\t\\tMachine Learning Core Electives Requirements: Complete Three of the Courses Mentioned Below\\r\\n\\t\\t\\n\\nCS 513Knowledge Discovery and Data Mining3\\n\\nCS 5323D Computer Vision3\\n\\nCS 544Health Informatics3\\n\\nCS 556Mathematical Foundations of Machine Learning3\\n\\nCS 558Computer Vision3\\n\\nCS 582Causal Inference3\\n\\nCS 589Text Mining and Information Retrieval3\\n\\nCS 598Visual Information Retrieval3\\n\\nCS 609Data Management and Exploration on the Web3\\n\\nBIA 654Experimental Design II3\\n\\nBIA 660Web Mining3\\n\\nBIA 662Augmented Intelligence and Generative AI3\\n\\nBIA 678Big Data Technologies3\\n\\nCPE 608Applied Modeling and Optimization3\\n\\nCPE 695Applied Machine Learning3\\n\\nFE 541Applied Statistics with Applications in Finance3\\n\\nMA 541Statistical Methods3\\n\\nMA 630Advanced Optimization Methods3\\n\\nMA 641Time Series Analysis I3\\n\\nMA 661Dynamic Programming and Reinforcement Learning3\\n\\nCS 800Special Problems in Computer Science (M.S.)1-6\\n\\nCS 900Thesis in Computer Science (M.S.)1-10\\n\\n\\r\\n\\t\\t\\tGeneral Electives\\r\\n\\t\\tUp to three general electives, which can be any graduate course.\\n\\n\\n\\n\\n\\n\\n\\n\\n\\n\\n\\n\\n\\n\\n\\n\\n', metadata={'source': 'https://stevens.smartcatalogiq.com/en/2023-2024/academic-catalog/department-of-computer-science/graduate-programs/master-of-science-in-machine-learning', 'title': '\\r\\n\\tStevens Institute of Technology\\xa0-\\xa0Master of Science in Machine Learning\\r\\n', 'language': 'en'})]"
      ]
     },
     "execution_count": 4,
     "metadata": {},
     "output_type": "execute_result"
    }
   ],
   "source": [
    "docs"
   ]
  },
  {
   "cell_type": "code",
   "execution_count": 5,
   "metadata": {},
   "outputs": [],
   "source": [
    "text_splitter = RecursiveCharacterTextSplitter(chunk_size=1000, chunk_overlap=200)\n",
    "splits = text_splitter.split_documents(docs)\n",
    "vectorstore = Chroma.from_documents(documents=splits, embedding=OpenAIEmbeddings())"
   ]
  },
  {
   "cell_type": "code",
   "execution_count": 6,
   "metadata": {},
   "outputs": [
    {
     "data": {
      "text/plain": [
       "ChatPromptTemplate(input_variables=['context', 'question'], messages=[HumanMessagePromptTemplate(prompt=PromptTemplate(input_variables=['context', 'question'], template=\"You are an assistant for question-answering tasks. Use the following pieces of retrieved context to answer the question. If you don't know the answer, just say that you don't know. Use three sentences maximum and keep the answer concise.\\nQuestion: {question} \\nContext: {context} \\nAnswer:\"))])"
      ]
     },
     "execution_count": 6,
     "metadata": {},
     "output_type": "execute_result"
    }
   ],
   "source": [
    "# Retrieve and generate using the relevant snippets of the blog.\n",
    "retriever = vectorstore.as_retriever(search_type=\"similarity\", search_kwargs={\"k\": 6})\n",
    "prompt = hub.pull(\"rlm/rag-prompt\")\n",
    "prompt"
   ]
  },
  {
   "cell_type": "code",
   "execution_count": 16,
   "metadata": {},
   "outputs": [
    {
     "data": {
      "text/plain": [
       "ChatPromptTemplate(input_variables=['context', 'question'], messages=[SystemMessagePromptTemplate(prompt=PromptTemplate(input_variables=[], template='You are an assistant for question-answering tasks related to Stevens Institute Of Technology.')), HumanMessagePromptTemplate(prompt=PromptTemplate(input_variables=['context', 'question'], template=\" \\n        Use the following pieces of retrieved context to answer the question.\\n        If you don't know the answer, just say that you don't know.\\n        Use three sentences maximum and keep the answer concise.\\n         \\n        Answer in markdown format\\n        If the topic is related to a course then ensure to mention to course numbers and display the result as a table\\n        Question: {question}\\n        Context: {context}\\n        Answer:\"))])"
      ]
     },
     "execution_count": 16,
     "metadata": {},
     "output_type": "execute_result"
    }
   ],
   "source": [
    "from langchain_core.prompts import ChatPromptTemplate\n",
    "\n",
    "chat_template = ChatPromptTemplate.from_messages(\n",
    "    [   \n",
    "        (\"system\", \"You are an assistant for question-answering tasks related to Stevens Institute Of Technology.\"),\n",
    "        (\"human\", \"\"\" \n",
    "        Use the following pieces of retrieved context to answer the question.\n",
    "        If you don't know the answer, just say that you don't know.\n",
    "        Use three sentences maximum and keep the answer concise.\n",
    "         \n",
    "        Answer in markdown format\n",
    "        If the topic is related to a course then ensure to mention to course numbers and display the result as a table\n",
    "        Question: {question}\n",
    "        Context: {context}\n",
    "        Answer:\"\"\"),\n",
    "    ]\n",
    ")\n",
    "chat_template"
   ]
  },
  {
   "cell_type": "code",
   "execution_count": 17,
   "metadata": {},
   "outputs": [],
   "source": [
    "def format_docs(docs):\n",
    "    return \"\\n\\n\".join(doc.page_content for doc in docs)\n",
    "\n",
    "# rag_chain = (\n",
    "#     { \"context\": retriever | format_docs, \"question\": RunnablePassthrough()}\n",
    "#     | prompt\n",
    "#     | llm\n",
    "#     | StrOutputParser()\n",
    "# )"
   ]
  },
  {
   "cell_type": "code",
   "execution_count": 18,
   "metadata": {},
   "outputs": [],
   "source": [
    "from langchain_core.runnables import RunnableParallel\n",
    "\n",
    "rag_chain_from_docs = (\n",
    "    RunnablePassthrough.assign(context=(lambda x: format_docs(x[\"context\"])))\n",
    "    | prompt\n",
    "    | llm\n",
    "    | StrOutputParser()\n",
    ")\n",
    "\n",
    "rag_chain_with_source = RunnableParallel(\n",
    "    {\"context\": retriever, \"question\": RunnablePassthrough()}\n",
    ").assign(answer=rag_chain_from_docs)"
   ]
  },
  {
   "cell_type": "code",
   "execution_count": 19,
   "metadata": {},
   "outputs": [],
   "source": [
    "response = rag_chain_with_source.invoke(\"What are the course electives for MS in Machine Learning?\")"
   ]
  },
  {
   "cell_type": "code",
   "execution_count": 20,
   "metadata": {},
   "outputs": [
    {
     "data": {
      "text/plain": [
       "{'context': [Document(page_content='4 machine learning core courses (12 credits)\\n\\n\\n3 machine learning core electives\\xa0 (9 credits)\\xa0\\n\\n\\n3 general electives (9 credits), which can be any graduate course\\n\\n\\nStudents must maintain a minimum grade of a C or above in any course and a minimum GPA of 3.000.\\r\\n\\t\\t\\tMachine Learning Core Requirements: Complete Four out of the Five Courses Mentioned Below:\\r\\n\\t\\t\\n\\nCS 541Artificial Intelligence3\\n\\nCS 559Machine Learning: Fundamentals and Applications3\\n\\nCS 560Statistical Machine Learning3\\n\\nCS 583Deep Learning3\\n\\nCS 584Natural Language Processing3\\n\\n\\r\\n\\t\\t\\tMachine Learning Core Electives Requirements: Complete Three of the Courses Mentioned Below\\r\\n\\t\\t\\n\\nCS 513Knowledge Discovery and Data Mining3\\n\\nCS 5323D Computer Vision3\\n\\nCS 544Health Informatics3\\n\\nCS 556Mathematical Foundations of Machine Learning3\\n\\nCS 558Computer Vision3\\n\\nCS 582Causal Inference3\\n\\nCS 589Text Mining and Information Retrieval3\\n\\nCS 598Visual Information Retrieval3\\n\\nCS 609Data Management and Exploration on the Web3', metadata={'language': 'en', 'source': 'https://stevens.smartcatalogiq.com/en/2023-2024/academic-catalog/department-of-computer-science/graduate-programs/master-of-science-in-machine-learning', 'title': '\\r\\n\\tStevens Institute of Technology\\xa0-\\xa0Master of Science in Machine Learning\\r\\n'}),\n",
       "  Document(page_content='CS 558Computer Vision3\\n\\nCS 582Causal Inference3\\n\\nCS 589Text Mining and Information Retrieval3\\n\\nCS 598Visual Information Retrieval3\\n\\nCS 609Data Management and Exploration on the Web3\\n\\nBIA 654Experimental Design II3\\n\\nBIA 660Web Mining3\\n\\nBIA 662Augmented Intelligence and Generative AI3\\n\\nBIA 678Big Data Technologies3\\n\\nCPE 608Applied Modeling and Optimization3\\n\\nCPE 695Applied Machine Learning3\\n\\nFE 541Applied Statistics with Applications in Finance3\\n\\nMA 541Statistical Methods3\\n\\nMA 630Advanced Optimization Methods3\\n\\nMA 641Time Series Analysis I3\\n\\nMA 661Dynamic Programming and Reinforcement Learning3\\n\\nCS 800Special Problems in Computer Science (M.S.)1-6\\n\\nCS 900Thesis in Computer Science (M.S.)1-10\\n\\n\\r\\n\\t\\t\\tGeneral Electives\\r\\n\\t\\tUp to three general electives, which can be any graduate course.', metadata={'language': 'en', 'source': 'https://stevens.smartcatalogiq.com/en/2023-2024/academic-catalog/department-of-computer-science/graduate-programs/master-of-science-in-machine-learning', 'title': '\\r\\n\\tStevens Institute of Technology\\xa0-\\xa0Master of Science in Machine Learning\\r\\n'}),\n",
       "  Document(page_content='Establish a career as a machine learning scientist in either industry or academia.\\n\\n\\nDevelop a deep understanding of machine learning theory and become familiar with the most important machine learning paradigms.\\n\\n\\nSelect and apply appropriate machine learning models on real-world applications in various areas of science and engineering.\\n\\n\\nProgram Outcomes\\nUpon completion of the program, students will be able to:\\n\\n\\nUnderstand the theory underlying machine learning algorithms.\\n\\n\\nUse machine learning to make decisions and predictions.\\n\\n\\nSelect appropriate statistical and predictive methodologies.\\n\\n\\nBuild statistical learning models and understand their strengths and limitations.\\n\\n\\nProvide appropriate interpretation of classification or regression results.\\n\\n\\n\\xa0\\n\\n\\r\\n\\t\\t\\tDegree Requirements\\r\\n\\t\\tThe program is a 30-credit degree program. Students are required to complete:\\n\\n\\n4 machine learning core courses (12 credits)\\n\\n\\n3 machine learning core electives\\xa0 (9 credits)', metadata={'language': 'en', 'source': 'https://stevens.smartcatalogiq.com/en/2023-2024/academic-catalog/department-of-computer-science/graduate-programs/master-of-science-in-machine-learning', 'title': '\\r\\n\\tStevens Institute of Technology\\xa0-\\xa0Master of Science in Machine Learning\\r\\n'}),\n",
       "  Document(page_content='2023-2024 Academic Catalog > Department of Computer Science > Graduate Programs > Master of Science in Machine Learning\\n\\n\\n\\n\\nPrint this page\\n\\n\\n\\n\\n\\n\\r\\n\\t\\tMaster of Science in Machine Learning\\r\\n\\tThe Master of Science in Machine Learning degree aims to provide theoretical and practical foundations that enable its graduates to be at the forefront of progress in machine learning and related disciplines. Machine learning is a rapidly expanding field with many applications in diverse areas, such as intelligent systems, perception, robotics, finance, information retrieval, bioinformatics, healthcare, weather prediction among others. In addition to established employers in these industries, a large number of startups have also entered the market seeking to hire machine learning scientists. Besides careers in industry, this program will prepare students for the pursuit of doctoral degrees and careers in research.\\nProgram Objectives\\n\\xa0\\nThe program prepares students to:', metadata={'language': 'en', 'source': 'https://stevens.smartcatalogiq.com/en/2023-2024/academic-catalog/department-of-computer-science/graduate-programs/master-of-science-in-machine-learning', 'title': '\\r\\n\\tStevens Institute of Technology\\xa0-\\xa0Master of Science in Machine Learning\\r\\n'}),\n",
       "  Document(page_content='Stevens Institute of Technology\\xa0-\\xa0Master of Science in Machine Learning\\r\\n\\n\\n\\n\\n\\n\\n\\n\\n\\n\\n\\nSkip to main content\\n\\n\\n\\n\\n\\n\\n\\n\\n\\n\\n\\n\\n\\n\\n\\n\\n\\n\\n\\n\\nCatalog Search\\n\\n\\n\\n\\nSearch Options\\n\\n\\nEntire Catalog\\nPrograms\\nCourses\\n\\nSearch\\nhttp://stevens.smartcatalogiq.com\\n4d3ddf27-e408-400c-b836-d1281514fc2f\\n\\n68aab440-d6be-464a-b585-3d808753e390\\nprogram\\n\\n\\n\\n\\n/Institutions/Stevens-Institution-of-Technology/json/2023-2024/Academic-Catalog-local.json/Institutions/Stevens-Institution-of-Technology/json/2023-2024/Academic-Catalog.json\\n\\r\\n\\t\\tContents', metadata={'language': 'en', 'source': 'https://stevens.smartcatalogiq.com/en/2023-2024/academic-catalog/department-of-computer-science/graduate-programs/master-of-science-in-machine-learning', 'title': '\\r\\n\\tStevens Institute of Technology\\xa0-\\xa0Master of Science in Machine Learning\\r\\n'}),\n",
       "  Document(page_content='Catalog Links\\r\\n\\t\\n\\nCatalog HomeSite MapAll Catalogs\\n\\n\\n\\n\\n\\n\\n\\n\\n\\n2023-2024 Academic Catalog > Department of Computer Science > Graduate Programs > Master of Science in Machine Learning\\n\\n\\n\\n\\nPrint this page', metadata={'language': 'en', 'source': 'https://stevens.smartcatalogiq.com/en/2023-2024/academic-catalog/department-of-computer-science/graduate-programs/master-of-science-in-machine-learning', 'title': '\\r\\n\\tStevens Institute of Technology\\xa0-\\xa0Master of Science in Machine Learning\\r\\n'})],\n",
       " 'question': 'What are the course electives for MS in Machine Learning?',\n",
       " 'answer': 'The course electives for an MS in Machine Learning include three machine learning core electives and three general electives. The machine learning core electives can be chosen from courses such as Knowledge Discovery and Data Mining, 3D Computer Vision, Health Informatics, Mathematical Foundations of Machine Learning, Computer Vision, Causal Inference, Text Mining and Information Retrieval, Visual Information Retrieval, Data Management and Exploration on the Web, and several others. General electives can be any graduate course that meets the program requirements.'}"
      ]
     },
     "execution_count": 20,
     "metadata": {},
     "output_type": "execute_result"
    }
   ],
   "source": [
    "response"
   ]
  },
  {
   "cell_type": "code",
   "execution_count": 21,
   "metadata": {},
   "outputs": [
    {
     "data": {
      "text/markdown": [
       "> The course electives for an MS in Machine Learning include three machine learning core electives and three general electives. The machine learning core electives can be chosen from courses such as Knowledge Discovery and Data Mining, 3D Computer Vision, Health Informatics, Mathematical Foundations of Machine Learning, Computer Vision, Causal Inference, Text Mining and Information Retrieval, Visual Information Retrieval, Data Management and Exploration on the Web, and several others. General electives can be any graduate course that meets the program requirements."
      ],
      "text/plain": [
       "<IPython.core.display.Markdown object>"
      ]
     },
     "execution_count": 21,
     "metadata": {},
     "output_type": "execute_result"
    }
   ],
   "source": [
    "to_markdown(response[\"answer\"])"
   ]
  },
  {
   "cell_type": "code",
   "execution_count": 11,
   "metadata": {},
   "outputs": [
    {
     "data": {
      "text/plain": [
       "'The course electives for MS in Machine Learning include: Wireless Networking, Cognitive Radio, Signal Processing, Wireless Security, RF Antenna, AI and Machine Learning.'"
      ]
     },
     "execution_count": 11,
     "metadata": {},
     "output_type": "execute_result"
    }
   ],
   "source": [
    "response"
   ]
  },
  {
   "cell_type": "code",
   "execution_count": 10,
   "metadata": {},
   "outputs": [],
   "source": [
    "# cleanup\n",
    "vectorstore.delete_collection()"
   ]
  },
  {
   "cell_type": "code",
   "execution_count": null,
   "metadata": {},
   "outputs": [],
   "source": []
  }
 ],
 "metadata": {
  "kernelspec": {
   "display_name": "stevens",
   "language": "python",
   "name": "python3"
  },
  "language_info": {
   "codemirror_mode": {
    "name": "ipython",
    "version": 3
   },
   "file_extension": ".py",
   "mimetype": "text/x-python",
   "name": "python",
   "nbconvert_exporter": "python",
   "pygments_lexer": "ipython3",
   "version": "3.11.5"
  }
 },
 "nbformat": 4,
 "nbformat_minor": 2
}
