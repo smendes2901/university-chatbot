{
 "cells": [
  {
   "cell_type": "code",
   "execution_count": 1,
   "metadata": {},
   "outputs": [],
   "source": [
    "from langchain_openai import ChatOpenAI\n",
    "\n",
    "llm = ChatOpenAI(model=\"gpt-4-1106-preview\")"
   ]
  },
  {
   "cell_type": "code",
   "execution_count": 2,
   "metadata": {},
   "outputs": [],
   "source": [
    "import bs4\n",
    "from langchain import hub\n",
    "from langchain_community.document_loaders import WebBaseLoader, DirectoryLoader\n",
    "from langchain_chroma import Chroma\n",
    "from langchain_core.output_parsers import StrOutputParser\n",
    "from langchain_core.runnables import RunnablePassthrough\n",
    "from langchain_openai import OpenAIEmbeddings\n",
    "from langchain_community.embeddings import HuggingFaceEmbeddings\n",
    "from langchain_text_splitters import RecursiveCharacterTextSplitter"
   ]
  },
  {
   "cell_type": "code",
   "execution_count": 3,
   "metadata": {},
   "outputs": [],
   "source": [
    "import textwrap\n",
    "from IPython.display import Markdown\n",
    "\n",
    "def to_markdown(text):\n",
    "  text = text.replace('•', '  *')\n",
    "  return Markdown(textwrap.indent(text, '> ', predicate=lambda _: True))"
   ]
  },
  {
   "cell_type": "code",
   "execution_count": 4,
   "metadata": {},
   "outputs": [
    {
     "name": "stderr",
     "output_type": "stream",
     "text": [
      " 99%|█████████▉| 2781/2799 [02:54<00:01, 15.96it/s] \n"
     ]
    }
   ],
   "source": [
    "# Load, chunk and index the contents of the blog.\n",
    "# loader = WebBaseLoader(\n",
    "#     web_paths=(\"https://stevens.smartcatalogiq.com/en/2023-2024/academic-catalog/department-of-computer-science/graduate-programs/master-of-science-in-machine-learning\",),\n",
    "#     )\n",
    "\n",
    "loader = DirectoryLoader(\"../data/text files/\", use_multithreading=False, show_progress=True)\n",
    "\n",
    "docs = loader.load()"
   ]
  },
  {
   "cell_type": "code",
   "execution_count": 5,
   "metadata": {},
   "outputs": [
    {
     "data": {
      "text/plain": [
       "Document(page_content='Welcome to the Urban Ocean Observatory!\\n\\nThe New York Harbor Observing and Prediction System (NYHOPS) was established to permit an assessment of ocean, weather, environmental, and vessel traffic conditions throughout the New York Harbor and New Jersey Coast regions. The system is designed to provide a knowledge of meteorological and oceanographic conditions both in real-time and forecasted out to 72 hours in the Hudson River, the East River, NY/NJ Estuary, Raritan Bay, Long Island Sound and the coastal waters of New Jersey. In this web site you will see graphic images of:\\n\\nwater level; surface and bottom temperature; surface and bottom salinity; surface and bottom currents; NOAA winds; coastal waves - height, period and direction.\\n\\nDISCLAIMER: NYHOPS adheres to NOAA standards and guidelines for use and reliability of our forecasts. Click here to view.\\n\\nData administration and web development are managed by\\n\\nMr. David Runnels\\n\\n.\\n\\n&copy 2006-2022 Davidson Laboratory, Stevens Institute of Technology. All rights reserved.', metadata={'source': '..\\\\data\\\\text files\\\\https_  hudson.dl.stevens-tech.edu maritimeforecast .txt'})"
      ]
     },
     "execution_count": 5,
     "metadata": {},
     "output_type": "execute_result"
    }
   ],
   "source": [
    "docs[0]"
   ]
  },
  {
   "cell_type": "code",
   "execution_count": 6,
   "metadata": {},
   "outputs": [
    {
     "name": "stderr",
     "output_type": "stream",
     "text": [
      "c:\\Users\\smend\\miniconda3\\envs\\stevens\\Lib\\site-packages\\torch\\_utils.py:831: UserWarning: TypedStorage is deprecated. It will be removed in the future and UntypedStorage will be the only storage class. This should only matter to you if you are using storages directly.  To access UntypedStorage directly, use tensor.untyped_storage() instead of tensor.storage()\n",
      "  return self.fget.__get__(instance, owner)()\n"
     ]
    }
   ],
   "source": [
    "embeddings = HuggingFaceEmbeddings(model_name=\"all-MiniLM-L6-v2\")"
   ]
  },
  {
   "cell_type": "code",
   "execution_count": 7,
   "metadata": {},
   "outputs": [],
   "source": [
    "text_splitter = RecursiveCharacterTextSplitter(chunk_size=800, chunk_overlap=200)\n",
    "splits = text_splitter.split_documents(docs)\n",
    "vectorstore = Chroma.from_documents(documents=splits, embedding=embeddings)"
   ]
  },
  {
   "cell_type": "code",
   "execution_count": 8,
   "metadata": {},
   "outputs": [
    {
     "data": {
      "text/plain": [
       "ChatPromptTemplate(input_variables=['context', 'question'], messages=[HumanMessagePromptTemplate(prompt=PromptTemplate(input_variables=['context', 'question'], template=\"You are an assistant for question-answering tasks. Use the following pieces of retrieved context to answer the question. If you don't know the answer, just say that you don't know. Use three sentences maximum and keep the answer concise.\\nQuestion: {question} \\nContext: {context} \\nAnswer:\"))])"
      ]
     },
     "execution_count": 8,
     "metadata": {},
     "output_type": "execute_result"
    }
   ],
   "source": [
    "# Retrieve and generate using the relevant snippets of the blog.\n",
    "retriever = vectorstore.as_retriever(search_type=\"similarity\", search_kwargs={\"k\": 6})\n",
    "prompt = hub.pull(\"rlm/rag-prompt\")\n",
    "prompt"
   ]
  },
  {
   "cell_type": "code",
   "execution_count": 9,
   "metadata": {},
   "outputs": [
    {
     "data": {
      "text/plain": [
       "ChatPromptTemplate(input_variables=['context', 'question'], messages=[SystemMessagePromptTemplate(prompt=PromptTemplate(input_variables=[], template='You are an assistant for question-answering tasks related to Stevens Institute Of Technology.')), HumanMessagePromptTemplate(prompt=PromptTemplate(input_variables=['context', 'question'], template=\" \\n        Use the following pieces of retrieved context to answer the question.\\n        If you don't know the answer, just say that you don't know.\\n        If the topic is related to a course then ensure to mention to course numbers and display the result as a table.\\n        Answer in markdown format and render tables without code \\n        Question: {question}\\n        Context: {context}\\n        Answer:\"))])"
      ]
     },
     "execution_count": 9,
     "metadata": {},
     "output_type": "execute_result"
    }
   ],
   "source": [
    "from langchain_core.prompts import ChatPromptTemplate\n",
    "\n",
    "chat_template = ChatPromptTemplate.from_messages(\n",
    "    [   \n",
    "        (\"system\", \"You are an assistant for question-answering tasks related to Stevens Institute Of Technology.\"),\n",
    "        (\"human\", \"\"\" \n",
    "        Use the following pieces of retrieved context to answer the question.\n",
    "        If you don't know the answer, just say that you don't know.\n",
    "        If the topic is related to a course then ensure to mention to course numbers and display the result as a table.\n",
    "        Answer in markdown format and render tables without code \n",
    "        Question: {question}\n",
    "        Context: {context}\n",
    "        Answer:\"\"\"),\n",
    "    ]\n",
    ")\n",
    "chat_template"
   ]
  },
  {
   "cell_type": "code",
   "execution_count": 10,
   "metadata": {},
   "outputs": [],
   "source": [
    "def format_docs(docs):\n",
    "    return \"\\n\\n\".join(doc.page_content for doc in docs)\n",
    "\n",
    "# rag_chain = (\n",
    "#     { \"context\": retriever | format_docs, \"question\": RunnablePassthrough()}\n",
    "#     | prompt\n",
    "#     | llm\n",
    "#     | StrOutputParser()\n",
    "# )"
   ]
  },
  {
   "cell_type": "code",
   "execution_count": 11,
   "metadata": {},
   "outputs": [],
   "source": [
    "from langchain_core.runnables import RunnableParallel\n",
    "\n",
    "rag_chain_from_docs = (\n",
    "    RunnablePassthrough.assign(context=(lambda x: format_docs(x[\"context\"])))\n",
    "    | prompt\n",
    "    | llm\n",
    "    | StrOutputParser()\n",
    ")\n",
    "\n",
    "rag_chain_with_source = RunnableParallel(\n",
    "    {\"context\": retriever, \"question\": RunnablePassthrough()}\n",
    ").assign(answer=rag_chain_from_docs)"
   ]
  },
  {
   "cell_type": "code",
   "execution_count": 13,
   "metadata": {},
   "outputs": [],
   "source": [
    "response = rag_chain_with_source.invoke(\"What are the core courses  for MS in Machine Learning?\")"
   ]
  },
  {
   "cell_type": "code",
   "execution_count": 14,
   "metadata": {},
   "outputs": [
    {
     "data": {
      "text/plain": [
       "{'context': [Document(page_content='The machine learning certificate program provides a practical foundation that is necessary to be at the forefront deep learning theory. The highly focused curriculum allows you to apply or develop the appropriate skills for real-world applications. All students must take CS 559 Machine Learning: Fundamentals & Applications and then choose three additional courses from the list below.\\n\\nCOURSE #\\n\\nCOURSE NAME\\n\\nCS 559\\n\\nMachine Learning: Fundamentals & Applications\\n\\nCS 541\\n\\nArtificial Intelligence\\n\\nCS 560\\n\\nStatistical Machine Learning\\n\\nCS 582\\n\\nCausal Inference\\n\\nCS 583\\n\\nDeep Learning\\n\\nCS 584\\n\\nNatural Language Processing\\n\\nProgram Director:\\n\\nEduardo Bonelli\\n\\n(c)\\n\\n2024\\n\\nStevens Institute of Technology', metadata={'source': '..\\\\data\\\\text files\\\\https_  www.stevens.edu program Machine-Learning-Graduate-Certificate.txt'}),\n",
       "  Document(page_content=\"View General Admissions Requirements >\\n\\nCoursework in the Data Science program is supplemented by rigorous research requirements that challenge students to discover creative solutions to problems in data analysis and computer science. As you work to create original, substantial research for your dissertation, you'll be supported by faculty advisors from both the business and engineering schools at Stevens, a tremendous advantage in helping you prepare for a research career. A distinguishing feature of the curriculum is its flexibility. Core courses support the four pillars of the program -- mathematical and statistical modeling, machine learning and A.I., computational systems, and data management -- while students select a concentration that aligns with their career interests.\", metadata={'source': '..\\\\data\\\\text files\\\\https_  www.stevens.edu program data-science-phd.txt'}),\n",
       "  Document(page_content='Prerequisite\\n\\n: Undergrad linear algebra and probability OR CS 556\\n\\nIn this course we will talk about the foundational principles that drive machine learning applications and practice implementing machine learning algorithms. Specific topics include supervised learning, unsupervised learning, neural networks, and graphical models. The main goal of the course is to equip you with the tools to tackle new ML problems you might encounter in life.\\n\\nPrerequisite\\n\\n:\\n\\nUndergrad linear algebra and probability OR CS 556\\n\\nChoose at least 2 from this list to fulfill the core course requirements:', metadata={'source': '..\\\\data\\\\text files\\\\https_  www.stevens.edu program machine-learning-masters-ses-grad-online.txt'}),\n",
       "  Document(page_content=\"Our exceptional Machine Learning Master's program offers a comprehensive curriculum that not only establishes a solid foundation in theoretical concepts but also ensures practical proficiency. You will gain an in-depth understanding of deep learning theory and become well-versed in the most important paradigms. This knowledge will empower you to apply existing methods or develop new approaches for real-world applications. Whether you aspire to pursue a career in industry, academia, or research, our program prepares you to excel in your chosen path.\\n\\nBelow is a suggested term-by-term sequence of courses:\", metadata={'source': '..\\\\data\\\\text files\\\\https_  www.stevens.edu program machine-learning-masters-ses-grad-online.txt'}),\n",
       "  Document(page_content='In this course we will talk about the foundational principles that drive machine learning applications and practice implementing machine learning algorithms. Specific topics include supervised learning, unsupervised learning, neural networks, and graphical models. The main goal of the course is to equip you with the tools to tackle new ML problems you might encounter in life.', metadata={'source': '..\\\\data\\\\text files\\\\https_  www.stevens.edu program Robotics-masters-ses-grad-online.txt'}),\n",
       "  Document(page_content='1 mathematical foundation course (3 credits)\\n\\n4 core courses (12 credits)\\n\\n3 concentration courses in a chosen concentration (9 credits)\\n\\n2 elective courses (6 credits)\\n\\nEmbedded Systems\\n\\nSoftware and Data Engineering\\n\\nNetworks and Security\\n\\nArtificial Intelligence\\n\\n(c)\\n\\n2024\\n\\nStevens Institute of Technology', metadata={'source': '..\\\\data\\\\text files\\\\https_  www.stevens.edu program mba-and-m-e-or-m-s-in-computer-engineering-dual-degree-masters-program.txt'})],\n",
       " 'question': 'What are the core courses  for MS in Machine Learning?',\n",
       " 'answer': 'The core courses for the MS in Machine Learning include the mandatory course CS 559 Machine Learning: Fundamentals & Applications, and students must then choose three additional courses from the following options: CS 541 Artificial Intelligence, CS 560 Statistical Machine Learning, CS 582 Causal Inference, CS 583 Deep Learning, and CS 584 Natural Language Processing.'}"
      ]
     },
     "execution_count": 14,
     "metadata": {},
     "output_type": "execute_result"
    }
   ],
   "source": [
    "response"
   ]
  },
  {
   "cell_type": "code",
   "execution_count": 15,
   "metadata": {},
   "outputs": [
    {
     "data": {
      "text/markdown": [
       "> The core courses for the MS in Machine Learning include the mandatory course CS 559 Machine Learning: Fundamentals & Applications, and students must then choose three additional courses from the following options: CS 541 Artificial Intelligence, CS 560 Statistical Machine Learning, CS 582 Causal Inference, CS 583 Deep Learning, and CS 584 Natural Language Processing."
      ],
      "text/plain": [
       "<IPython.core.display.Markdown object>"
      ]
     },
     "execution_count": 15,
     "metadata": {},
     "output_type": "execute_result"
    }
   ],
   "source": [
    "to_markdown(response[\"answer\"])"
   ]
  },
  {
   "cell_type": "code",
   "execution_count": 24,
   "metadata": {},
   "outputs": [],
   "source": [
    "# cleanup\n",
    "vectorstore.delete_collection()"
   ]
  },
  {
   "cell_type": "code",
   "execution_count": null,
   "metadata": {},
   "outputs": [],
   "source": []
  }
 ],
 "metadata": {
  "kernelspec": {
   "display_name": "stevens",
   "language": "python",
   "name": "python3"
  },
  "language_info": {
   "codemirror_mode": {
    "name": "ipython",
    "version": 3
   },
   "file_extension": ".py",
   "mimetype": "text/x-python",
   "name": "python",
   "nbconvert_exporter": "python",
   "pygments_lexer": "ipython3",
   "version": "3.11.5"
  }
 },
 "nbformat": 4,
 "nbformat_minor": 2
}
