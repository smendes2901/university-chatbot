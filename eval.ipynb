{
 "cells": [
  {
   "cell_type": "code",
   "execution_count": 52,
   "id": "initial_id",
   "metadata": {
    "collapsed": true,
    "ExecuteTime": {
     "end_time": "2024-05-10T19:22:21.328288Z",
     "start_time": "2024-05-10T19:22:21.086867Z"
    }
   },
   "outputs": [],
   "source": [
    "from evaluate import load \n",
    "import spacy\n",
    "import numpy as np\n",
    "nlp = spacy.load('en_core_web_sm')"
   ]
  },
  {
   "cell_type": "code",
   "execution_count": 2,
   "outputs": [],
   "source": [
    "bertscore = load(\"bertscore\")\n",
    "# result = bertscore.compute(predictions=predictions, references = real, model_type=\"distilbert-base-uncased\")"
   ],
   "metadata": {
    "collapsed": false,
    "ExecuteTime": {
     "end_time": "2024-05-10T19:16:02.896146Z",
     "start_time": "2024-05-10T19:16:01.733866Z"
    }
   },
   "id": "fc87986ff5e31ab6"
  },
  {
   "cell_type": "code",
   "execution_count": 3,
   "outputs": [],
   "source": [
    "rogue = load('rouge')"
   ],
   "metadata": {
    "collapsed": false,
    "ExecuteTime": {
     "end_time": "2024-05-10T19:16:03.578542Z",
     "start_time": "2024-05-10T19:16:02.896736Z"
    }
   },
   "id": "30ede785a865ff6b"
  },
  {
   "cell_type": "code",
   "execution_count": 23,
   "outputs": [],
   "source": [
    "# global variables \n",
    "human_answer_list = []\n",
    "model_answer_list = []"
   ],
   "metadata": {
    "collapsed": false,
    "ExecuteTime": {
     "end_time": "2024-05-10T19:17:46.790671Z",
     "start_time": "2024-05-10T19:17:46.786224Z"
    }
   },
   "id": "54ebd0a6eea9c9b6"
  },
  {
   "cell_type": "code",
   "execution_count": 24,
   "outputs": [],
   "source": [
    "# rogue.compute(predictions=predictions, references=real, use_aggregator=True)"
   ],
   "metadata": {
    "collapsed": false,
    "ExecuteTime": {
     "end_time": "2024-05-10T19:17:47.470432Z",
     "start_time": "2024-05-10T19:17:47.462803Z"
    }
   },
   "id": "bd822dda23152d00"
  },
  {
   "cell_type": "markdown",
   "source": [],
   "metadata": {
    "collapsed": false
   },
   "id": "6458a5570477a51b"
  },
  {
   "cell_type": "code",
   "execution_count": 25,
   "outputs": [],
   "source": [
    "def cal_metrics(predictions, real): \n",
    "    print(\"bertscore metrics\")\n",
    "    print(bertscore.compute(predictions=predictions, references = real, model_type=\"distilbert-base-uncased\"))\n",
    "    print(\"rouge metrics\")\n",
    "    print(rogue.compute(predictions=predictions, references=real, use_aggregator=True))\n",
    "    "
   ],
   "metadata": {
    "collapsed": false,
    "ExecuteTime": {
     "end_time": "2024-05-10T19:17:48.296039Z",
     "start_time": "2024-05-10T19:17:48.291222Z"
    }
   },
   "id": "e2906e66552c3958"
  },
  {
   "cell_type": "code",
   "execution_count": 26,
   "outputs": [],
   "source": [
    "def preprocess(tokens):\n",
    "    new_str = ''\n",
    "    for token in tokens:\n",
    "        if token.is_stop or token.is_punct:\n",
    "            continue\n",
    "        new_str += str(token) + ' '\n",
    "    return new_str\n",
    "\n",
    "def get_metrics(human_answer, model_answer):\n",
    "    tokens = nlp(human_answer.lower())\n",
    "    human_answer_str = preprocess(tokens)\n",
    "    tokens = nlp(model_answer.lower())\n",
    "    model_answer_str = preprocess(tokens)\n",
    "    human_answer_list.append(human_answer_str)\n",
    "    model_answer_list.append(model_answer_str)\n",
    "    cal_metrics(real= [human_answer_str], predictions=[model_answer_str] )\n",
    "    "
   ],
   "metadata": {
    "collapsed": false,
    "ExecuteTime": {
     "end_time": "2024-05-10T19:17:48.904634Z",
     "start_time": "2024-05-10T19:17:48.898548Z"
    }
   },
   "id": "210eb3d1a021c8f3"
  },
  {
   "cell_type": "markdown",
   "source": [
    "# evaluation of metrics \n",
    "Question 1: What are the core courses to take in MS in Machine Learning?"
   ],
   "metadata": {
    "collapsed": false
   },
   "id": "8d5edf4da82989f9"
  },
  {
   "cell_type": "markdown",
   "source": [
    "LLAMA answer: \n",
    "Core Courses (Complete Four)\tCredits\n",
    "CS 541 Artificial Intelligence\t3\n",
    "CS 559 Machine Learning: Fundamentals and Applications\t3\n",
    "CS 560 Statistical Machine Learning\t3\n",
    "CS 583 Deep Learning\t3\n",
    "CS 584 Natural Language Processing\t3"
   ],
   "metadata": {
    "collapsed": false
   },
   "id": "1f8ef3f5a8c2d568"
  },
  {
   "cell_type": "markdown",
   "source": [
    "Actual answer: \n",
    "Complete any 4\n",
    "Artificial Intelligence - 3 credits - CS 541\n",
    "Machine Learning: Fundamentals and Applications - 3 credits - CS 559\n",
    "Statistical Machine Learning - 3 credits - CS 560\n",
    "Deep Learning - 3 credits - CS 583\n",
    "Natural Language Processing - 3 credits - CS 584"
   ],
   "metadata": {
    "collapsed": false
   },
   "id": "3f1a60cae42c4c92"
  },
  {
   "cell_type": "code",
   "execution_count": 27,
   "outputs": [],
   "source": [
    "model_answer = '''\n",
    "Core Courses (Complete Four)\tCredits\n",
    "CS 541 Artificial Intelligence\t3\n",
    "CS 559 Machine Learning: Fundamentals and Applications\t3\n",
    "CS 560 Statistical Machine Learning\t3\n",
    "CS 583 Deep Learning\t3\n",
    "CS 584 Natural Language Processing\t3\n",
    "'''\n",
    "human_answer = '''\n",
    "Complete any 4\n",
    "Artificial Intelligence - 3 credits - CS 541\n",
    "Machine Learning: Fundamentals and Applications - 3 credits - CS 559\n",
    "Statistical Machine Learning - 3 credits - CS 560\n",
    "Deep Learning - 3 credits - CS 583\n",
    "Natural Language Processing - 3 credits - CS 584\n",
    "'''\n"
   ],
   "metadata": {
    "collapsed": false,
    "ExecuteTime": {
     "end_time": "2024-05-10T19:17:52.908590Z",
     "start_time": "2024-05-10T19:17:52.904484Z"
    }
   },
   "id": "fe0b8d8ed20f6c01"
  },
  {
   "cell_type": "code",
   "execution_count": 28,
   "outputs": [
    {
     "name": "stdout",
     "output_type": "stream",
     "text": [
      "bertscore metrics\n",
      "{'precision': [0.9518266916275024], 'recall': [0.9394102096557617], 'f1': [0.9455777406692505], 'hashcode': 'distilbert-base-uncased_L5_no-idf_version=0.3.12(hug_trans=4.39.0.dev0)'}\n",
      "rouge metrics\n",
      "{'rouge1': 0.8985507246376813, 'rouge2': 0.5970149253731343, 'rougeL': 0.6956521739130435, 'rougeLsum': 0.6086956521739131}\n"
     ]
    }
   ],
   "source": [
    "get_metrics(human_answer, model_answer)"
   ],
   "metadata": {
    "collapsed": false,
    "ExecuteTime": {
     "end_time": "2024-05-10T19:17:54.386526Z",
     "start_time": "2024-05-10T19:17:54.280605Z"
    }
   },
   "id": "4ac38dfd2cebbd82"
  },
  {
   "cell_type": "markdown",
   "source": [
    "# question 2"
   ],
   "metadata": {
    "collapsed": false
   },
   "id": "1628dd67369e9741"
  },
  {
   "cell_type": "markdown",
   "source": [
    "What are the core Electives an MS in Machine Learning student can take?"
   ],
   "metadata": {
    "collapsed": false
   },
   "id": "10a8ff4e3ace9a1f"
  },
  {
   "cell_type": "markdown",
   "source": [
    "Model answer: \n",
    "The core electives an MS in Machine Learning student can take at Stevens Institute of Technology are as follows:\n",
    "Course Number\tCourse Name\tCredits\n",
    "CS 513\tKnowledge Discovery and Data Mining\t3\n",
    "CS 532\t3D Computer Vision\t3\n",
    "CS 544\tHealth Informatics\t3\n",
    "CS 556\tMathematical Foundations of Machine Learning\t3\n",
    "CS 558\tComputer Vision\t3\n",
    "CS 582\tCausal Inference\t3\n",
    "CS 589\tText Mining and Information Retrieval\t3\n",
    "CS 598\tVisual Information Retrieval\t3\n",
    "CS 609\tData Management and Exploration on the Web\t3\n",
    "BIA 654\tExperimental Design II\t3\n",
    "BIA 660\tWeb Mining\t3\n",
    "BIA 662\tAugmented Intelligence and Generative AI\t3\n",
    "BIA 678\tBig Data Technologies\t3\n",
    "CPE 608\tApplied Modeling and Optimization\t3\n",
    "CPE 695\tApplied Machine Learning\t3\n",
    "FE 541\tApplied Statistics with Applications in Finance\t3\n",
    "MA 541\tStatistical Methods\t3\n",
    "MA 630\tAdvanced Optimization Methods\t3\n",
    "MA 641\tTime Series Analysis I\t3\n",
    "MA 661\tDynamic Programming and Reinforcement Learning\t3\n",
    "CS 800\tSpecial Problems in Computer Science (M.S.)\t1-6\n",
    "CS 900\tThesis in Computer Science (M.S.)\t1-10"
   ],
   "metadata": {
    "collapsed": false
   },
   "id": "3699731da81fbe8c"
  },
  {
   "cell_type": "markdown",
   "source": [
    "real answer: \n",
    "CS 513 - Knowledge Discovery and Data Mining - 3 credits\n",
    "CS 532 - 3D Computer Vision - 3 credits\n",
    "CS 544 - Health Informatics - 3 credits\n",
    "CS 556 - Mathematical Foundations of Machine Learning - 3 credits\n",
    "CS 558 - Computer Vision - 3 credits\n",
    "CS 582 - Causal Inference - 3 credits\n",
    "CS 589 - Text Mining and Information Retrieval - 3 credits\n",
    "CS 598 - Visual Information Retrieval - 3 credits\n",
    "CS 609 - Data Management and Exploration on the Web - 3 credits\n",
    "BIA 654 - Experimental Design II - 3 credits\n",
    "BIA 660 - Web Mining - 3 credits\n",
    "BIA 662 - Augmented Intelligence and Generative AI - 3 credits\n",
    "BIA 678 - Big Data Technologies - 3 credits\n",
    "CPE 608 - Applied Modeling and Optimization - 3 credits\n",
    "CPE 695 - Applied Machine Learning - 3 credits\n",
    "FE 541 - Applied Statistics with Applications in Finance - 3 credits\n",
    "MA 541 - Statistical Methods - 3 credits\n",
    "MA 630 - Advanced Optimization Methods - 3 credits\n",
    "MA 641 - Time Series Analysis I - 3 credits\n",
    "MA 661 - Dynamic Programming and Reinforcement Learning - 3 credits\n",
    "CS 800 - Special Problems in Computer Science (M.S.) - 1-6 credits\n",
    "CS 900 - Thesis in Computer Science (M.S.) - 1-10 credits"
   ],
   "metadata": {
    "collapsed": false
   },
   "id": "5d1a92e5b23808de"
  },
  {
   "cell_type": "code",
   "execution_count": 32,
   "outputs": [],
   "source": [
    "model_answer = '''\n",
    "The core electives an MS in Machine Learning student can take at Stevens Institute of Technology are as follows:\n",
    "Course Number\tCourse Name\tCredits\n",
    "CS 513\tKnowledge Discovery and Data Mining\t3\n",
    "CS 532\t3D Computer Vision\t3\n",
    "CS 544\tHealth Informatics\t3\n",
    "CS 556\tMathematical Foundations of Machine Learning\t3\n",
    "CS 558\tComputer Vision\t3\n",
    "CS 582\tCausal Inference\t3\n",
    "CS 589\tText Mining and Information Retrieval\t3\n",
    "CS 598\tVisual Information Retrieval\t3\n",
    "CS 609\tData Management and Exploration on the Web\t3\n",
    "BIA 654\tExperimental Design II\t3\n",
    "BIA 660\tWeb Mining\t3\n",
    "BIA 662\tAugmented Intelligence and Generative AI\t3\n",
    "BIA 678\tBig Data Technologies\t3\n",
    "CPE 608\tApplied Modeling and Optimization\t3\n",
    "CPE 695\tApplied Machine Learning\t3\n",
    "FE 541\tApplied Statistics with Applications in Finance\t3\n",
    "MA 541\tStatistical Methods\t3\n",
    "MA 630\tAdvanced Optimization Methods\t3\n",
    "MA 641\tTime Series Analysis I\t3\n",
    "MA 661\tDynamic Programming and Reinforcement Learning\t3\n",
    "CS 800\tSpecial Problems in Computer Science (M.S.)\t1-6\n",
    "CS 900\tThesis in Computer Science (M.S.)\t1-10\n",
    "'''\n",
    "human_answer = '''\n",
    "course number course name credits\n",
    "CS 513 - Knowledge Discovery and Data Mining - 3 credits\n",
    "CS 532 - 3D Computer Vision - 3 credits\n",
    "CS 544 - Health Informatics - 3 credits\n",
    "CS 556 - Mathematical Foundations of Machine Learning - 3 credits\n",
    "CS 558 - Computer Vision - 3 credits\n",
    "CS 582 - Causal Inference - 3 credits\n",
    "CS 589 - Text Mining and Information Retrieval - 3 credits\n",
    "CS 598 - Visual Information Retrieval - 3 credits\n",
    "CS 609 - Data Management and Exploration on the Web - 3 credits\n",
    "BIA 654 - Experimental Design II - 3 credits\n",
    "BIA 660 - Web Mining - 3 credits\n",
    "BIA 662 - Augmented Intelligence and Generative AI - 3 credits\n",
    "BIA 678 - Big Data Technologies - 3 credits\n",
    "CPE 608 - Applied Modeling and Optimization - 3 credits\n",
    "CPE 695 - Applied Machine Learning - 3 credits\n",
    "FE 541 - Applied Statistics with Applications in Finance - 3 credits\n",
    "MA 541 - Statistical Methods - 3 credits\n",
    "MA 630 - Advanced Optimization Methods - 3 credits\n",
    "MA 641 - Time Series Analysis I - 3 credits\n",
    "MA 661 - Dynamic Programming and Reinforcement Learning - 3 credits\n",
    "CS 800 - Special Problems in Computer Science (M.S.) - 1-6 credits\n",
    "CS 900 - Thesis in Computer Science (M.S.) - 1-10 credits\n",
    "'''"
   ],
   "metadata": {
    "collapsed": false,
    "ExecuteTime": {
     "end_time": "2024-05-10T19:18:13.697860Z",
     "start_time": "2024-05-10T19:18:13.694773Z"
    }
   },
   "id": "fc60716c3c88ebe4"
  },
  {
   "cell_type": "code",
   "execution_count": 33,
   "outputs": [
    {
     "name": "stdout",
     "output_type": "stream",
     "text": [
      "bertscore metrics\n",
      "{'precision': [0.9576182961463928], 'recall': [0.9459123015403748], 'f1': [0.9517292976379395], 'hashcode': 'distilbert-base-uncased_L5_no-idf_version=0.3.12(hug_trans=4.39.0.dev0)'}\n",
      "rouge metrics\n",
      "{'rouge1': 0.9006211180124223, 'rouge2': 0.7687500000000002, 'rougeL': 0.9006211180124223, 'rougeLsum': 0.9006211180124223}\n"
     ]
    }
   ],
   "source": [
    "get_metrics(human_answer, model_answer)"
   ],
   "metadata": {
    "collapsed": false,
    "ExecuteTime": {
     "end_time": "2024-05-10T19:18:14.838431Z",
     "start_time": "2024-05-10T19:18:14.633842Z"
    }
   },
   "id": "256ed9e511de81af"
  },
  {
   "cell_type": "markdown",
   "source": [
    "# Question 3"
   ],
   "metadata": {
    "collapsed": false
   },
   "id": "d59a7b37597be545"
  },
  {
   "cell_type": "markdown",
   "source": [
    "What is the pre requisite of the course CS 559?"
   ],
   "metadata": {
    "collapsed": false
   },
   "id": "8cd84f5585372e9d"
  },
  {
   "cell_type": "markdown",
   "source": [
    "model answer: The prerequisite for the course CS 559 Machine Learning: Fundamentals and Applications is either (MA 222 and MA 232) or CS 556, and the student must be a Graduate Student or have a standing of Junior or Senior."
   ],
   "metadata": {
    "collapsed": false
   },
   "id": "c349a54399ee8ff5"
  },
  {
   "cell_type": "markdown",
   "source": [
    "Real answer: CS 556 Mathematical Foundations of Machine Learning "
   ],
   "metadata": {
    "collapsed": false
   },
   "id": "9377b711237e6e39"
  },
  {
   "cell_type": "code",
   "execution_count": 35,
   "outputs": [],
   "source": [
    "model_answer = '''\n",
    "The prerequisite for the course CS 559 Machine Learning: Fundamentals and Applications is either (MA 222 and MA 232) or CS 556, and the student must be a Graduate Student or have a standing of Junior or Senior.\n",
    "'''\n",
    "human_answer = '''\n",
    "CS 556 Mathematical Foundations of Machine Learning \n",
    "'''"
   ],
   "metadata": {
    "collapsed": false,
    "ExecuteTime": {
     "end_time": "2024-05-10T19:18:25.418987Z",
     "start_time": "2024-05-10T19:18:25.409417Z"
    }
   },
   "id": "c887931daf4f713f"
  },
  {
   "cell_type": "code",
   "execution_count": 36,
   "outputs": [
    {
     "name": "stdout",
     "output_type": "stream",
     "text": [
      "bertscore metrics\n",
      "{'precision': [0.7598074674606323], 'recall': [0.8714374303817749], 'f1': [0.8118029236793518], 'hashcode': 'distilbert-base-uncased_L5_no-idf_version=0.3.12(hug_trans=4.39.0.dev0)'}\n",
      "rouge metrics\n",
      "{'rouge1': 0.30769230769230765, 'rouge2': 0.16666666666666666, 'rougeL': 0.23076923076923075, 'rougeLsum': 0.23076923076923075}\n"
     ]
    }
   ],
   "source": [
    "get_metrics(human_answer, model_answer)"
   ],
   "metadata": {
    "collapsed": false,
    "ExecuteTime": {
     "end_time": "2024-05-10T19:18:25.678958Z",
     "start_time": "2024-05-10T19:18:25.593043Z"
    }
   },
   "id": "2ed8cb4f4f3d45e7"
  },
  {
   "cell_type": "markdown",
   "source": [
    "# Question 4"
   ],
   "metadata": {
    "collapsed": false
   },
   "id": "35f5dd0545ef8746"
  },
  {
   "cell_type": "markdown",
   "source": [
    "What is the course CS 513 about?"
   ],
   "metadata": {
    "collapsed": false
   },
   "id": "dddefc3ffd5c25ce"
  },
  {
   "cell_type": "markdown",
   "source": [
    "model answer: CS 513, Knowledge Discovery and Data Mining, is a course that introduces fundamental and practical tools, techniques, and algorithms for Knowledge Discovery and Data Mining (KD&DM). It provides a balanced approach between methods and practice, covering techniques for transforming corporate data into business intelligence, including online Analytical Processing (OLAP) Systems, Artificial Neural Networks (ANN), Rule-Based Systems (RBS), Fuzzy Logic (FL), Machine Learning (ML), Classification Trees (C4.5 Algorithm), and Classification and Regression Trees (CART Algorithm). The course also includes case studies from real-world applications to demonstrate the application of these techniques to real-world problems. The course is worth 3 credits and is typically offered in both the Fall and Spring semesters. It is available to graduate students or those who are at least juniors in their undergraduate studies. The course is part of the Computer Science Program."
   ],
   "metadata": {
    "collapsed": false
   },
   "id": "e6c7d81be7e0448b"
  },
  {
   "cell_type": "markdown",
   "source": [
    "Human Answer: \n",
    "The course \"Knowledge Discovery and Data Mining (KDDM)\" offers a comprehensive exploration of essential tools, techniques, and algorithms for extracting actionable insights from vast datasets. With a focus on both theory and practical application, it equips students with a robust understanding of transforming corporate data into valuable business intelligence. Key methodologies covered include Online Analytical Processing (OLAP) Systems, Artificial Neural Networks (ANN), Rule-Based Systems (RBS), Fuzzy Logic (FL), and various Machine Learning (ML) algorithms such as Classification Trees (C4.5 Algorithm) and Classification and Regression Trees (CART Algorithm). Through engaging case studies derived from real-world applications, students gain hands-on experience in applying these techniques to tackle real-world challenges. With a credit value of 3, this course is offered periodically during both Fall and Spring semesters, and it is designed for graduate students or those at least at a junior level. It is an integral part of the Computer Science Program, contributing to the development of skills crucial for navigating the data-driven landscapes of today's industries."
   ],
   "metadata": {
    "collapsed": false
   },
   "id": "5ea8f26a9aece2e9"
  },
  {
   "cell_type": "code",
   "execution_count": 37,
   "outputs": [],
   "source": [
    "model_answer = '''\n",
    " CS 513, Knowledge Discovery and Data Mining, is a course that introduces fundamental and practical tools, techniques, and algorithms for Knowledge Discovery and Data Mining (KD&DM). It provides a balanced approach between methods and practice, covering techniques for transforming corporate data into business intelligence, including online Analytical Processing (OLAP) Systems, Artificial Neural Networks (ANN), Rule-Based Systems (RBS), Fuzzy Logic (FL), Machine Learning (ML), Classification Trees (C4.5 Algorithm), and Classification and Regression Trees (CART Algorithm). The course also includes case studies from real-world applications to demonstrate the application of these techniques to real-world problems. The course is worth 3 credits and is typically offered in both the Fall and Spring semesters. It is available to graduate students or those who are at least juniors in their undergraduate studies. The course is part of the Computer Science Program.\n",
    "'''\n",
    "human_answer = '''\n",
    "The course \"Knowledge Discovery and Data Mining (KDDM)\" offers a comprehensive exploration of essential tools, techniques, and algorithms for extracting actionable insights from vast datasets. With a focus on both theory and practical application, it equips students with a robust understanding of transforming corporate data into valuable business intelligence. Key methodologies covered include Online Analytical Processing (OLAP) Systems, Artificial Neural Networks (ANN), Rule-Based Systems (RBS), Fuzzy Logic (FL), and various Machine Learning (ML) algorithms such as Classification Trees (C4.5 Algorithm) and Classification and Regression Trees (CART Algorithm). Through engaging case studies derived from real-world applications, students gain hands-on experience in applying these techniques to tackle real-world challenges. With a credit value of 3, this course is offered periodically during both Fall and Spring semesters, and it is designed for graduate students or those at least at a junior level. It is an integral part of the Computer Science Program, contributing to the development of skills crucial for navigating the data-driven landscapes of today's industries.\n",
    "'''"
   ],
   "metadata": {
    "collapsed": false,
    "ExecuteTime": {
     "end_time": "2024-05-10T19:18:26.364908Z",
     "start_time": "2024-05-10T19:18:26.362324Z"
    }
   },
   "id": "45f632d28bf12338"
  },
  {
   "cell_type": "code",
   "execution_count": 38,
   "outputs": [
    {
     "name": "stdout",
     "output_type": "stream",
     "text": [
      "bertscore metrics\n",
      "{'precision': [0.9235627055168152], 'recall': [0.8932241201400757], 'f1': [0.9081401228904724], 'hashcode': 'distilbert-base-uncased_L5_no-idf_version=0.3.12(hug_trans=4.39.0.dev0)'}\n",
      "rouge metrics\n",
      "{'rouge1': 0.6274509803921569, 'rouge2': 0.43564356435643564, 'rougeL': 0.5784313725490197, 'rougeLsum': 0.5784313725490197}\n"
     ]
    }
   ],
   "source": [
    "get_metrics(human_answer, model_answer)"
   ],
   "metadata": {
    "collapsed": false,
    "ExecuteTime": {
     "end_time": "2024-05-10T19:18:26.680510Z",
     "start_time": "2024-05-10T19:18:26.519404Z"
    }
   },
   "id": "24ace786445dfde1"
  },
  {
   "cell_type": "markdown",
   "source": [
    "# Question 5"
   ],
   "metadata": {
    "collapsed": false
   },
   "id": "5648e935d5f337d4"
  },
  {
   "cell_type": "markdown",
   "source": [
    "Can I, an MS in Machine Learning student take the course BIA-613 as my core subject?"
   ],
   "metadata": {
    "collapsed": false
   },
   "id": "6e125e3beb7600d9"
  },
  {
   "cell_type": "markdown",
   "source": [
    "Model answer:\n",
    "No, as an MS in Machine Learning student, you cannot take BIA-613 as a core subject. BIA-613 is not listed under the Machine Learning Core Requirements or Machine Learning Core Electives Requirements for the MS in Machine Learning program. However, you may be able to take it as a general elective, as the program allows for 3 general electives which can be any graduate course.\n",
    "Course Number\tCourse Name\tCredits\tCan be taken as Core Subject?\n",
    "BIA-613\tNot Listed\tNot Listed\tNo\n",
    "Please consult with your academic advisor to confirm if you can include BIA-613 as a general elective in your study plan."
   ],
   "metadata": {
    "collapsed": false
   },
   "id": "2b03a4d3a522c772"
  },
  {
   "cell_type": "markdown",
   "source": [
    "Human_answer: No BIA-613 is not a core for Machine Learning and it cannot be taken as a core subject. However it can be completed by a MS in Machine Learning student as a general Elective"
   ],
   "metadata": {
    "collapsed": false
   },
   "id": "da3464aa0de56e49"
  },
  {
   "cell_type": "code",
   "execution_count": 39,
   "outputs": [],
   "source": [
    "model_answer = '''\n",
    "No, as an MS in Machine Learning student, you cannot take BIA-613 as a core subject. BIA-613 is not listed under the Machine Learning Core Requirements or Machine Learning Core Electives Requirements for the MS in Machine Learning program. However, you may be able to take it as a general elective, as the program allows for 3 general electives which can be any graduate course.\n",
    "Course Number\tCourse Name\tCredits\tCan be taken as Core Subject?\n",
    "BIA-613\tNot Listed\tNot Listed\tNo\n",
    "Please consult with your academic advisor to confirm if you can include BIA-613 as a general elective in your study plan.\n",
    "'''\n",
    "human_answer = '''\n",
    "No BIA-613 is not a core for Machine Learning and it cannot be taken as a core subject. However it can be completed by a MS in Machine Learning student as a general Elective\n",
    "'''"
   ],
   "metadata": {
    "collapsed": false,
    "ExecuteTime": {
     "end_time": "2024-05-10T19:18:27.291683Z",
     "start_time": "2024-05-10T19:18:27.289745Z"
    }
   },
   "id": "9098d3fcfc5a43d7"
  },
  {
   "cell_type": "code",
   "execution_count": 40,
   "outputs": [
    {
     "name": "stdout",
     "output_type": "stream",
     "text": [
      "bertscore metrics\n",
      "{'precision': [0.8424991369247437], 'recall': [0.8956612944602966], 'f1': [0.8682672381401062], 'hashcode': 'distilbert-base-uncased_L5_no-idf_version=0.3.12(hug_trans=4.39.0.dev0)'}\n",
      "rouge metrics\n",
      "{'rouge1': 0.39436619718309857, 'rouge2': 0.2608695652173913, 'rougeL': 0.30985915492957744, 'rougeLsum': 0.3661971830985915}\n"
     ]
    }
   ],
   "source": [
    "get_metrics(human_answer, model_answer)"
   ],
   "metadata": {
    "collapsed": false,
    "ExecuteTime": {
     "end_time": "2024-05-10T19:18:27.571196Z",
     "start_time": "2024-05-10T19:18:27.453253Z"
    }
   },
   "id": "74bba4e6ca6a8259"
  },
  {
   "cell_type": "markdown",
   "source": [
    "# Question 6"
   ],
   "metadata": {
    "collapsed": false
   },
   "id": "549db3a6140ee5c5"
  },
  {
   "cell_type": "markdown",
   "source": [
    "question: If an MS in machine learning student takes the course CPE-695 will it count as one of their core electives?"
   ],
   "metadata": {
    "collapsed": false
   },
   "id": "d72e3c53632fcba"
  },
  {
   "cell_type": "markdown",
   "source": [
    "model asnwer: \n",
    "Course Number\tCourse Name\tCredits\tCounts as Core Elective\n",
    "CPE 695\tApplied Machine Learning\t3\tYes"
   ],
   "metadata": {
    "collapsed": false
   },
   "id": "d8310c4ad4b6855d"
  },
  {
   "cell_type": "markdown",
   "source": [
    "Human answer: Yes CPE 695 Applied Machine Learning is a core elective course for Machine learning students "
   ],
   "metadata": {
    "collapsed": false
   },
   "id": "ab0cddae7d7228f3"
  },
  {
   "cell_type": "code",
   "execution_count": 41,
   "outputs": [],
   "source": [
    "human_answer = '''\n",
    "Yes CPE 695 Applied Machine Learning is a core elective course for Machine learning students\n",
    "'''\n",
    "model_answer = '''\n",
    "Course Number\tCourse Name\tCredits\tCounts as Core Elective\n",
    "CPE 695\tApplied Machine Learning\t3\tYes\n",
    "'''"
   ],
   "metadata": {
    "collapsed": false,
    "ExecuteTime": {
     "end_time": "2024-05-10T19:18:28.264065Z",
     "start_time": "2024-05-10T19:18:28.260776Z"
    }
   },
   "id": "b530bb083ca12faf"
  },
  {
   "cell_type": "code",
   "execution_count": 42,
   "outputs": [
    {
     "name": "stdout",
     "output_type": "stream",
     "text": [
      "bertscore metrics\n",
      "{'precision': [0.9064874649047852], 'recall': [0.9362907409667969], 'f1': [0.9211480617523193], 'hashcode': 'distilbert-base-uncased_L5_no-idf_version=0.3.12(hug_trans=4.39.0.dev0)'}\n",
      "rouge metrics\n",
      "{'rouge1': 0.6923076923076924, 'rouge2': 0.41666666666666663, 'rougeL': 0.3846153846153846, 'rougeLsum': 0.5384615384615384}\n"
     ]
    }
   ],
   "source": [
    "get_metrics(human_answer, model_answer)"
   ],
   "metadata": {
    "collapsed": false,
    "ExecuteTime": {
     "end_time": "2024-05-10T19:18:28.514332Z",
     "start_time": "2024-05-10T19:18:28.426670Z"
    }
   },
   "id": "ae2469dc5c77e171"
  },
  {
   "cell_type": "markdown",
   "source": [
    "# Getting metrics for all the questions"
   ],
   "metadata": {
    "collapsed": false
   },
   "id": "cd85723a13c66c3a"
  },
  {
   "cell_type": "markdown",
   "source": [
    "## Averaging out all the metrics across all the questions "
   ],
   "metadata": {
    "collapsed": false
   },
   "id": "3823c6373840b302"
  },
  {
   "cell_type": "code",
   "execution_count": 46,
   "outputs": [],
   "source": [
    "bertscore = bertscore.compute(predictions=model_answer_list, references = human_answer_list, model_type=\"distilbert-base-uncased\")"
   ],
   "metadata": {
    "collapsed": false,
    "ExecuteTime": {
     "start_time": "2024-05-10T19:20:13.508378Z"
    }
   },
   "id": "1758eff243e7549"
  },
  {
   "cell_type": "code",
   "execution_count": 47,
   "outputs": [],
   "source": [
    "roguescore = rogue.compute(predictions=model_answer_list, references=human_answer_list, use_aggregator=True)"
   ],
   "metadata": {
    "collapsed": false,
    "ExecuteTime": {
     "start_time": "2024-05-10T19:20:34.744344Z"
    }
   },
   "id": "9c81b79c20e2ab6c"
  },
  {
   "cell_type": "code",
   "execution_count": 55,
   "outputs": [],
   "source": [
    "for keys, value in bertscore.items(): \n",
    "    if keys == 'hashcode': \n",
    "        continue\n",
    "    bertscore[keys] = np.array(value).mean()"
   ],
   "metadata": {
    "collapsed": false,
    "ExecuteTime": {
     "end_time": "2024-05-10T19:22:52.031707Z",
     "start_time": "2024-05-10T19:22:52.021336Z"
    }
   },
   "id": "a961197509ec505b"
  },
  {
   "cell_type": "code",
   "execution_count": 56,
   "outputs": [
    {
     "data": {
      "text/plain": "{'precision': 0.8903003136316935,\n 'recall': 0.9136560161908468,\n 'f1': 0.9011108974615732,\n 'hashcode': 'distilbert-base-uncased_L5_no-idf_version=0.3.12(hug_trans=4.39.0.dev0)'}"
     },
     "execution_count": 56,
     "metadata": {},
     "output_type": "execute_result"
    }
   ],
   "source": [
    "bertscore"
   ],
   "metadata": {
    "collapsed": false,
    "ExecuteTime": {
     "end_time": "2024-05-10T19:22:59.163295Z",
     "start_time": "2024-05-10T19:22:59.152732Z"
    }
   },
   "id": "f796c25d02c5e03"
  },
  {
   "cell_type": "code",
   "execution_count": 49,
   "outputs": [
    {
     "data": {
      "text/plain": "{'rouge1': 0.6409600629549479,\n 'rouge2': 0.4396070669485832,\n 'rougeL': 0.5105538470510914,\n 'rougeLsum': 0.5345682088684862}"
     },
     "execution_count": 49,
     "metadata": {},
     "output_type": "execute_result"
    }
   ],
   "source": [
    "roguescore"
   ],
   "metadata": {
    "collapsed": false,
    "ExecuteTime": {
     "end_time": "2024-05-10T19:21:05.791744Z",
     "start_time": "2024-05-10T19:21:05.767593Z"
    }
   },
   "id": "ae0bf439ae2ba92d"
  },
  {
   "cell_type": "code",
   "execution_count": null,
   "outputs": [],
   "source": [],
   "metadata": {
    "collapsed": false
   },
   "id": "3cfc4f14ef38c92b"
  }
 ],
 "metadata": {
  "kernelspec": {
   "display_name": "Python 3",
   "language": "python",
   "name": "python3"
  },
  "language_info": {
   "codemirror_mode": {
    "name": "ipython",
    "version": 2
   },
   "file_extension": ".py",
   "mimetype": "text/x-python",
   "name": "python",
   "nbconvert_exporter": "python",
   "pygments_lexer": "ipython2",
   "version": "2.7.6"
  }
 },
 "nbformat": 4,
 "nbformat_minor": 5
}
