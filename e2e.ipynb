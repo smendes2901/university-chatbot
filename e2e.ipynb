{
 "cells": [
  {
   "cell_type": "markdown",
   "metadata": {},
   "source": [
    "# Import packages"
   ]
  },
  {
   "cell_type": "code",
   "execution_count": 1,
   "metadata": {},
   "outputs": [],
   "source": [
    "import json\n",
    "from chains.common import CommonChain\n",
    "from chains.program import ProgramChain\n",
    "from chains.course import CourseChain\n",
    "from chains.default import DefaultChain\n",
    "from embedding import initialize_embeddings\n",
    "from models import initialize_llm\n",
    "from router import PromptRouter\n",
    "from utils import to_markdown"
   ]
  },
  {
   "cell_type": "markdown",
   "metadata": {},
   "source": [
    "# Initialize models"
   ]
  },
  {
   "cell_type": "code",
   "execution_count": 2,
   "metadata": {},
   "outputs": [],
   "source": [
    "llm = initialize_llm(\"gpt4\")\n",
    "embeddings = initialize_embeddings()"
   ]
  },
  {
   "cell_type": "markdown",
   "metadata": {},
   "source": [
    "# Initialize Chains "
   ]
  },
  {
   "cell_type": "code",
   "execution_count": 3,
   "metadata": {},
   "outputs": [
    {
     "name": "stdout",
     "output_type": "stream",
     "text": [
      "5778\n"
     ]
    }
   ],
   "source": [
    "chain_info = json.load(open(\"chains/chain_info.json\"))\n",
    "\n",
    "chains = {\n",
    "    \"financing_a_stevens_education\": CommonChain(\n",
    "        \"financing_a_stevens_education\", embeddings\n",
    "    ),\n",
    "    \"tuition_fees_and_other_expenses_for_undergraduate_students\": CommonChain(\n",
    "        \"tuition_fees_and_other_expenses_for_undergraduate_students\", embeddings\n",
    "    ),\n",
    "    \"tuition_fees_and_other_expenses_for_graduate_students\": CommonChain(\n",
    "        \"tuition_fees_and_other_expenses_for_graduate_students\", embeddings\n",
    "    ),\n",
    "    \"student_life_at_stevens\": CommonChain(\"student_life_at_stevens\", embeddings),\n",
    "    \"student_services_at_stevens\": CommonChain(\n",
    "        \"student_services_at_stevens\", embeddings\n",
    "    ),\n",
    "    \"graduate_education_at_stevens\": CommonChain(\n",
    "        \"graduate_education_at_stevens\", embeddings\n",
    "    ),\n",
    "    \"undergraduate_education_at_stevens\": CommonChain(\n",
    "        \"undergraduate_education_at_stevens\", embeddings\n",
    "    ),\n",
    "    \"program_info_at_stevens\": ProgramChain(\"department_info\", embeddings),\n",
    "    \"off_campus_employment\": CommonChain(\"off_campus_employment\", embeddings),\n",
    "    \"course_info\": CourseChain(\"course_info\", embeddings),\n",
    "}\n",
    "\n",
    "print(chains[\"course_info\"].vectorstore._collection.count())"
   ]
  },
  {
   "cell_type": "markdown",
   "metadata": {},
   "source": [
    "# Initialize Prompt Router"
   ]
  },
  {
   "cell_type": "code",
   "execution_count": 4,
   "metadata": {},
   "outputs": [],
   "source": [
    "router = PromptRouter(llm=llm, chain_info=chain_info)"
   ]
  },
  {
   "cell_type": "code",
   "execution_count": 5,
   "metadata": {},
   "outputs": [],
   "source": [
    "prompt = \"What are the core courses to take in MS in Machine Learning?\" #This can vary based on user input"
   ]
  },
  {
   "cell_type": "markdown",
   "metadata": {},
   "source": [
    "# Route to correct chain"
   ]
  },
  {
   "cell_type": "code",
   "execution_count": 6,
   "metadata": {},
   "outputs": [
    {
     "name": "stdout",
     "output_type": "stream",
     "text": [
      "Selected Chain Name: program_info_at_stevens\n"
     ]
    }
   ],
   "source": [
    "chain_name = router.get_chain_name(prompt=prompt)\n",
    "print(\"Selected Chain Name:\", chain_name)"
   ]
  },
  {
   "cell_type": "markdown",
   "metadata": {},
   "source": [
    "# Send the prompt via the chain to generate the output"
   ]
  },
  {
   "cell_type": "code",
   "execution_count": 7,
   "metadata": {},
   "outputs": [
    {
     "data": {
      "text/markdown": [
       "> The core courses to take in the MS in Machine Learning at Stevens Institute of Technology are as follows:\n",
       "> \n",
       "> | Course Number | Course Title                                      | Credits |\n",
       "> |---------------|---------------------------------------------------|---------|\n",
       "> | CS 541        | Artificial Intelligence                           | 3       |\n",
       "> | CS 559        | Machine Learning: Fundamentals and Applications   | 3       |\n",
       "> | CS 560        | Statistical Machine Learning                      | 3       |\n",
       "> | CS 583        | Deep Learning                                     | 3       |\n",
       "> | CS 584        | Natural Language Processing                       | 3       |\n",
       "> \n",
       "> Students must complete four out of the five courses listed above."
      ],
      "text/plain": [
       "<IPython.core.display.Markdown object>"
      ]
     },
     "execution_count": 7,
     "metadata": {},
     "output_type": "execute_result"
    }
   ],
   "source": [
    "curr_chain = chains.get(chain_name, DefaultChain())\n",
    "\n",
    "response = curr_chain.process_prompt(llm, prompt=prompt)\n",
    "to_markdown(response[\"answer\"])"
   ]
  },
  {
   "cell_type": "code",
   "execution_count": null,
   "metadata": {},
   "outputs": [],
   "source": []
  }
 ],
 "metadata": {
  "kernelspec": {
   "display_name": "stevens",
   "language": "python",
   "name": "python3"
  },
  "language_info": {
   "codemirror_mode": {
    "name": "ipython",
    "version": 3
   },
   "file_extension": ".py",
   "mimetype": "text/x-python",
   "name": "python",
   "nbconvert_exporter": "python",
   "pygments_lexer": "ipython3",
   "version": "3.11.5"
  }
 },
 "nbformat": 4,
 "nbformat_minor": 2
}
