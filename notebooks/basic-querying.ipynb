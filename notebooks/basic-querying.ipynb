{
 "cells": [
  {
   "cell_type": "code",
   "execution_count": 7,
   "metadata": {},
   "outputs": [],
   "source": [
    "import os \n",
    "import sys\n",
    "base_dir = os.path.abspath('')\n",
    "curr_dir = os.path.dirname(base_dir)\n",
    "if not curr_dir in sys.path: sys.path.append(curr_dir)"
   ]
  },
  {
   "cell_type": "code",
   "execution_count": 8,
   "metadata": {},
   "outputs": [],
   "source": [
    "from langchain_openai import ChatOpenAI\n",
    "\n",
    "llm = ChatOpenAI(model=\"gpt-4-1106-preview\")"
   ]
  },
  {
   "cell_type": "code",
   "execution_count": 9,
   "metadata": {},
   "outputs": [],
   "source": [
    "import bs4\n",
    "from langchain import hub\n",
    "from langchain_community.document_loaders import WebBaseLoader, DirectoryLoader\n",
    "from langchain_chroma import Chroma\n",
    "from langchain_core.output_parsers import StrOutputParser\n",
    "from langchain_core.documents import Document\n",
    "from langchain_core.runnables import RunnablePassthrough\n",
    "from langchain_openai import OpenAIEmbeddings\n",
    "from langchain_community.embeddings import HuggingFaceEmbeddings\n",
    "from langchain_text_splitters import RecursiveCharacterTextSplitter"
   ]
  },
  {
   "cell_type": "code",
   "execution_count": 10,
   "metadata": {},
   "outputs": [],
   "source": [
    "from glob import glob\n",
    "from utils import to_markdown\n",
    "from urllib.parse import urlparse\n",
    "from collections import defaultdict\n",
    "from utils import to_markdown"
   ]
  },
  {
   "cell_type": "code",
   "execution_count": 11,
   "metadata": {},
   "outputs": [],
   "source": [
    "def contains_course_info(url):\n",
    "    url_prased = urlparse(url)\n",
    "    return len(url_prased.path.split(\"/\"))>5"
   ]
  },
  {
   "cell_type": "code",
   "execution_count": 14,
   "metadata": {},
   "outputs": [
    {
     "name": "stdout",
     "output_type": "stream",
     "text": [
      "3434\n"
     ]
    }
   ],
   "source": [
    "files = []\n",
    "with open(\"../stevens_scraper/crawled_urls.txt\") as fp:\n",
    "    for line in fp:\n",
    "        files.append(line.strip())\n",
    "files = list(map(lambda x: x.lower(), files))\n",
    "files = list(set(files))\n",
    "files = list(filter(lambda file: \"narrative-courses\" not in file, files))\n",
    "files = list(filter(lambda file: \"javascript\" not in file, files))\n",
    "files = list(filter(lambda file: \".pdf\" not in file, files))\n",
    "files = list(filter(lambda file: \".aspx\" not in file, files))\n",
    "files = list(filter(lambda file: \"degree-programs2\" not in file, files))\n",
    "files = list(filter(lambda file: \"2023-2024\" in file, files))\n",
    "files = list(filter(lambda file: \"#middle\" not in file, files))\n",
    "files = list(filter(contains_course_info , files))\n",
    "print(len(files))\n",
    "\n",
    "with open(\"../stevens_scraper/crawled_urls_v1.txt\", \"w+\") as fp:\n",
    "    fp.write(\"\\n\".join(sorted(files, key=len)))"
   ]
  },
  {
   "cell_type": "code",
   "execution_count": 15,
   "metadata": {},
   "outputs": [],
   "source": [
    "primary = defaultdict(list)\n",
    "for url in files:\n",
    "    url_prased = urlparse(url.lower())\n",
    "    cat = url_prased.path.replace(\"/en/2023-2024/academic-catalog/\", \"\").split(\"/\")[0]\n",
    "    primary[cat].append(url)"
   ]
  },
  {
   "cell_type": "code",
   "execution_count": 16,
   "metadata": {},
   "outputs": [],
   "source": [
    "school_department_keys = [\n",
    "    \"school-of-business\",\n",
    "    \"department-of-chemical-engineering-and-materials-science\",\n",
    "    \"department-of-electrical-and-computer-engineering\",\n",
    "    \"department-of-mathematical-sciences\",\n",
    "    \"department-of-chemistry-and-chemical-biology\",\n",
    "    \"department-of-computer-science\",\n",
    "    \"department-of-civil-environmental-and-ocean-engineering\",\n",
    "    \"department-of-mechanical-engineering\",\n",
    "    \"department-of-physics\",\n",
    "    \"school-of-systems-and-enterprises\",\n",
    "    \"schaefer-school-of-engineering-and-science\",\n",
    "    \"department-of-biomedical-engineering\",\n",
    "    \"school-of-humanities-arts-and-social-sciences\"\n",
    "]"
   ]
  },
  {
   "cell_type": "code",
   "execution_count": 17,
   "metadata": {},
   "outputs": [
    {
     "name": "stdout",
     "output_type": "stream",
     "text": [
      "courses 2889\n",
      "financing-a-stevens-education 44\n",
      "undergraduate-education 77\n",
      "student-services 26\n",
      "graduate-education 24\n",
      "tuition-fees-and-other-expenses-for-graduate-students 5\n",
      "tuition-fees-and-other-expenses-for-undergraduate-students 5\n",
      "student-life 6\n",
      "academic-integrity 2\n"
     ]
    }
   ],
   "source": [
    "for key in primary.keys():\n",
    "    if key not in school_department_keys and key:\n",
    "        print(key, len(primary[key]))"
   ]
  },
  {
   "cell_type": "code",
   "execution_count": 18,
   "metadata": {},
   "outputs": [
    {
     "data": {
      "text/plain": [
       "['https://stevens.smartcatalogiq.com/en/2023-2024/academic-catalog/graduate-education/copy-of-applying-for-admissions',\n",
       " 'https://stevens.smartcatalogiq.com/en/2023-2024/academic-catalog/graduate-education/graduate-procedures-and-requirements',\n",
       " 'https://stevens.smartcatalogiq.com/en/2023-2024/academic-catalog/graduate-education/graduate-procedures-and-requirements/academic-probation',\n",
       " 'https://stevens.smartcatalogiq.com/en/2023-2024/academic-catalog/graduate-education/graduate-procedures-and-requirements/academic-standing',\n",
       " 'https://stevens.smartcatalogiq.com/en/2023-2024/academic-catalog/graduate-education/graduate-procedures-and-requirements/course-options',\n",
       " 'https://stevens.smartcatalogiq.com/en/2023-2024/academic-catalog/graduate-education/graduate-procedures-and-requirements/course-options/auditing-courses',\n",
       " 'https://stevens.smartcatalogiq.com/en/2023-2024/academic-catalog/graduate-education/graduate-procedures-and-requirements/course-options/course-by-application',\n",
       " 'https://stevens.smartcatalogiq.com/en/2023-2024/academic-catalog/graduate-education/graduate-procedures-and-requirements/course-options/dropping-withdrawing-from-courses',\n",
       " 'https://stevens.smartcatalogiq.com/en/2023-2024/academic-catalog/graduate-education/graduate-procedures-and-requirements/course-options/special-problems-course',\n",
       " 'https://stevens.smartcatalogiq.com/en/2023-2024/academic-catalog/graduate-education/graduate-procedures-and-requirements/course-options/taking-graduate-course-as-an-undergraduate-student',\n",
       " 'https://stevens.smartcatalogiq.com/en/2023-2024/academic-catalog/graduate-education/graduate-procedures-and-requirements/english-language-proficiency-requirements-for-international-students',\n",
       " 'https://stevens.smartcatalogiq.com/en/2023-2024/academic-catalog/graduate-education/graduate-procedures-and-requirements/english-language-proficiency-requirements-for-international-students/english-language-communication-elc-courses',\n",
       " 'https://stevens.smartcatalogiq.com/en/2023-2024/academic-catalog/graduate-education/graduate-procedures-and-requirements/english-language-proficiency-requirements-for-international-students/english-language-communication-elc-courses/elc-71-language-and-communication-in-academic-contexts-6-hours-4-credits',\n",
       " 'https://stevens.smartcatalogiq.com/en/2023-2024/academic-catalog/graduate-education/graduate-procedures-and-requirements/english-language-proficiency-requirements-for-international-students/english-language-communication-elc-courses/elc-81-writing-and-speaking-for-academic-purposes-i-4-hours-2-credits',\n",
       " 'https://stevens.smartcatalogiq.com/en/2023-2024/academic-catalog/graduate-education/graduate-procedures-and-requirements/english-language-proficiency-requirements-for-international-students/english-language-communication-elc-courses/elc-91-writing-and-speaking-for-academic-purposes-ii-4-hours-2-credits',\n",
       " 'https://stevens.smartcatalogiq.com/en/2023-2024/academic-catalog/graduate-education/graduate-procedures-and-requirements/grade-appeal',\n",
       " 'https://stevens.smartcatalogiq.com/en/2023-2024/academic-catalog/graduate-education/graduate-procedures-and-requirements/grade-changes',\n",
       " 'https://stevens.smartcatalogiq.com/en/2023-2024/academic-catalog/graduate-education/graduate-procedures-and-requirements/grade-point-average',\n",
       " 'https://stevens.smartcatalogiq.com/en/2023-2024/academic-catalog/graduate-education/graduate-procedures-and-requirements/grading',\n",
       " 'https://stevens.smartcatalogiq.com/en/2023-2024/academic-catalog/graduate-education/graduate-procedures-and-requirements/graduation-requirements',\n",
       " 'https://stevens.smartcatalogiq.com/en/2023-2024/academic-catalog/graduate-education/graduate-procedures-and-requirements/leave-of-absence',\n",
       " 'https://stevens.smartcatalogiq.com/en/2023-2024/academic-catalog/graduate-education/graduate-procedures-and-requirements/non-matriculated-students',\n",
       " 'https://stevens.smartcatalogiq.com/en/2023-2024/academic-catalog/graduate-education/graduate-procedures-and-requirements/special-grades',\n",
       " 'https://stevens.smartcatalogiq.com/en/2023-2024/academic-catalog/graduate-education/graduate-procedures-and-requirements/transferring-credits']"
      ]
     },
     "execution_count": 18,
     "metadata": {},
     "output_type": "execute_result"
    }
   ],
   "source": [
    "sorted(primary[\"graduate-education\"])"
   ]
  },
  {
   "cell_type": "code",
   "execution_count": 20,
   "metadata": {},
   "outputs": [],
   "source": [
    "with open(\"../stevens_scraper/tuition-fees-and-other-expenses-for-undergraduate-students.txt\", \"a\") as fp:\n",
    "    fp.write(\"\\n\".join(primary[\"tuition-fees-and-other-expenses-for-undergraduate-students\"]))"
   ]
  },
  {
   "cell_type": "code",
   "execution_count": 21,
   "metadata": {},
   "outputs": [],
   "source": [
    "import pandas as pd\n",
    "df = pd.read_csv(\"../data/financing-a-stevens-education.csv\")"
   ]
  },
  {
   "cell_type": "code",
   "execution_count": 22,
   "metadata": {},
   "outputs": [],
   "source": [
    "assert df.shape[0]==df[\"url\"].str.endswith(\"/\").sum()\n",
    "df[\"url\"] = df[\"url\"].apply(lambda x: x[:-1])\n",
    "df = df.set_index(\"url\")\n",
    "graduate_tuition_fees_info = df.to_dict(orient=\"index\")"
   ]
  },
  {
   "cell_type": "code",
   "execution_count": 23,
   "metadata": {},
   "outputs": [],
   "source": [
    "docs = [\n",
    "    Document(page_content=graduate_tuition_fees_info[doc][\"text\"])\n",
    "    for doc in graduate_tuition_fees_info\n",
    "]"
   ]
  },
  {
   "cell_type": "code",
   "execution_count": 24,
   "metadata": {},
   "outputs": [],
   "source": [
    "model_kwargs = {\n",
    "    \"trust_remote_code\": True,\n",
    "    # \"device\": \"cpu\"\n",
    "    }\n",
    "encode_kwargs={\"normalize_embeddings\": True}\n",
    "embeddings = HuggingFaceEmbeddings(model_name=\"sentence-transformers/all-mpnet-base-v2\", model_kwargs=model_kwargs, encode_kwargs=encode_kwargs)"
   ]
  },
  {
   "cell_type": "code",
   "execution_count": 26,
   "metadata": {},
   "outputs": [],
   "source": [
    "# text_splitter = RecursiveCharacterTextSplitter(chunk_size=1000, chunk_overlap=200)\n",
    "# splits = text_splitter.split_documents(docs)\n",
    "vectorstore = Chroma(collection_name=\"financing_a_stevens_education\", persist_directory=\"../data/chromadb\", embedding_function=embeddings)\n",
    "# vectorstore = Chroma.from_documents(documents=docs, embedding=embeddings)"
   ]
  },
  {
   "cell_type": "code",
   "execution_count": 27,
   "metadata": {},
   "outputs": [],
   "source": [
    "# Retrieve and generate using the relevant snippets of the blog.\n",
    "retriever = vectorstore.as_retriever(search_type=\"similarity\", search_kwargs={\"k\": 5})\n",
    "# prompt = hub.pull(\"rlm/rag-prompt\")\n",
    "# prompt"
   ]
  },
  {
   "cell_type": "code",
   "execution_count": 28,
   "metadata": {},
   "outputs": [
    {
     "data": {
      "text/plain": [
       "ChatPromptTemplate(input_variables=['context', 'question'], messages=[SystemMessagePromptTemplate(prompt=PromptTemplate(input_variables=[], template='You are an assistant for question-answering tasks related to Stevens Institute Of Technology.')), HumanMessagePromptTemplate(prompt=PromptTemplate(input_variables=['context', 'question'], template=\" \\n        Use the following pieces of retrieved context to answer the question.\\n        If you don't know the answer, just say that you don't know.\\n        If the topic is related to a course then ensure to mention to course numbers and display the result as a table.\\n        Answer in markdown format and render tables without code \\n        Question: {question}\\n        Context: {context}\\n        Answer:\"))])"
      ]
     },
     "execution_count": 28,
     "metadata": {},
     "output_type": "execute_result"
    }
   ],
   "source": [
    "from langchain_core.prompts import ChatPromptTemplate\n",
    "\n",
    "chat_template = ChatPromptTemplate.from_messages(\n",
    "    [   \n",
    "        (\"system\", \"You are an assistant for question-answering tasks related to Stevens Institute Of Technology.\"),\n",
    "        (\"human\", \"\"\" \n",
    "        Use the following pieces of retrieved context to answer the question.\n",
    "        If you don't know the answer, just say that you don't know.\n",
    "        If the topic is related to a course then ensure to mention to course numbers and display the result as a table.\n",
    "        Answer in markdown format and render tables without code \n",
    "        Question: {question}\n",
    "        Context: {context}\n",
    "        Answer:\"\"\"),\n",
    "    ]\n",
    ")\n",
    "chat_template"
   ]
  },
  {
   "cell_type": "code",
   "execution_count": 29,
   "metadata": {},
   "outputs": [],
   "source": [
    "def format_docs(docs):\n",
    "    return \"\\n\\n\".join(doc.page_content for doc in docs)\n",
    "\n",
    "# rag_chain = (\n",
    "#     { \"context\": retriever | format_docs, \"question\": RunnablePassthrough()}\n",
    "#     | prompt\n",
    "#     | llm\n",
    "#     | StrOutputParser()\n",
    "# )"
   ]
  },
  {
   "cell_type": "code",
   "execution_count": 30,
   "metadata": {},
   "outputs": [],
   "source": [
    "from langchain_core.runnables import RunnableParallel\n",
    "\n",
    "rag_chain_from_docs = (\n",
    "    RunnablePassthrough.assign(context=(lambda x: format_docs(x[\"context\"])))\n",
    "    | chat_template\n",
    "    | llm\n",
    "    | StrOutputParser()\n",
    ")\n",
    "\n",
    "rag_chain_with_source = RunnableParallel(\n",
    "    {\"context\": retriever, \"question\": RunnablePassthrough()}\n",
    ").assign(answer=rag_chain_from_docs)"
   ]
  },
  {
   "cell_type": "code",
   "execution_count": 31,
   "metadata": {},
   "outputs": [],
   "source": [
    "response = rag_chain_with_source.invoke(\"Give me details regarding financial aid for graduate students?\")"
   ]
  },
  {
   "cell_type": "code",
   "execution_count": 32,
   "metadata": {},
   "outputs": [
    {
     "data": {
      "text/markdown": [
       "> | Financial Aid Type | Description | Eligibility | Amount / Limits |\n",
       "> | --- | --- | --- | --- |\n",
       "> | Fellowships | Grants awarded to outstanding full-time graduate students on a competitive basis. | Consult department for details. | Varies |\n",
       "> | Assistantships | Includes Provost Masters Fellowship Awards, Research Assistantships, Teaching Assistantships, and Robert Crooks Stanley Graduate Fellowships. | Competitive basis for full-time graduate students. | Varies |\n",
       "> | On-Campus Employment | Opportunity to work on campus to assist with educational expenses. | Enrolled graduate students. | Varies |\n",
       "> | Employer Tuition Assistance | Plans provided by an employer to help pay for education. | Check with your employer for eligibility. | Varies |\n",
       "> | Loan Funds | Includes Federal Direct Unsubsidized Loans and Federal Direct Graduate PLUS loans. | Must be enrolled at least half-time; U.S. citizens or permanent residents only. | Up to $20,500 for Unsubsidized Loans; $138,500 aggregate limit. Interest rates vary. |\n",
       "> | Deferred Payment Plans | Allows students to defer payment of tuition. | Consult with the Office of Financial Aid for eligibility. | Varies |\n",
       "> | Federal Work-Study | Earn money while in school to help pay for educational expenses. | Must be enrolled at least half-time; U.S. citizens or permanent residents only. | $1,000 to $2,000 per academic year. |\n",
       "> | Graduate Grant | A form of financial aid that does not need to be repaid. | Consult with the Office of Financial Aid for eligibility. | Varies |\n",
       "> | FAFSA | Free Application for Federal Student Aid, used to determine eligibility for federal aid. | Must be a U.S. citizen or permanent resident. | Varies based on eligibility and need. |\n",
       "> | Federal Loans (Graduate PLUS) | Credit-based loan not need-based. Interest accrues upon disbursement. | Credit approval required; U.S. citizens or permanent residents only. | Fixed interest rate of 7.6% for the 2018-2019 year; loan fee of 4.248%. |\n",
       "> \n",
       "> Note: The provided interest rates and fees are for the 2018-2019 academic year and may have changed since then. For the most current rates and information, students should consult the Financial Aid office or official Stevens Institute of Technology resources."
      ],
      "text/plain": [
       "<IPython.core.display.Markdown object>"
      ]
     },
     "execution_count": 32,
     "metadata": {},
     "output_type": "execute_result"
    }
   ],
   "source": [
    "to_markdown(response[\"answer\"])"
   ]
  },
  {
   "cell_type": "code",
   "execution_count": 46,
   "metadata": {},
   "outputs": [],
   "source": [
    "# cleanup\n",
    "vectorstore.delete_collection()"
   ]
  },
  {
   "cell_type": "code",
   "execution_count": 4,
   "metadata": {},
   "outputs": [],
   "source": [
    "import json\n",
    "chain_info = json.load(open(\"../chains/chain_info.json\"))\n",
    "chain_info = dict((c[\"name\"], c[\"description\"]) for c in chain_info)\n",
    "chain_info"
   ]
  },
  {
   "cell_type": "code",
   "execution_count": 6,
   "metadata": {},
   "outputs": [
    {
     "data": {
      "text/plain": [
       "{'financing_a_stevens_education': 'This contains all the information in regards to helping students finance their education at Stevens by providing information regarding financing sources, institution financing programs, financial aid and state financing',\n",
       " 'tuition_fees_and_other_expenses_for_undergraduate_students': 'This contains all the information regarding tution fees and additional fees for undergraduate students',\n",
       " 'tuition_fees_and_other_expenses_for_graduate_students': 'This contains all the information regarding tution fees and additional fees for graduate students',\n",
       " 'student_life_at_stevens': 'This contains all the information regarding student services including sports, code of conduct and student government bodies',\n",
       " 'student_services_at_stevens': 'This contains all the information regarding academic tutoring, career guidance, counseling, disability accommodations, financial aid management, health services, and housing options to facilitate student success and well-being',\n",
       " 'graduate_education_at_stevens': 'This contains all the information regarding graduate student structured academic programs, admissions guidance, course options, grading policies, English proficiency support for international students, and procedures for academic standing and progression',\n",
       " 'undergraduate_education_at_stevens': 'This contains all the information regarding undergraduate student structured academic programs, admissions guidance, course options, grading policies, English proficiency support for international students, and procedures for academic standing and progression'}"
      ]
     },
     "execution_count": 6,
     "metadata": {},
     "output_type": "execute_result"
    }
   ],
   "source": []
  },
  {
   "cell_type": "code",
   "execution_count": null,
   "metadata": {},
   "outputs": [],
   "source": []
  }
 ],
 "metadata": {
  "kernelspec": {
   "display_name": "stevens",
   "language": "python",
   "name": "python3"
  },
  "language_info": {
   "codemirror_mode": {
    "name": "ipython",
    "version": 3
   },
   "file_extension": ".py",
   "mimetype": "text/x-python",
   "name": "python",
   "nbconvert_exporter": "python",
   "pygments_lexer": "ipython3",
   "version": "3.11.5"
  }
 },
 "nbformat": 4,
 "nbformat_minor": 2
}
