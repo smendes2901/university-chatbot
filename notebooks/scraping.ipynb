{
 "cells": [
  {
   "cell_type": "code",
   "execution_count": 1,
   "metadata": {},
   "outputs": [],
   "source": [
    "import requests\n",
    "from bs4 import BeautifulSoup\n",
    "import time\n",
    "import pandas as pd"
   ]
  },
  {
   "cell_type": "code",
   "execution_count": 2,
   "metadata": {},
   "outputs": [],
   "source": [
    "urls = []\n",
    "with open(\"../stevens_scraper/courses.txt\", \"r\") as fp:\n",
    "    for line in fp:\n",
    "        urls.append(line.strip())"
   ]
  },
  {
   "cell_type": "code",
   "execution_count": 3,
   "metadata": {},
   "outputs": [
    {
     "name": "stdout",
     "output_type": "stream",
     "text": [
      "processed 1\n",
      "processed 101\n",
      "processed 201\n",
      "processed 301\n",
      "processed 401\n",
      "processed 501\n",
      "processed 601\n",
      "processed 701\n",
      "processed 801\n",
      "processed 901\n",
      "processed 1001\n",
      "processed 1101\n",
      "processed 1201\n",
      "processed 1301\n",
      "processed 1401\n",
      "processed 1501\n",
      "processed 1601\n",
      "processed 1701\n",
      "processed 1801\n",
      "processed 1901\n",
      "processed 2001\n",
      "processed 2101\n",
      "processed 2201\n",
      "processed 2301\n",
      "processed 2401\n",
      "processed 2501\n",
      "processed 2601\n",
      "processed 2701\n",
      "processed 2801\n"
     ]
    }
   ],
   "source": [
    "url_info = {}\n",
    "for i, url in enumerate(urls):\n",
    "    try:\n",
    "        reqs = requests.get(url)\n",
    "        if reqs.status_code not in [404]:\n",
    "            soup = BeautifulSoup(reqs.text, 'html.parser')\n",
    "            text = soup.select_one(\"div#main\").text\n",
    "            url_info[reqs.url] = {\"text\": text, \"html\": reqs.text}\n",
    "            time.sleep(2)\n",
    "            if i%100==0:\n",
    "                print(f\"processed {i+1}\")\n",
    "    except Exception:\n",
    "        print(i, url, \"Skipped\")"
   ]
  },
  {
   "cell_type": "code",
   "execution_count": 5,
   "metadata": {},
   "outputs": [
    {
     "data": {
      "text/html": [
       "<div>\n",
       "<style scoped>\n",
       "    .dataframe tbody tr th:only-of-type {\n",
       "        vertical-align: middle;\n",
       "    }\n",
       "\n",
       "    .dataframe tbody tr th {\n",
       "        vertical-align: top;\n",
       "    }\n",
       "\n",
       "    .dataframe thead th {\n",
       "        text-align: right;\n",
       "    }\n",
       "</style>\n",
       "<table border=\"1\" class=\"dataframe\">\n",
       "  <thead>\n",
       "    <tr style=\"text-align: right;\">\n",
       "      <th></th>\n",
       "      <th>url</th>\n",
       "      <th>text</th>\n",
       "      <th>html</th>\n",
       "    </tr>\n",
       "  </thead>\n",
       "  <tbody>\n",
       "    <tr>\n",
       "      <th>0</th>\n",
       "      <td>https://stevens.smartcatalogiq.com/en/2023-202...</td>\n",
       "      <td>\\n\\nSYS 744 Advanced Data Analysis and Forecas...</td>\n",
       "      <td>\\r\\n&lt;!DOCTYPE html PUBLIC \"-//W3C//DTD XHTML 1...</td>\n",
       "    </tr>\n",
       "    <tr>\n",
       "      <th>1</th>\n",
       "      <td>https://stevens.smartcatalogiq.com/en/2023-202...</td>\n",
       "      <td>\\n\\nPME 540 Validation in Life Sciences Manufa...</td>\n",
       "      <td>\\r\\n&lt;!DOCTYPE html PUBLIC \"-//W3C//DTD XHTML 1...</td>\n",
       "    </tr>\n",
       "    <tr>\n",
       "      <th>2</th>\n",
       "      <td>https://stevens.smartcatalogiq.com/en/2023-202...</td>\n",
       "      <td>\\n\\nEE 448 Digital Signal Processing\\r\\n\\r\\n\\t...</td>\n",
       "      <td>\\r\\n&lt;!DOCTYPE html PUBLIC \"-//W3C//DTD XHTML 1...</td>\n",
       "    </tr>\n",
       "    <tr>\n",
       "      <th>3</th>\n",
       "      <td>https://stevens.smartcatalogiq.com/en/2023-202...</td>\n",
       "      <td>\\n\\nHSS 458 Sociology of Science and Technolog...</td>\n",
       "      <td>\\r\\n&lt;!DOCTYPE html PUBLIC \"-//W3C//DTD XHTML 1...</td>\n",
       "    </tr>\n",
       "    <tr>\n",
       "      <th>4</th>\n",
       "      <td>https://stevens.smartcatalogiq.com/en/2023-202...</td>\n",
       "      <td>\\n\\nMA 226 Multivariable Calculus II\\r\\n\\r\\n\\t...</td>\n",
       "      <td>\\r\\n&lt;!DOCTYPE html PUBLIC \"-//W3C//DTD XHTML 1...</td>\n",
       "    </tr>\n",
       "  </tbody>\n",
       "</table>\n",
       "</div>"
      ],
      "text/plain": [
       "                                                 url  \\\n",
       "0  https://stevens.smartcatalogiq.com/en/2023-202...   \n",
       "1  https://stevens.smartcatalogiq.com/en/2023-202...   \n",
       "2  https://stevens.smartcatalogiq.com/en/2023-202...   \n",
       "3  https://stevens.smartcatalogiq.com/en/2023-202...   \n",
       "4  https://stevens.smartcatalogiq.com/en/2023-202...   \n",
       "\n",
       "                                                text  \\\n",
       "0  \\n\\nSYS 744 Advanced Data Analysis and Forecas...   \n",
       "1  \\n\\nPME 540 Validation in Life Sciences Manufa...   \n",
       "2  \\n\\nEE 448 Digital Signal Processing\\r\\n\\r\\n\\t...   \n",
       "3  \\n\\nHSS 458 Sociology of Science and Technolog...   \n",
       "4  \\n\\nMA 226 Multivariable Calculus II\\r\\n\\r\\n\\t...   \n",
       "\n",
       "                                                html  \n",
       "0  \\r\\n<!DOCTYPE html PUBLIC \"-//W3C//DTD XHTML 1...  \n",
       "1  \\r\\n<!DOCTYPE html PUBLIC \"-//W3C//DTD XHTML 1...  \n",
       "2  \\r\\n<!DOCTYPE html PUBLIC \"-//W3C//DTD XHTML 1...  \n",
       "3  \\r\\n<!DOCTYPE html PUBLIC \"-//W3C//DTD XHTML 1...  \n",
       "4  \\r\\n<!DOCTYPE html PUBLIC \"-//W3C//DTD XHTML 1...  "
      ]
     },
     "execution_count": 5,
     "metadata": {},
     "output_type": "execute_result"
    }
   ],
   "source": [
    "df = pd.DataFrame.from_dict(url_info, orient=\"index\")\n",
    "df = df.reset_index()\n",
    "df.columns = [\"url\", \"text\", \"html\"]\n",
    "df.head()"
   ]
  },
  {
   "cell_type": "code",
   "execution_count": 6,
   "metadata": {},
   "outputs": [],
   "source": [
    "df.to_csv(\"../data/courses.csv\", index=False)"
   ]
  },
  {
   "cell_type": "code",
   "execution_count": 6,
   "metadata": {},
   "outputs": [],
   "source": [
    "df = pd.read_csv(\"data/tuition-fees-and-other-expenses-for-graduate-students.csv\")"
   ]
  },
  {
   "cell_type": "code",
   "execution_count": 7,
   "metadata": {},
   "outputs": [
    {
     "data": {
      "text/html": [
       "<div>\n",
       "<style scoped>\n",
       "    .dataframe tbody tr th:only-of-type {\n",
       "        vertical-align: middle;\n",
       "    }\n",
       "\n",
       "    .dataframe tbody tr th {\n",
       "        vertical-align: top;\n",
       "    }\n",
       "\n",
       "    .dataframe thead th {\n",
       "        text-align: right;\n",
       "    }\n",
       "</style>\n",
       "<table border=\"1\" class=\"dataframe\">\n",
       "  <thead>\n",
       "    <tr style=\"text-align: right;\">\n",
       "      <th></th>\n",
       "      <th>url</th>\n",
       "      <th>text</th>\n",
       "      <th>html</th>\n",
       "    </tr>\n",
       "  </thead>\n",
       "  <tbody>\n",
       "    <tr>\n",
       "      <th>0</th>\n",
       "      <td>https://stevens.smartcatalogiq.com/en/2023-202...</td>\n",
       "      <td>\\n\\r\\n\\tWithdrawals and Refunds\\r\\nStudents wh...</td>\n",
       "      <td>\\r\\n&lt;!DOCTYPE html PUBLIC \"-//W3C//DTD XHTML 1...</td>\n",
       "    </tr>\n",
       "    <tr>\n",
       "      <th>1</th>\n",
       "      <td>https://stevens.smartcatalogiq.com/en/2023-202...</td>\n",
       "      <td>\\n\\r\\n\\tTuition and Fees\\r\\nFall 2023 &amp; Spring...</td>\n",
       "      <td>\\r\\n&lt;!DOCTYPE html PUBLIC \"-//W3C//DTD XHTML 1...</td>\n",
       "    </tr>\n",
       "    <tr>\n",
       "      <th>2</th>\n",
       "      <td>https://stevens.smartcatalogiq.com/en/2023-202...</td>\n",
       "      <td>\\n\\r\\n\\tPayment Options\\r\\nPAYMENT POLICY\\nTui...</td>\n",
       "      <td>\\r\\n&lt;!DOCTYPE html PUBLIC \"-//W3C//DTD XHTML 1...</td>\n",
       "    </tr>\n",
       "    <tr>\n",
       "      <th>3</th>\n",
       "      <td>https://stevens.smartcatalogiq.com/en/2023-202...</td>\n",
       "      <td>\\n\\r\\n\\tStudent Housing and Meal Plans\\r\\nGrad...</td>\n",
       "      <td>\\r\\n&lt;!DOCTYPE html PUBLIC \"-//W3C//DTD XHTML 1...</td>\n",
       "    </tr>\n",
       "    <tr>\n",
       "      <th>4</th>\n",
       "      <td>https://stevens.smartcatalogiq.com/en/2023-202...</td>\n",
       "      <td>\\n\\r\\n\\tReturn of Title IV Funds\\r\\nFederal re...</td>\n",
       "      <td>\\r\\n&lt;!DOCTYPE html PUBLIC \"-//W3C//DTD XHTML 1...</td>\n",
       "    </tr>\n",
       "  </tbody>\n",
       "</table>\n",
       "</div>"
      ],
      "text/plain": [
       "                                                 url  \\\n",
       "0  https://stevens.smartcatalogiq.com/en/2023-202...   \n",
       "1  https://stevens.smartcatalogiq.com/en/2023-202...   \n",
       "2  https://stevens.smartcatalogiq.com/en/2023-202...   \n",
       "3  https://stevens.smartcatalogiq.com/en/2023-202...   \n",
       "4  https://stevens.smartcatalogiq.com/en/2023-202...   \n",
       "\n",
       "                                                text  \\\n",
       "0  \\n\\r\\n\\tWithdrawals and Refunds\\r\\nStudents wh...   \n",
       "1  \\n\\r\\n\\tTuition and Fees\\r\\nFall 2023 & Spring...   \n",
       "2  \\n\\r\\n\\tPayment Options\\r\\nPAYMENT POLICY\\nTui...   \n",
       "3  \\n\\r\\n\\tStudent Housing and Meal Plans\\r\\nGrad...   \n",
       "4  \\n\\r\\n\\tReturn of Title IV Funds\\r\\nFederal re...   \n",
       "\n",
       "                                                html  \n",
       "0  \\r\\n<!DOCTYPE html PUBLIC \"-//W3C//DTD XHTML 1...  \n",
       "1  \\r\\n<!DOCTYPE html PUBLIC \"-//W3C//DTD XHTML 1...  \n",
       "2  \\r\\n<!DOCTYPE html PUBLIC \"-//W3C//DTD XHTML 1...  \n",
       "3  \\r\\n<!DOCTYPE html PUBLIC \"-//W3C//DTD XHTML 1...  \n",
       "4  \\r\\n<!DOCTYPE html PUBLIC \"-//W3C//DTD XHTML 1...  "
      ]
     },
     "execution_count": 7,
     "metadata": {},
     "output_type": "execute_result"
    }
   ],
   "source": [
    "df.head()"
   ]
  },
  {
   "cell_type": "code",
   "execution_count": 9,
   "metadata": {},
   "outputs": [
    {
     "data": {
      "text/plain": [
       "'https://stevens.smartcatalogiq.com/en/2023-2024/academic-catalog/tuition-fees-and-other-expenses-for-graduate-students/payment-options/'"
      ]
     },
     "execution_count": 9,
     "metadata": {},
     "output_type": "execute_result"
    }
   ],
   "source": [
    "sample = df.iloc[2]\n",
    "sample[\"url\"]"
   ]
  },
  {
   "cell_type": "code",
   "execution_count": 28,
   "metadata": {},
   "outputs": [
    {
     "data": {
      "text/plain": [
       "(306, 3)"
      ]
     },
     "execution_count": 28,
     "metadata": {},
     "output_type": "execute_result"
    }
   ],
   "source": [
    "df.shape"
   ]
  },
  {
   "cell_type": "code",
   "execution_count": null,
   "metadata": {},
   "outputs": [],
   "source": []
  }
 ],
 "metadata": {
  "kernelspec": {
   "display_name": "stevens",
   "language": "python",
   "name": "python3"
  },
  "language_info": {
   "codemirror_mode": {
    "name": "ipython",
    "version": 3
   },
   "file_extension": ".py",
   "mimetype": "text/x-python",
   "name": "python",
   "nbconvert_exporter": "python",
   "pygments_lexer": "ipython3",
   "version": "3.11.5"
  }
 },
 "nbformat": 4,
 "nbformat_minor": 2
}
