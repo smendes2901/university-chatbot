{
 "cells": [
  {
   "cell_type": "code",
   "execution_count": 19,
   "metadata": {},
   "outputs": [],
   "source": [
    "from glob import glob\n",
    "from utils import to_markdown"
   ]
  },
  {
   "cell_type": "code",
   "execution_count": 20,
   "metadata": {},
   "outputs": [
    {
     "name": "stdout",
     "output_type": "stream",
     "text": [
      "186\n"
     ]
    },
    {
     "data": {
      "text/plain": [
       "['../data/text files\\\\https_  www.stevens.edu program accelerated-chemical-biology-bachelor-degree.txt',\n",
       " '../data/text files\\\\https_  www.stevens.edu program actuarial-mathematics-quantitative-risk-masters.txt',\n",
       " '../data/text files\\\\https_  www.stevens.edu program Advanced-Systems-Engineering-graduate-certificate.txt',\n",
       " '../data/text files\\\\https_  www.stevens.edu program algorithmic-trading-strategies.txt',\n",
       " '../data/text files\\\\https_  www.stevens.edu program analytics-mba-and-graduate-management-program-dual-degree-masters-program.txt',\n",
       " '../data/text files\\\\https_  www.stevens.edu program analytics-mba.txt',\n",
       " '../data/text files\\\\https_  www.stevens.edu program application-machine-learning-pharmaceutical-development-graduate-certificate.txt',\n",
       " '../data/text files\\\\https_  www.stevens.edu program applied-artificial-intelligence-masters-program-online.txt',\n",
       " '../data/text files\\\\https_  www.stevens.edu program applied-artificial-intelligence-masters.txt',\n",
       " '../data/text files\\\\https_  www.stevens.edu program applied-business-Analytics-certificate-ssb.txt',\n",
       " '../data/text files\\\\https_  www.stevens.edu program applied-mathematics-masters.txt',\n",
       " '../data/text files\\\\https_  www.stevens.edu program Artificial-Intelligence-Engineering-Design-Graduate-Certfificate.txt',\n",
       " '../data/text files\\\\https_  www.stevens.edu program biology-bachelor-degree.txt',\n",
       " '../data/text files\\\\https_  www.stevens.edu program Biomechanical-Engineering-Graduate-Certificate.txt',\n",
       " '../data/text files\\\\https_  www.stevens.edu program biomedical-engineering-bachelor-degree.txt',\n",
       " '../data/text files\\\\https_  www.stevens.edu program biomedical-engineering-masters.txt',\n",
       " '../data/text files\\\\https_  www.stevens.edu program biomedical-engineering-phd.txt',\n",
       " '../data/text files\\\\https_  www.stevens.edu program business-intelligence-analytics-masters-program.txt',\n",
       " '../data/text files\\\\https_  www.stevens.edu program business-intelligence-and-analytics-and-marketing-dual-masters-degree.txt',\n",
       " '../data/text files\\\\https_  www.stevens.edu program business-intelligence-and-analytics-and-mba-dual-degree-masters-program.txt',\n",
       " '../data/text files\\\\https_  www.stevens.edu program business-intelligence-and-analytics-certificate.txt',\n",
       " '../data/text files\\\\https_  www.stevens.edu program business-intelligence-and-analytics-masters-ssb-grad-online.txt',\n",
       " '../data/text files\\\\https_  www.stevens.edu program business-process-management-and-service-innovation.txt',\n",
       " '../data/text files\\\\https_  www.stevens.edu program chemical-biology-bachelor-degree.txt',\n",
       " '../data/text files\\\\https_  www.stevens.edu program chemical-biology-masters.txt',\n",
       " '../data/text files\\\\https_  www.stevens.edu program chemical-biology-phd.txt',\n",
       " '../data/text files\\\\https_  www.stevens.edu program chemical-engineering-bachelor-degree.txt',\n",
       " '../data/text files\\\\https_  www.stevens.edu program chemical-engineering-masters.txt',\n",
       " '../data/text files\\\\https_  www.stevens.edu program chemical-engineering-phd.txt',\n",
       " '../data/text files\\\\https_  www.stevens.edu program chemistry-bachelor-degree.txt',\n",
       " '../data/text files\\\\https_  www.stevens.edu program chemistry-masters.txt',\n",
       " '../data/text files\\\\https_  www.stevens.edu program chemistry-phd.txt',\n",
       " '../data/text files\\\\https_  www.stevens.edu program civil-engineering-bachelor-degree.txt',\n",
       " '../data/text files\\\\https_  www.stevens.edu program civil-engineering-doctoral-program.txt',\n",
       " '../data/text files\\\\https_  www.stevens.edu program civil-engineering-masters.txt',\n",
       " '../data/text files\\\\https_  www.stevens.edu program computer-engineering-bachelor-degree.txt',\n",
       " '../data/text files\\\\https_  www.stevens.edu program computer-engineering-masters-ses-grad-online.txt',\n",
       " '../data/text files\\\\https_  www.stevens.edu program computer-engineering-masters.txt',\n",
       " '../data/text files\\\\https_  www.stevens.edu program computer-engineering-phd.txt',\n",
       " '../data/text files\\\\https_  www.stevens.edu program computer-science-bachelor-degree.txt',\n",
       " '../data/text files\\\\https_  www.stevens.edu program computer-science-doctoral-program.txt',\n",
       " '../data/text files\\\\https_  www.stevens.edu program computer-science-masters.txt',\n",
       " '../data/text files\\\\https_  www.stevens.edu program construction-engineering-and-management-grad-online.txt',\n",
       " '../data/text files\\\\https_  www.stevens.edu program construction-engineering-management-masters.txt',\n",
       " '../data/text files\\\\https_  www.stevens.edu program corporate-innovation-and-leadership-ssb-grad.txt',\n",
       " '../data/text files\\\\https_  www.stevens.edu program cybersecurity-bachelor-degree.txt',\n",
       " '../data/text files\\\\https_  www.stevens.edu program cybersecurity-masters.txt',\n",
       " '../data/text files\\\\https_  www.stevens.edu program data-science-masters.txt',\n",
       " '../data/text files\\\\https_  www.stevens.edu program data-science-phd.txt',\n",
       " '../data/text files\\\\https_  www.stevens.edu program data-visualization-minor.txt',\n",
       " '../data/text files\\\\https_  www.stevens.edu program Databases-Graduate-Certificate.txt',\n",
       " '../data/text files\\\\https_  www.stevens.edu program drug-discovery-graduate-certificate.txt',\n",
       " '../data/text files\\\\https_  www.stevens.edu program dual-me-mba-engineering-management-masters-programs.txt',\n",
       " '../data/text files\\\\https_  www.stevens.edu program dual-me-mba-in-mechanical-engineering-masters-programs.txt',\n",
       " '../data/text files\\\\https_  www.stevens.edu program dual-ms-mba-in-business-intelligence-and-analytics-masters-programs.txt',\n",
       " '../data/text files\\\\https_  www.stevens.edu program dual-ms-mba-in-construction-engineering-and-management-masters-programs.txt',\n",
       " '../data/text files\\\\https_  www.stevens.edu program dual-ms-mba-in-enterprise-project-management-masters-programs.txt',\n",
       " '../data/text files\\\\https_  www.stevens.edu program dual-ms-mba-in-finance-masters-program.txt',\n",
       " '../data/text files\\\\https_  www.stevens.edu program dual-ms-mba-in-financial-engineering-masters-programs.txt',\n",
       " '../data/text files\\\\https_  www.stevens.edu program dual-ms-mba-in-financial-technology-and-analytics-masters-programs.txt',\n",
       " '../data/text files\\\\https_  www.stevens.edu program dual-ms-mba-in-information-systems-masters-programs.txt',\n",
       " '../data/text files\\\\https_  www.stevens.edu program dual-ms-mba-in-pharmaceutical-manufacturing-masters-programs.txt',\n",
       " '../data/text files\\\\https_  www.stevens.edu program dual-ms-mba-in-software-engineering-masters-programs.txt',\n",
       " '../data/text files\\\\https_  www.stevens.edu program dual-ms-mba-in-sustainability-management-masters-programs.txt',\n",
       " '../data/text files\\\\https_  www.stevens.edu program economics-bachelors-program.txt',\n",
       " '../data/text files\\\\https_  www.stevens.edu program electrical-engineering-bachelor-degree.txt',\n",
       " '../data/text files\\\\https_  www.stevens.edu program electrical-engineering-masters-ses-grad-online.txt',\n",
       " '../data/text files\\\\https_  www.stevens.edu program electrical-engineering-masters.txt',\n",
       " '../data/text files\\\\https_  www.stevens.edu program electrical-engineering-phd.txt',\n",
       " '../data/text files\\\\https_  www.stevens.edu program engineering-management-bachelor-degree.txt',\n",
       " '../data/text files\\\\https_  www.stevens.edu program engineering-management-masters.txt',\n",
       " '../data/text files\\\\https_  www.stevens.edu program engineering-management-minor.txt',\n",
       " '../data/text files\\\\https_  www.stevens.edu program engineering-management-phd.txt',\n",
       " '../data/text files\\\\https_  www.stevens.edu program Enterprise-Cloud-Computing-graduate-certificate.txt',\n",
       " '../data/text files\\\\https_  www.stevens.edu program enterprise-project-management-masters-program-online.txt',\n",
       " '../data/text files\\\\https_  www.stevens.edu program Enterprise-Project-Management-Masters-Program.txt',\n",
       " '../data/text files\\\\https_  www.stevens.edu program environmental-engineering-bachelor-degree.txt',\n",
       " '../data/text files\\\\https_  www.stevens.edu program environmental-engineering-doctoral-program.txt',\n",
       " '../data/text files\\\\https_  www.stevens.edu program environmental-engineering-masters.txt',\n",
       " '../data/text files\\\\https_  www.stevens.edu program environmental-management-graduate-certificate.txt',\n",
       " '../data/text files\\\\https_  www.stevens.edu program Executive-MBA.txt',\n",
       " '../data/text files\\\\https_  www.stevens.edu program finance-and-financial-technology-and-analytics-dual-masters-degrees.txt',\n",
       " '../data/text files\\\\https_  www.stevens.edu program finance-major.txt',\n",
       " '../data/text files\\\\https_  www.stevens.edu program finance-masters-program.txt',\n",
       " '../data/text files\\\\https_  www.stevens.edu program financial-analytics-and-statistics-dual-degree-masters-program.txt',\n",
       " '../data/text files\\\\https_  www.stevens.edu program financial-analytics-certificate.txt',\n",
       " '../data/text files\\\\https_  www.stevens.edu program financial-analytics.txt',\n",
       " '../data/text files\\\\https_  www.stevens.edu program financial-engineering-certificate.txt',\n",
       " '../data/text files\\\\https_  www.stevens.edu program financial-engineering-masters-program.txt',\n",
       " '../data/text files\\\\https_  www.stevens.edu program financial-engineering-masters-ses-grad-online.txt',\n",
       " '../data/text files\\\\https_  www.stevens.edu program financial-engineering-phd-program-ssb-grad.txt',\n",
       " '../data/text files\\\\https_  www.stevens.edu program financial-technology-and-analytics-and-finance-dual-masters-degree.txt',\n",
       " '../data/text files\\\\https_  www.stevens.edu program Financial-Technology-And-Analytics-Masters-Degree.txt',\n",
       " '../data/text files\\\\https_  www.stevens.edu program financial-Technology-and-Analytics-masters-ses-grad-online.txt',\n",
       " '../data/text files\\\\https_  www.stevens.edu program financial-technology-certificate.txt',\n",
       " '../data/text files\\\\https_  www.stevens.edu program fundamentals-of-management-certificate.txt',\n",
       " '../data/text files\\\\https_  www.stevens.edu program healthcare-management-and-leadership-certificate-ssb.txt',\n",
       " '../data/text files\\\\https_  www.stevens.edu program humanities-undecided.txt',\n",
       " '../data/text files\\\\https_  www.stevens.edu program industrial-systems-engineering-bachelor-degree.txt',\n",
       " '../data/text files\\\\https_  www.stevens.edu program industrial-systems-engineering-minor.txt',\n",
       " '../data/text files\\\\https_  www.stevens.edu program information-systems-masters-program-ssb-grad-online.txt',\n",
       " '../data/text files\\\\https_  www.stevens.edu program Information-Systems-Masters-Program.txt',\n",
       " '../data/text files\\\\https_  www.stevens.edu program interdisciplinary-programs.txt',\n",
       " '../data/text files\\\\https_  www.stevens.edu program international-business-and-entrepreneurship-and-information-systems-dual.txt',\n",
       " '../data/text files\\\\https_  www.stevens.edu program law-program.txt',\n",
       " '../data/text files\\\\https_  www.stevens.edu program literature.txt',\n",
       " '../data/text files\\\\https_  www.stevens.edu program Logistics-Supply-Chain-Analysis-Graduate-Certificate.txt',\n",
       " '../data/text files\\\\https_  www.stevens.edu program m-s-in-business-intelligence-and-analytics-and-graduate-management-program.txt',\n",
       " '../data/text files\\\\https_  www.stevens.edu program m-s-in-fintech-and-m-s-in-financial-technology-and-analytics-dual-degree.txt',\n",
       " '../data/text files\\\\https_  www.stevens.edu program m-s-in-management-and-graduate-management-program-dual-degree-masters.txt',\n",
       " '../data/text files\\\\https_  www.stevens.edu program Machine-Learning-Graduate-Certificate.txt',\n",
       " '../data/text files\\\\https_  www.stevens.edu program machine-learning-masters-ses-grad-online.txt',\n",
       " '../data/text files\\\\https_  www.stevens.edu program machine-learning-masters.txt',\n",
       " '../data/text files\\\\https_  www.stevens.edu program management-masters-grad-online.txt',\n",
       " '../data/text files\\\\https_  www.stevens.edu program Management-Masters-Program.txt',\n",
       " '../data/text files\\\\https_  www.stevens.edu program management-of-ai-ssb.txt',\n",
       " '../data/text files\\\\https_  www.stevens.edu program management-of-broadband-communications-and-converged-networks-certificate.txt',\n",
       " '../data/text files\\\\https_  www.stevens.edu program management-of-wireless-networks-certificate.txt',\n",
       " '../data/text files\\\\https_  www.stevens.edu program marketing-analytics-certificate.txt',\n",
       " '../data/text files\\\\https_  www.stevens.edu program master-of-science-in-accounting-and-analytics.txt',\n",
       " '../data/text files\\\\https_  www.stevens.edu program materials-science-engineering-masters.txt',\n",
       " '../data/text files\\\\https_  www.stevens.edu program materials-science-engineering-phd.txt',\n",
       " '../data/text files\\\\https_  www.stevens.edu program materials-technology-energy-sustainability-graduate-certificate.txt',\n",
       " '../data/text files\\\\https_  www.stevens.edu program mathematics-bachelor-degree.txt',\n",
       " '../data/text files\\\\https_  www.stevens.edu program mathematics-masters.txt',\n",
       " '../data/text files\\\\https_  www.stevens.edu program mathematics-phd.txt',\n",
       " '../data/text files\\\\https_  www.stevens.edu program mba-and-m-e-in-chemical-engineering-dual-degree-masters-program.txt',\n",
       " '../data/text files\\\\https_  www.stevens.edu program mba-and-m-e-or-m-s-in-applied-artificial-intelligence-dual-degree-masters.txt',\n",
       " '../data/text files\\\\https_  www.stevens.edu program mba-and-m-e-or-m-s-in-computer-engineering-dual-degree-masters-program.txt',\n",
       " '../data/text files\\\\https_  www.stevens.edu program mba-and-m-e-or-m-s-in-electrical-engineering-dual-degree-masters-program.txt',\n",
       " '../data/text files\\\\https_  www.stevens.edu program mba-in-finance-and-banking-and-financial-technology-and-analytics-dual.txt',\n",
       " '../data/text files\\\\https_  www.stevens.edu program mechanical-engineering-bachelor-degree.txt',\n",
       " '../data/text files\\\\https_  www.stevens.edu program mechanical-engineering-doctoral.txt',\n",
       " '../data/text files\\\\https_  www.stevens.edu program mechanical-engineering-masters.txt',\n",
       " '../data/text files\\\\https_  www.stevens.edu program media-broadcast-engineering-masters.txt',\n",
       " '../data/text files\\\\https_  www.stevens.edu program microelectronics-graduate-certificate.txt',\n",
       " '../data/text files\\\\https_  www.stevens.edu program ms-in-finance-and-graduate-management-program-dual-degree-masters-program.txt',\n",
       " '../data/text files\\\\https_  www.stevens.edu program ms-in-information-systems-and-graduate-management-program-dual-degree.txt',\n",
       " '../data/text files\\\\https_  www.stevens.edu program nanotechnology-concentration.txt',\n",
       " '../data/text files\\\\https_  www.stevens.edu program naval-engineering-concentration.txt',\n",
       " '../data/text files\\\\https_  www.stevens.edu program network-communication-management-services-masters-program-ssb-grad.txt',\n",
       " '../data/text files\\\\https_  www.stevens.edu program ocean-engineering-doctoral-program.txt',\n",
       " '../data/text files\\\\https_  www.stevens.edu program ocean-engineering-masters.txt',\n",
       " '../data/text files\\\\https_  www.stevens.edu program online-pharmaceutical-manufacturing-masters.txt',\n",
       " '../data/text files\\\\https_  www.stevens.edu program operational-excellence-certificate.txt',\n",
       " '../data/text files\\\\https_  www.stevens.edu program operations-and-supply-chain-analytics-certificate.txt',\n",
       " '../data/text files\\\\https_  www.stevens.edu program optical-engineering-concentration.txt',\n",
       " '../data/text files\\\\https_  www.stevens.edu program Pharmaceutical-Manufacturing-graduate-Certificate.txt',\n",
       " '../data/text files\\\\https_  www.stevens.edu program pharmaceutical-manufacturing-masters.txt',\n",
       " '../data/text files\\\\https_  www.stevens.edu program philosophy.txt',\n",
       " '../data/text files\\\\https_  www.stevens.edu program photonics-graduate-certificate.txt',\n",
       " '../data/text files\\\\https_  www.stevens.edu program physics-bachelor-degree.txt',\n",
       " '../data/text files\\\\https_  www.stevens.edu program physics-masters.txt',\n",
       " '../data/text files\\\\https_  www.stevens.edu program physics-phd.txt',\n",
       " '../data/text files\\\\https_  www.stevens.edu program professional-engineer-degree.txt',\n",
       " '../data/text files\\\\https_  www.stevens.edu program quantum-engineering-masters.txt',\n",
       " '../data/text files\\\\https_  www.stevens.edu program Robotics-masters-ses-grad-online.txt',\n",
       " '../data/text files\\\\https_  www.stevens.edu program robotics-masters.txt',\n",
       " '../data/text files\\\\https_  www.stevens.edu program science-communication.txt',\n",
       " '../data/text files\\\\https_  www.stevens.edu program science-technology-society.txt',\n",
       " '../data/text files\\\\https_  www.stevens.edu program social-sciences.txt',\n",
       " '../data/text files\\\\https_  www.stevens.edu program socio-technical-systems-phd.txt',\n",
       " '../data/text files\\\\https_  www.stevens.edu program software-engineering-bachelor-degree.txt',\n",
       " '../data/text files\\\\https_  www.stevens.edu program software-engineering-masters-ses-grad-online.txt',\n",
       " '../data/text files\\\\https_  www.stevens.edu program software-engineering-masters.txt',\n",
       " '../data/text files\\\\https_  www.stevens.edu program software-engineering-minor.txt',\n",
       " '../data/text files\\\\https_  www.stevens.edu program space-systems-engineering-masters-ses-grad-online.txt',\n",
       " '../data/text files\\\\https_  www.stevens.edu program space-systems-engineering-masters.txt',\n",
       " '../data/text files\\\\https_  www.stevens.edu program sports-technologies-digital-transformation-dual-master-programs.txt',\n",
       " '../data/text files\\\\https_  www.stevens.edu program ssb-financial-computing-certificate.txt',\n",
       " '../data/text files\\\\https_  www.stevens.edu program ssb-financial-planning-certificate.txt',\n",
       " '../data/text files\\\\https_  www.stevens.edu program ssb-financial-risk-engineering-certificate.txt',\n",
       " '../data/text files\\\\https_  www.stevens.edu program ssb-financial-software-engineering-certificate.txt',\n",
       " '../data/text files\\\\https_  www.stevens.edu program ssb-financial-statistics-certificate.txt',\n",
       " '../data/text files\\\\https_  www.stevens.edu program ssb-fundamentals-of-finance-certificate.txt',\n",
       " '../data/text files\\\\https_  www.stevens.edu program ssb-machine-learning-finance-certificate.txt',\n",
       " '../data/text files\\\\https_  www.stevens.edu program stevens-mba-ssb-grad.txt',\n",
       " '../data/text files\\\\https_  www.stevens.edu program sustainability-management-masters.txt',\n",
       " '../data/text files\\\\https_  www.stevens.edu program system-analytics-masters-ses-grad-online.txt',\n",
       " '../data/text files\\\\https_  www.stevens.edu program systems-analytics-masters.txt',\n",
       " '../data/text files\\\\https_  www.stevens.edu program systems-engineering-m-eng-sse-graduate-online.txt',\n",
       " '../data/text files\\\\https_  www.stevens.edu program systems-engineering-masters.txt',\n",
       " '../data/text files\\\\https_  www.stevens.edu program systems-engineering-phd.txt',\n",
       " '../data/text files\\\\https_  www.stevens.edu program Technology-Management-Masters-Program.txt',\n",
       " '../data/text files\\\\https_  www.stevens.edu program vcq-graduate-certificate.txt',\n",
       " '../data/text files\\\\https_  www.stevens.edu program wireless-communications-graduate-certificate.txt']"
      ]
     },
     "execution_count": 20,
     "metadata": {},
     "output_type": "execute_result"
    }
   ],
   "source": [
    "files = glob(\"../data/text files/* www.stevens.edu program *\")\n",
    "print(len(files))\n",
    "files"
   ]
  },
  {
   "cell_type": "code",
   "execution_count": 21,
   "metadata": {},
   "outputs": [
    {
     "name": "stdout",
     "output_type": "stream",
     "text": [
      "../data/text files\\https_  www.stevens.edu program application-machine-learning-pharmaceutical-development-graduate-certificate.txt\n",
      "../data/text files\\https_  www.stevens.edu program machine-learning-masters-ses-grad-online.txt\n",
      "../data/text files\\https_  www.stevens.edu program machine-learning-masters.txt\n",
      "../data/text files\\https_  www.stevens.edu program ssb-machine-learning-finance-certificate.txt\n"
     ]
    }
   ],
   "source": [
    "for file in files:\n",
    "    if \"machine\" in file:\n",
    "        print(file)"
   ]
  },
  {
   "cell_type": "code",
   "execution_count": 22,
   "metadata": {},
   "outputs": [],
   "source": [
    "def extract_program_name(path):\n",
    "    return path.split(\" \")[-1].split(\".\")[0].replace(\"-\", \" \").title()"
   ]
  },
  {
   "cell_type": "code",
   "execution_count": 23,
   "metadata": {},
   "outputs": [],
   "source": [
    "def assign_program_type(path):\n",
    "    if \"master\" in path: return \"Masters/MS\"\n",
    "    if \"bachelor\" in path: return \"Bachelors/BS\"\n",
    "    return \"Certificate\""
   ]
  },
  {
   "cell_type": "code",
   "execution_count": 24,
   "metadata": {},
   "outputs": [],
   "source": [
    "def assign_program_availability(path):\n",
    "    if \"online\" in path: return \"Online and On Campus\"\n",
    "    return \"On Campus\""
   ]
  },
  {
   "cell_type": "code",
   "execution_count": 25,
   "metadata": {},
   "outputs": [],
   "source": [
    "main = {}\n",
    "for path in files:\n",
    "    program_type = assign_program_type(path)\n",
    "    program_availability = assign_program_availability(path)\n",
    "    program_name = extract_program_name(path)\n",
    "    with open(path, \"r\") as fp:\n",
    "        page_content = fp.read()\n",
    "    main[path] = {\"program_type\": program_type,\n",
    "                 \"program_availability\": program_availability,\n",
    "                 \"program_name\": program_name,\n",
    "                 \"page_content\": page_content}"
   ]
  },
  {
   "cell_type": "code",
   "execution_count": 26,
   "metadata": {},
   "outputs": [
    {
     "data": {
      "text/plain": [
       "{'program_type': 'Masters/MS',\n",
       " 'program_availability': 'On Campus',\n",
       " 'program_name': 'Machine Learning Masters',\n",
       " 'page_content': 'Get on the fast track to make an impact in one of today\\'s fastest growing fields with a machine learning master\\'s degree.\\nThe machine learning master\\'s program establishes the theoretical and practical foundations necessary to be at the forefront of progress in the next technological revolution. Advancements made in machine learning and related disciplines will soon touch every piece of technology, making an advanced degree an essential asset for a successful career.\\nThe rapidly expanding field of machine learning has a multitude of applications in diverse areas such as intelligent systems, computer vision, speech recognition, natural language processing, robotics, finance, information retrieval, bioinformatics, healthcare, and weather prediction.\\nOur unique machine learning master\\'s program develops a thorough understanding of deep learning theory and familiarizes you with the most important paradigms. This allows you to apply or develop the appropriate methods in real-world applications, whether pursuing a career in industry, academia, or research.\\nThe Stevens campus is located in the heart of the New York City metropolitan area where over 7,500 tech companies are engaged in creating the future. Industry leaders like Google, Facebook, Amazon, Microsoft and Bloomberg, along with a vibrant startup scene are hiring tens of thousands of tech-professionals. Stevens\\' location and long-history of career placement success in the tech industry provides you with networking opportunities you won\\'t find anywhere else in the U.S.\\nWork with recognized experts in the field\\nStrong emphasis on theoretical foundations and practical aspects\\nFlexible Machine Learning curriculum\\nPart-time or full-time enrollment\\nAvailable fully online\\nThesis and non-thesis options available\\nInternships available\\nCurricular Practical Training (CPT) available for international students\\nMachine learning graduate experiential learning \\nWe welcome passionate masters in machine learning applicants with a talent for problem solving and aspirations to impact on the next phase of technological innovation. You can apply to the master of machine learning program with an undergraduate degree in computer science, computer engineering, electrical engineering, mathematics, or a closely related field.\\nBachelor\\'s degree, with a minimum GPA of 3.0, from an accredited institution\\nOfficial college transcripts\\nTwo letters of recommendation\\nResume (optional)\\nTOEFL/IELTS scores (for international students)\\nA competitive GRE or GMAT score*\\nView General Admissions Requirements >\\n*GRE/GMAT is not required for part-time students.\\nInformation about assistantships and fellowships \\ncan be found here\\n. \\nStevens is among the top 15 in the nation for \"Best Online Graduate Information Technology Programs\" in 2024 by U.S. News and World Report. \\nThe machine learning master\\'s program develops in-demand knowledge and skills to put you on track for success in a variety of roles like:  \\nResearch Scientist\\nMachine Learning Engineer\\nData Scientist\\nBusiness Intelligence Developer\\nData Engineer\\nR&D Engineer\\nOur graduates have been hired at: \\nAmazon, Bloomberg, Facebook, Google, IBM, Intel\\nIt is hard to choose what I like best about Stevens and the program. From the excellent faculty and great career services provided, to the beautiful campus and great location right next to New York City, there is a lot to choose from. At the same time, the curriculum is well balanced, providing you with much of the practical skills needed for working in industry. \\nNathaniel Burgdorfer\\nMachine Learning Graduate\\nIt is hard to choose what I like best about Stevens and the program. From the excellent faculty and great career services provided, to the beautiful campus and great location right next to New York City, there is a lot to choose from. At the same time, the curriculum is well balanced, providing you with much of the practical skills needed for working in industry. \\nNathaniel Burgdorfer\\nMachine Learning Graduate\\nIt is hard to choose what I like best about Stevens and the program. From the excellent faculty and great career services provided, to the beautiful campus and great location right next to New York City, there is a lot to choose from. At the same time, the curriculum is well balanced, providing you with much of the practical skills needed for working in industry. \\nNathaniel Burgdorfer\\nMachine Learning Graduate\\nStevens is traversing new frontiers in artificial intelligence by offering one of the first graduate programs in the country to explore AI applications for engineering.\\nData drives almost every aspect of our lives--and the demand for people who can gather, analyze and interpret that data has never been higher. Prepare to excel in this lucrative field with a data science master\\'s degree from Stevens.\\nEarn one of the most desirable degrees by drilling down to what interests you most. \\nBecome a sought-after computer engineering expert with cutting-edge knowledge and strong professional connections.\\n(c) \\n2024\\n Stevens Institute of Technology'}"
      ]
     },
     "execution_count": 26,
     "metadata": {},
     "output_type": "execute_result"
    }
   ],
   "source": [
    "main[\"../data/text files\\https_  www.stevens.edu program machine-learning-masters.txt\"]"
   ]
  },
  {
   "cell_type": "code",
   "execution_count": 27,
   "metadata": {},
   "outputs": [],
   "source": [
    "from langchain_community.vectorstores import Chroma\n",
    "from langchain_core.documents import Document\n",
    "from langchain_openai import OpenAIEmbeddings\n",
    "from langchain_community.embeddings import HuggingFaceEmbeddings\n",
    "from langchain_text_splitters import RecursiveCharacterTextSplitter\n",
    "from langchain.chains.combine_documents import create_stuff_documents_chain\n",
    "from langchain.chains import create_retrieval_chain"
   ]
  },
  {
   "cell_type": "code",
   "execution_count": 28,
   "metadata": {},
   "outputs": [],
   "source": [
    "model_kwargs = {\n",
    "    \"trust_remote_code\": True,\n",
    "    # \"device\": \"cpu\"\n",
    "    }\n",
    "encode_kwargs={\"normalize_embeddings\": True}\n",
    "embeddings = HuggingFaceEmbeddings(model_name=\"sentence-transformers/all-mpnet-base-v2\", model_kwargs=model_kwargs, encode_kwargs=encode_kwargs)"
   ]
  },
  {
   "cell_type": "code",
   "execution_count": 29,
   "metadata": {},
   "outputs": [],
   "source": [
    "docs = [\n",
    "    Document(\n",
    "        page_content=main[doc][\"page_content\"],\n",
    "        metadata={\"program_type\": main[doc][\"program_type\"],\n",
    "                \"program_availability\": main[doc][\"program_availability\"],\n",
    "                \"program_name\": main[doc][\"program_name\"]}\n",
    "    )\n",
    "    for doc in main\n",
    "]\n",
    "text_splitter = RecursiveCharacterTextSplitter(chunk_size=1000, chunk_overlap=200)\n",
    "splits = text_splitter.split_documents(docs)\n",
    "vectorstore = Chroma.from_documents(docs, embeddings)"
   ]
  },
  {
   "cell_type": "code",
   "execution_count": 30,
   "metadata": {},
   "outputs": [],
   "source": [
    "from langchain.chains.query_constructor.base import AttributeInfo\n",
    "from langchain.retrievers.self_query.base import SelfQueryRetriever\n",
    "from langchain_openai import ChatOpenAI\n",
    "\n",
    "metadata_field_info = [\n",
    "    AttributeInfo(\n",
    "        name=\"program_type\",\n",
    "        description=\"The type of the program offered by the university ['Masters/MS', 'Bachelors/BS', 'Certificate']\",\n",
    "        type=\"string\",\n",
    "    ),\n",
    "    AttributeInfo(\n",
    "        name=\"program_availability\",\n",
    "        description=\"The mode in which the program will be available and delivered to the students['Online and On Campus', 'On Campus']\",\n",
    "        type=\"string\",\n",
    "    ),\n",
    "    AttributeInfo(\n",
    "        name=\"program_name\",\n",
    "        description=\"The name of the Program\",\n",
    "        type=\"string\",\n",
    "    ),\n",
    "]\n",
    "document_content_description = \"Details regarding the course\"\n",
    "llm = ChatOpenAI(temperature=0)\n",
    "retriever = SelfQueryRetriever.from_llm(\n",
    "    llm,\n",
    "    vectorstore,\n",
    "    document_content_description,\n",
    "    metadata_field_info,\n",
    ")"
   ]
  },
  {
   "cell_type": "code",
   "execution_count": 33,
   "metadata": {},
   "outputs": [
    {
     "data": {
      "text/plain": [
       "[Document(page_content='Get on the fast track to make an impact in one of today\\'s fastest growing fields with a machine learning master\\'s degree.\\nThe machine learning master\\'s program establishes the theoretical and practical foundations necessary to be at the forefront of progress in the next technological revolution. Advancements made in machine learning and related disciplines will soon touch every piece of technology, making an advanced degree an essential asset for a successful career.\\nThe rapidly expanding field of machine learning has a multitude of applications in diverse areas such as intelligent systems, computer vision, speech recognition, natural language processing, robotics, finance, information retrieval, bioinformatics, healthcare, and weather prediction.\\nOur unique machine learning master\\'s program develops a thorough understanding of deep learning theory and familiarizes you with the most important paradigms. This allows you to apply or develop the appropriate methods in real-world applications, whether pursuing a career in industry, academia, or research.\\nThe Stevens campus is located in the heart of the New York City metropolitan area where over 7,500 tech companies are engaged in creating the future. Industry leaders like Google, Facebook, Amazon, Microsoft and Bloomberg, along with a vibrant startup scene are hiring tens of thousands of tech-professionals. Stevens\\' location and long-history of career placement success in the tech industry provides you with networking opportunities you won\\'t find anywhere else in the U.S.\\nWork with recognized experts in the field\\nStrong emphasis on theoretical foundations and practical aspects\\nFlexible Machine Learning curriculum\\nPart-time or full-time enrollment\\nAvailable fully online\\nThesis and non-thesis options available\\nInternships available\\nCurricular Practical Training (CPT) available for international students\\nMachine learning graduate experiential learning \\nWe welcome passionate masters in machine learning applicants with a talent for problem solving and aspirations to impact on the next phase of technological innovation. You can apply to the master of machine learning program with an undergraduate degree in computer science, computer engineering, electrical engineering, mathematics, or a closely related field.\\nBachelor\\'s degree, with a minimum GPA of 3.0, from an accredited institution\\nOfficial college transcripts\\nTwo letters of recommendation\\nResume (optional)\\nTOEFL/IELTS scores (for international students)\\nA competitive GRE or GMAT score*\\nView General Admissions Requirements >\\n*GRE/GMAT is not required for part-time students.\\nInformation about assistantships and fellowships \\ncan be found here\\n. \\nStevens is among the top 15 in the nation for \"Best Online Graduate Information Technology Programs\" in 2024 by U.S. News and World Report. \\nThe machine learning master\\'s program develops in-demand knowledge and skills to put you on track for success in a variety of roles like:  \\nResearch Scientist\\nMachine Learning Engineer\\nData Scientist\\nBusiness Intelligence Developer\\nData Engineer\\nR&D Engineer\\nOur graduates have been hired at: \\nAmazon, Bloomberg, Facebook, Google, IBM, Intel\\nIt is hard to choose what I like best about Stevens and the program. From the excellent faculty and great career services provided, to the beautiful campus and great location right next to New York City, there is a lot to choose from. At the same time, the curriculum is well balanced, providing you with much of the practical skills needed for working in industry. \\nNathaniel Burgdorfer\\nMachine Learning Graduate\\nIt is hard to choose what I like best about Stevens and the program. From the excellent faculty and great career services provided, to the beautiful campus and great location right next to New York City, there is a lot to choose from. At the same time, the curriculum is well balanced, providing you with much of the practical skills needed for working in industry. \\nNathaniel Burgdorfer\\nMachine Learning Graduate\\nIt is hard to choose what I like best about Stevens and the program. From the excellent faculty and great career services provided, to the beautiful campus and great location right next to New York City, there is a lot to choose from. At the same time, the curriculum is well balanced, providing you with much of the practical skills needed for working in industry. \\nNathaniel Burgdorfer\\nMachine Learning Graduate\\nStevens is traversing new frontiers in artificial intelligence by offering one of the first graduate programs in the country to explore AI applications for engineering.\\nData drives almost every aspect of our lives--and the demand for people who can gather, analyze and interpret that data has never been higher. Prepare to excel in this lucrative field with a data science master\\'s degree from Stevens.\\nEarn one of the most desirable degrees by drilling down to what interests you most. \\nBecome a sought-after computer engineering expert with cutting-edge knowledge and strong professional connections.\\n(c) \\n2024\\n Stevens Institute of Technology', metadata={'program_availability': 'On Campus', 'program_name': 'Machine Learning Masters', 'program_type': 'Masters/MS'}),\n",
       " Document(page_content='Get on the fast track to make an impact in one of today\\'s fastest growing fields with a machine learning master\\'s degree.\\nThe machine learning master\\'s program establishes the theoretical and practical foundations necessary to be at the forefront of progress in the next technological revolution. Advancements made in machine learning and related disciplines will soon touch every piece of technology, making an advanced degree an essential asset for a successful career.\\nThe rapidly expanding field of machine learning has a multitude of applications in diverse areas such as intelligent systems, computer vision, speech recognition, natural language processing, robotics, finance, information retrieval, bioinformatics, healthcare, and weather prediction.\\nOur unique machine learning master\\'s program develops a thorough understanding of deep learning theory and familiarizes you with the most important paradigms. This allows you to apply or develop the appropriate methods in real-world applications, whether pursuing a career in industry, academia, or research.\\nThe Stevens campus is located in the heart of the New York City metropolitan area where over 7,500 tech companies are engaged in creating the future. Industry leaders like Google, Facebook, Amazon, Microsoft and Bloomberg, along with a vibrant startup scene are hiring tens of thousands of tech-professionals. Stevens\\' location and long-history of career placement success in the tech industry provides you with networking opportunities you won\\'t find anywhere else in the U.S.\\nWork with recognized experts in the field\\nStrong emphasis on theoretical foundations and practical aspects\\nFlexible Machine Learning curriculum\\nPart-time or full-time enrollment\\nAvailable fully online\\nThesis and non-thesis options available\\nInternships available\\nCurricular Practical Training (CPT) available for international students\\nMachine learning graduate experiential learning \\nWe welcome passionate masters in machine learning applicants with a talent for problem solving and aspirations to impact on the next phase of technological innovation. You can apply to the master of machine learning program with an undergraduate degree in computer science, computer engineering, electrical engineering, mathematics, or a closely related field.\\nBachelor\\'s degree, with a minimum GPA of 3.0, from an accredited institution\\nOfficial college transcripts\\nTwo letters of recommendation\\nResume (optional)\\nTOEFL/IELTS scores (for international students)\\nA competitive GRE or GMAT score*\\nView General Admissions Requirements >\\n*GRE/GMAT is not required for part-time students.\\nInformation about assistantships and fellowships \\ncan be found here\\n. \\nStevens is among the top 15 in the nation for \"Best Online Graduate Information Technology Programs\" in 2024 by U.S. News and World Report. \\nThe machine learning master\\'s program develops in-demand knowledge and skills to put you on track for success in a variety of roles like:  \\nResearch Scientist\\nMachine Learning Engineer\\nData Scientist\\nBusiness Intelligence Developer\\nData Engineer\\nR&D Engineer\\nOur graduates have been hired at: \\nAmazon, Bloomberg, Facebook, Google, IBM, Intel\\nIt is hard to choose what I like best about Stevens and the program. From the excellent faculty and great career services provided, to the beautiful campus and great location right next to New York City, there is a lot to choose from. At the same time, the curriculum is well balanced, providing you with much of the practical skills needed for working in industry. \\nNathaniel Burgdorfer\\nMachine Learning Graduate\\nIt is hard to choose what I like best about Stevens and the program. From the excellent faculty and great career services provided, to the beautiful campus and great location right next to New York City, there is a lot to choose from. At the same time, the curriculum is well balanced, providing you with much of the practical skills needed for working in industry. \\nNathaniel Burgdorfer\\nMachine Learning Graduate\\nIt is hard to choose what I like best about Stevens and the program. From the excellent faculty and great career services provided, to the beautiful campus and great location right next to New York City, there is a lot to choose from. At the same time, the curriculum is well balanced, providing you with much of the practical skills needed for working in industry. \\nNathaniel Burgdorfer\\nMachine Learning Graduate\\nStevens is traversing new frontiers in artificial intelligence by offering one of the first graduate programs in the country to explore AI applications for engineering.\\nData drives almost every aspect of our lives--and the demand for people who can gather, analyze and interpret that data has never been higher. Prepare to excel in this lucrative field with a data science master\\'s degree from Stevens.\\nEarn one of the most desirable degrees by drilling down to what interests you most. \\nBecome a sought-after computer engineering expert with cutting-edge knowledge and strong professional connections.\\n(c) \\n2024\\n Stevens Institute of Technology', metadata={'program_availability': 'On Campus', 'program_name': 'Machine Learning Masters', 'program_type': 'Masters/MS'}),\n",
       " Document(page_content='Our Machine Learning Master\\'s program is designed to equip students with the knowledge and skills to pioneer the next technological revolution. As machine learning and related disciplines continue to advance, their impact will soon extend to every facet of technology.  \\nMachine learning is a rapidly expanding field with a vast range of applications across various domains, including intelligent systems, computer vision, speech recognition, natural language processing, robotics, finance, information retrieval, bioinformatics, healthcare, and weather prediction. \\nOur exceptional Machine Learning Master\\'s program offers a comprehensive curriculum that not only establishes a solid foundation in theoretical concepts but also ensures practical proficiency. You will gain an in-depth understanding of deep learning theory and become well-versed in the most important paradigms. This knowledge will empower you to apply existing methods or develop new approaches for real-world applications. Whether you aspire to pursue a career in industry, academia, or research, our program prepares you to excel in your chosen path.\\nBelow is a suggested term-by-term sequence of courses:\\nThis course will give students a rigorous introduction to the foundations of machine learning, including but not limited to frequently used tools in linear algebra, calculus, probability, and widely applied methods such as linear regression and support vector machines. In addition, this course provides hands-on training on implementing these algorithms via python from scratch. Students will be trained to use poplar python libraries such as numpy, scipy and matplotlib. Not for CS undergrad majors.\\nAn elective course from the list of \\nELECTIVE COURSES\\nNatural language processing (NLP) is one of the most important technologies in the era of information. Comprehending human language is also a crucial and challenging part of artificial intelligence. People communicate almost everything in language: conferences, emails, customer service, language translation, web searches, reports, etc. There are a large variety of underlying tasks and machine learning models behind NLP applications. Recently, deep learning approaches have achieved high performance in many different NLP tasks. Instead of traditional and task-specific feature engineering, deep learning can solve tasks with single end-to-end models. The course provides an introduction to machine learning research applied to NLP. We will cover topics including word vector representations, neural networks, recurrent neural networks, convolutional neural networks, semi-supervised models, reinforcement learning for NLP, as well as some attention-based models. \\nPrerequisite\\n: Undergrad linear algebra and probability OR CS 556\\nIn this course we will talk about the foundational principles that drive machine learning applications and practice implementing machine learning algorithms. Specific topics include supervised learning, unsupervised learning, neural networks, and graphical models. The main goal of the course is to equip you with the tools to tackle new ML problems you might encounter in life.\\nPrerequisite\\n: \\nUndergrad linear algebra and probability OR CS 556\\n \\nChoose at least 2 from this list to fulfill the core course requirements:\\nDeep learning (DL) is a family of the most powerful and popular machine learning (ML) methods and has wide real world applications such as face recognition, machine translation, self-driving car, recommender system, playing the Go game, etc. This course is designed for students either with or without ML background. The course will cover fundamental ML, computer vision, and natural language problems and DL tools for solving the problems. The students will be able to use DL methods for solving real-world ML problems. The homework is mostly implementation and programming using the Python language and popular DL frameworks such as TensorFlow and Keras. Knowledge and skills in Python programming and linear algebra are strictly required. Probability theory, statistics, and numerical analysis are recommended by not required. Knowledge in machine learning and artificial intelligence is helpful but unnecessary. \\nPrerequisite\\n: Undergrad linear algebra and probability OR CS 556\\nMachine learning aims to extract useful information from the data, and to build an accurate model on top of the extracted information for future prediction. There are two important aspects that have to be taken into account for a machine learning problem: how can we develop computationally efficient algorithms to learn useful information, and what is the prediction performance of the algorithm on unseen data. More importantly, is it possible to achieve the best of the two worlds, or there has to be some trade-off. This course will introduce students to concepts relating the computational efficiency and the statistical accuracy for a broad range of problems, including regression, classification, clustering, adaptive learning, to name a few. It will cover popular numerical methods that carry out state-of-the-art performance on the computational side, and it will also discuss possible improvement in the price of estimation accuracy and memory usage. The goal of the course is to help students understand these trade-offs from a theoretical perspective and guide them to design near-optimal algorithms for real-world problems.\\nPrerequisite\\n: CS 559 \\nMachine Learning: Fundamentals and Applications\\nArtificial intelligence (AI), sometimes called machine intelligence, is intelligence demonstrated by machines, in contrast to the natural intelligence displayed by humans and animals. Colloquially, the term \"artificial intelligence\" is used to describe machines that mimic cognitive functions that humans associate with other human minds, such as learning and problem solving. The course will emphasize on both learning and problem solving, and will develop rigorous statistical models for real-world AI applications. The course will also deliver modern optimization techniques to find an optimal model for a given problem. It will require a math background in calculus, linear algebra and probability, and programming skills in Python or Matlab.\\nPrerequisite\\n: \\nUndergrad linear algebra and probability OR CS 556\\nIn addition to the above four required courses, students can choose from three additional elective courses. The following can be found in \\nAcademic Catalog\\n and offer an online section:\\n*PROGRAM\\'S ELECTIVE COURSES (2) \\n \\nBIA 654 Experimental Design II \\n- 3 Credits \\nBIA 660 Web Mining \\n- 3 Credits \\nBIA 662 Cognitive Computing \\n- 3 Credits \\nBIA 678 Big Data Technologies\\n - 3 Credits \\nCPE 608 Applied Modeling & Optimization \\n- 3 Credits \\nCPE 695 Applied Machine Learning \\n- 3 Credits \\nFE 541 Applied Statistics with Applications in Finance \\n- 3 Credits \\nMA 541 Statistical Methods \\n- 3 Credits \\nMA 630 Advanced Optimization Methods \\n- 3 Credits \\nMA 641 Time Series Analysis I \\n- 3 Credits \\n*GENERAL ELECTIVE COURSES (3) \\n \\nThe remaining three courses can be any general elective approved by the student\\'s advisor or academic department.\\n(c) \\n2024\\n Stevens Institute of Technology', metadata={'program_availability': 'Online and On Campus', 'program_name': 'Machine Learning Masters Ses Grad Online', 'program_type': 'Masters/MS'}),\n",
       " Document(page_content='Our Machine Learning Master\\'s program is designed to equip students with the knowledge and skills to pioneer the next technological revolution. As machine learning and related disciplines continue to advance, their impact will soon extend to every facet of technology.  \\nMachine learning is a rapidly expanding field with a vast range of applications across various domains, including intelligent systems, computer vision, speech recognition, natural language processing, robotics, finance, information retrieval, bioinformatics, healthcare, and weather prediction. \\nOur exceptional Machine Learning Master\\'s program offers a comprehensive curriculum that not only establishes a solid foundation in theoretical concepts but also ensures practical proficiency. You will gain an in-depth understanding of deep learning theory and become well-versed in the most important paradigms. This knowledge will empower you to apply existing methods or develop new approaches for real-world applications. Whether you aspire to pursue a career in industry, academia, or research, our program prepares you to excel in your chosen path.\\nBelow is a suggested term-by-term sequence of courses:\\nThis course will give students a rigorous introduction to the foundations of machine learning, including but not limited to frequently used tools in linear algebra, calculus, probability, and widely applied methods such as linear regression and support vector machines. In addition, this course provides hands-on training on implementing these algorithms via python from scratch. Students will be trained to use poplar python libraries such as numpy, scipy and matplotlib. Not for CS undergrad majors.\\nAn elective course from the list of \\nELECTIVE COURSES\\nNatural language processing (NLP) is one of the most important technologies in the era of information. Comprehending human language is also a crucial and challenging part of artificial intelligence. People communicate almost everything in language: conferences, emails, customer service, language translation, web searches, reports, etc. There are a large variety of underlying tasks and machine learning models behind NLP applications. Recently, deep learning approaches have achieved high performance in many different NLP tasks. Instead of traditional and task-specific feature engineering, deep learning can solve tasks with single end-to-end models. The course provides an introduction to machine learning research applied to NLP. We will cover topics including word vector representations, neural networks, recurrent neural networks, convolutional neural networks, semi-supervised models, reinforcement learning for NLP, as well as some attention-based models. \\nPrerequisite\\n: Undergrad linear algebra and probability OR CS 556\\nIn this course we will talk about the foundational principles that drive machine learning applications and practice implementing machine learning algorithms. Specific topics include supervised learning, unsupervised learning, neural networks, and graphical models. The main goal of the course is to equip you with the tools to tackle new ML problems you might encounter in life.\\nPrerequisite\\n: \\nUndergrad linear algebra and probability OR CS 556\\n \\nChoose at least 2 from this list to fulfill the core course requirements:\\nDeep learning (DL) is a family of the most powerful and popular machine learning (ML) methods and has wide real world applications such as face recognition, machine translation, self-driving car, recommender system, playing the Go game, etc. This course is designed for students either with or without ML background. The course will cover fundamental ML, computer vision, and natural language problems and DL tools for solving the problems. The students will be able to use DL methods for solving real-world ML problems. The homework is mostly implementation and programming using the Python language and popular DL frameworks such as TensorFlow and Keras. Knowledge and skills in Python programming and linear algebra are strictly required. Probability theory, statistics, and numerical analysis are recommended by not required. Knowledge in machine learning and artificial intelligence is helpful but unnecessary. \\nPrerequisite\\n: Undergrad linear algebra and probability OR CS 556\\nMachine learning aims to extract useful information from the data, and to build an accurate model on top of the extracted information for future prediction. There are two important aspects that have to be taken into account for a machine learning problem: how can we develop computationally efficient algorithms to learn useful information, and what is the prediction performance of the algorithm on unseen data. More importantly, is it possible to achieve the best of the two worlds, or there has to be some trade-off. This course will introduce students to concepts relating the computational efficiency and the statistical accuracy for a broad range of problems, including regression, classification, clustering, adaptive learning, to name a few. It will cover popular numerical methods that carry out state-of-the-art performance on the computational side, and it will also discuss possible improvement in the price of estimation accuracy and memory usage. The goal of the course is to help students understand these trade-offs from a theoretical perspective and guide them to design near-optimal algorithms for real-world problems.\\nPrerequisite\\n: CS 559 \\nMachine Learning: Fundamentals and Applications\\nArtificial intelligence (AI), sometimes called machine intelligence, is intelligence demonstrated by machines, in contrast to the natural intelligence displayed by humans and animals. Colloquially, the term \"artificial intelligence\" is used to describe machines that mimic cognitive functions that humans associate with other human minds, such as learning and problem solving. The course will emphasize on both learning and problem solving, and will develop rigorous statistical models for real-world AI applications. The course will also deliver modern optimization techniques to find an optimal model for a given problem. It will require a math background in calculus, linear algebra and probability, and programming skills in Python or Matlab.\\nPrerequisite\\n: \\nUndergrad linear algebra and probability OR CS 556\\nIn addition to the above four required courses, students can choose from three additional elective courses. The following can be found in \\nAcademic Catalog\\n and offer an online section:\\n*PROGRAM\\'S ELECTIVE COURSES (2) \\n \\nBIA 654 Experimental Design II \\n- 3 Credits \\nBIA 660 Web Mining \\n- 3 Credits \\nBIA 662 Cognitive Computing \\n- 3 Credits \\nBIA 678 Big Data Technologies\\n - 3 Credits \\nCPE 608 Applied Modeling & Optimization \\n- 3 Credits \\nCPE 695 Applied Machine Learning \\n- 3 Credits \\nFE 541 Applied Statistics with Applications in Finance \\n- 3 Credits \\nMA 541 Statistical Methods \\n- 3 Credits \\nMA 630 Advanced Optimization Methods \\n- 3 Credits \\nMA 641 Time Series Analysis I \\n- 3 Credits \\n*GENERAL ELECTIVE COURSES (3) \\n \\nThe remaining three courses can be any general elective approved by the student\\'s advisor or academic department.\\n(c) \\n2024\\n Stevens Institute of Technology', metadata={'program_availability': 'Online and On Campus', 'program_name': 'Machine Learning Masters Ses Grad Online', 'program_type': 'Masters/MS'})]"
      ]
     },
     "execution_count": 33,
     "metadata": {},
     "output_type": "execute_result"
    }
   ],
   "source": [
    "question = \"What is Masters in Machine Learning alll about?\"\n",
    "context = retriever.invoke(question)\n",
    "context"
   ]
  },
  {
   "cell_type": "code",
   "execution_count": 34,
   "metadata": {},
   "outputs": [
    {
     "data": {
      "text/plain": [
       "ChatPromptTemplate(input_variables=['context', 'question'], messages=[SystemMessagePromptTemplate(prompt=PromptTemplate(input_variables=[], template='You are an assistant for question-answering tasks related to Stevens Institute Of Technology.')), HumanMessagePromptTemplate(prompt=PromptTemplate(input_variables=['context', 'question'], template=\" \\n        Use the following pieces of retrieved context to answer the question.\\n        If you don't know the answer, just say that you don't know.\\n        If the topic is related to a course then ensure to mention to course numbers and display the result as a table.\\n        Answer in markdown format and render tables without code \\n        Question: {question}\\n        Context: {context}\\n        Answer:\"))])"
      ]
     },
     "execution_count": 34,
     "metadata": {},
     "output_type": "execute_result"
    }
   ],
   "source": [
    "from langchain_core.prompts import ChatPromptTemplate\n",
    "\n",
    "chat_template = ChatPromptTemplate.from_messages(\n",
    "    [   \n",
    "        (\"system\", \"You are an assistant for question-answering tasks related to Stevens Institute Of Technology.\"),\n",
    "        (\"human\", \"\"\" \n",
    "        Use the following pieces of retrieved context to answer the question.\n",
    "        If you don't know the answer, just say that you don't know.\n",
    "        If the topic is related to a course then ensure to mention to course numbers and display the result as a table.\n",
    "        Answer in markdown format and render tables without code \n",
    "        Question: {question}\n",
    "        Context: {context}\n",
    "        Answer:\"\"\"),\n",
    "    ]\n",
    ")\n",
    "chat_template"
   ]
  },
  {
   "cell_type": "code",
   "execution_count": 35,
   "metadata": {},
   "outputs": [],
   "source": [
    "combine_docs_chain = create_stuff_documents_chain(llm, chat_template)\n",
    "retrieval_chain = create_retrieval_chain(retriever, combine_docs_chain)"
   ]
  },
  {
   "cell_type": "code",
   "execution_count": 36,
   "metadata": {},
   "outputs": [
    {
     "data": {
      "text/markdown": [
       "> ### Masters in Machine Learning at Stevens Institute of Technology\n",
       "> \n",
       "> The Masters in Machine Learning program at Stevens Institute of Technology is designed to equip students with the knowledge and skills to be at the forefront of progress in the rapidly expanding field of machine learning. Here are some key points about the program:\n",
       "> \n",
       "> - **Program Overview**:\n",
       ">   - Establishes theoretical and practical foundations necessary for success in the next technological revolution.\n",
       ">   - Develops a thorough understanding of deep learning theory and important paradigms.\n",
       ">   - Offers a flexible curriculum with part-time or full-time enrollment options.\n",
       ">   - Provides thesis and non-thesis tracks, as well as internship opportunities.\n",
       ">   - Available fully online with Curricular Practical Training (CPT) for international students.\n",
       "> \n",
       "> - **Admissions Requirements**:\n",
       ">   - Bachelor's degree from an accredited institution with a minimum GPA of 3.0.\n",
       ">   - Official college transcripts, two letters of recommendation, and TOEFL/IELTS scores for international students.\n",
       ">   - Competitive GRE or GMAT score (not required for part-time students).\n",
       "> \n",
       "> - **Career Opportunities**:\n",
       ">   - Graduates can pursue roles such as Research Scientist, Machine Learning Engineer, Data Scientist, Business Intelligence Developer, and more.\n",
       ">   - Alumni have been hired at top companies like Amazon, Bloomberg, Facebook, Google, IBM, and Intel.\n",
       "> \n",
       "> - **Location and Industry Connections**:\n",
       ">   - Located in the heart of the New York City metropolitan area with networking opportunities at over 7,500 tech companies.\n",
       ">   - Strong emphasis on practical skills needed for industry work.\n",
       "> \n",
       "> - **Course Sequence**:\n",
       ">   - The program offers a suggested term-by-term sequence of courses, including foundational courses in machine learning, deep learning, and artificial intelligence.\n",
       ">   - Elective courses cover topics like Natural Language Processing, Deep Learning, and Applied Machine Learning.\n",
       "> \n",
       "> For more detailed information on specific courses and elective options, students can refer to the Academic Catalog for the most up-to-date offerings.\n",
       "> \n",
       "> Stevens Institute of Technology's Machine Learning Master's program aims to prepare students for successful careers in industry, academia, or research by providing a comprehensive and practical education in this rapidly evolving field."
      ],
      "text/plain": [
       "<IPython.core.display.Markdown object>"
      ]
     },
     "execution_count": 36,
     "metadata": {},
     "output_type": "execute_result"
    }
   ],
   "source": [
    "response = retrieval_chain.invoke({\"input\": question, \"question\": question})\n",
    "to_markdown(response[\"answer\"])"
   ]
  },
  {
   "cell_type": "code",
   "execution_count": null,
   "metadata": {},
   "outputs": [],
   "source": []
  }
 ],
 "metadata": {
  "kernelspec": {
   "display_name": "stevens",
   "language": "python",
   "name": "python3"
  },
  "language_info": {
   "codemirror_mode": {
    "name": "ipython",
    "version": 3
   },
   "file_extension": ".py",
   "mimetype": "text/x-python",
   "name": "python",
   "nbconvert_exporter": "python",
   "pygments_lexer": "ipython3",
   "version": "3.11.5"
  }
 },
 "nbformat": 4,
 "nbformat_minor": 2
}
