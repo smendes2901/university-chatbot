{
 "cells": [
  {
   "cell_type": "code",
   "execution_count": 1,
   "metadata": {},
   "outputs": [],
   "source": [
    "import os \n",
    "import sys\n",
    "base_dir = os.path.abspath('')\n",
    "curr_dir = os.path.dirname(base_dir)\n",
    "if not curr_dir in sys.path: sys.path.append(curr_dir)"
   ]
  },
  {
   "cell_type": "code",
   "execution_count": 2,
   "metadata": {},
   "outputs": [],
   "source": [
    "import json\n",
    "\n",
    "from chains.base import CommonChain\n",
    "from embedding import initialize_embeddings\n",
    "from models import initialize_llm\n",
    "from router import PromptRouter\n",
    "from utils import to_markdown"
   ]
  },
  {
   "cell_type": "code",
   "execution_count": 3,
   "metadata": {},
   "outputs": [],
   "source": [
    "llm = initialize_llm(\"gpt4\")\n",
    "embeddings = initialize_embeddings()"
   ]
  },
  {
   "cell_type": "code",
   "execution_count": 4,
   "metadata": {},
   "outputs": [],
   "source": [
    "chain_info = json.load(open(\"../chains/chain_info.json\"))"
   ]
  },
  {
   "cell_type": "code",
   "execution_count": 5,
   "metadata": {},
   "outputs": [],
   "source": [
    "finance_chain = CommonChain(\"../data/financing-a-stevens-education.csv\", embeddings)\n",
    "graudate_chain = CommonChain(\"../data/graduate-education.csv\", embeddings)\n",
    "undergraduate_chain = CommonChain(\"../data/undergraduate-education.csv\", embeddings)\n",
    "student_life = CommonChain(\"../data/student-life.csv\", embeddings)\n",
    "student_services = CommonChain(\"../data/student-services.csv\", embeddings)\n",
    "graudate_tution_chain = CommonChain(\n",
    "    \"../data/tuition-fees-and-other-expenses-for-graduate-students.csv\", embeddings\n",
    ")\n",
    "undergraudate_tution_chain = CommonChain(\n",
    "    \"../data/tuition-fees-and-other-expenses-for-undergraduate-students.csv\", embeddings\n",
    ")\n",
    "\n",
    "chains = {\n",
    "    \"financing_a_stevens_education\": finance_chain,\n",
    "    \"tuition_fees_and_other_expenses_for_undergraduate_students\": undergraudate_tution_chain,\n",
    "    \"tuition_fees_and_other_expenses_for_graduate_students\": graudate_tution_chain,\n",
    "    \"student_life_at_stevens\": student_life,\n",
    "    \"student_services_at_stevens\": student_services,\n",
    "    \"graduate_education_at_stevens\": graudate_chain,\n",
    "    \"undergraduate_chain\": undergraduate_chain,\n",
    "}"
   ]
  },
  {
   "cell_type": "code",
   "execution_count": 6,
   "metadata": {},
   "outputs": [],
   "source": [
    "router = PromptRouter(llm=llm, chain_info=chain_info)"
   ]
  },
  {
   "cell_type": "code",
   "execution_count": 7,
   "metadata": {},
   "outputs": [],
   "source": [
    "prompt = \"What is the financial aid provided for graduate courses?\""
   ]
  },
  {
   "cell_type": "code",
   "execution_count": 8,
   "metadata": {},
   "outputs": [
    {
     "data": {
      "text/plain": [
       "'financing_a_stevens_education'"
      ]
     },
     "execution_count": 8,
     "metadata": {},
     "output_type": "execute_result"
    }
   ],
   "source": [
    "chain_name = router.get_chain_name(prompt=prompt)\n",
    "chain_name"
   ]
  },
  {
   "cell_type": "code",
   "execution_count": 9,
   "metadata": {},
   "outputs": [],
   "source": [
    "curr_chain = chains.get(chain_name)\n",
    "response = curr_chain.process_prompt(llm, prompt=prompt)"
   ]
  },
  {
   "cell_type": "code",
   "execution_count": 10,
   "metadata": {},
   "outputs": [
    {
     "data": {
      "text/plain": [
       "{'context': [Document(page_content='\\n\\r\\n\\tGraduate Student Financial Information\\r\\n\\n\\nFinancial Aid Sources\\n\\n'),\n",
       "  Document(page_content='\\n\\r\\n\\tFinancial Aid Sources\\r\\nMany sources of financial aid are available to graduate students. These include fellowships, assistantships, on-campus employment, employer tuition assistance plans, loan funds, and deferred payment plans. Fellowships and assistantships are granted on a competitive basis to outstanding full-time graduate students. Applicants should consult their department for more information regarding assistantships. Continuing students may become eligible for additional sources of aid as they progress through the program and should consult with their department at regular intervals.\\nClick here for more information.\\n\\nGraduate AssistantshipsProvost Masters Fellowship AwardsResearch AssistantshipsTeaching AssistantshipsRobert Crooks Stanley Graduate FellowshipsGraduate GrantLoans and Work-StudyFAFSAFederal LoansPrivate Education Loans\\n\\n'),\n",
       "  Document(page_content='\\n\\r\\n\\tFederal Financial Aid Programs\\r\\nThe federal government offers grant, loan, and work opportunity programs to assist students and their families in meeting the cost of higher education. Eligibility consideration is determined by information from the FAFSA, a student’s enrollment status and satisfactory progress toward completion of their degree program.\\nUndergraduate students who are admitted to graduate degree programs are reclassified as graduate students when they are within six (6) credits of completing their undergraduate degree and are enrolled in at least one graduate level course. Students reclassified as graduate students are no longer eligible for undergraduate federal aid.\\nFederal aid programs include:\\nFederal Pell Grant:  The Federal Pell grant program is designed to assist the neediest of undergraduate students who are earning their first baccalaureate or four-year professional degree. For 2019-2020 awards range from $657 to $6195 per academic year.\\nFederal Supplemental Education Opportunity Grant:  is designed to assist undergraduate students with exceptional financial need and gives priority to students who receive Federal Pell Grants. Eligible students must be enrolled at least half time and awards range from $500 up to $4,000 annually.\\nFederal Work Study:  provides an opportunity to earn money while in school to help pay educational expenses. Students may work on campus or off campus at non-profit community service agencies. Awards range from $1,000 to $2,000 per academic year.\\nFederal Perkins Loan:  A subsidized loan with a 5% fixed interest rate offered to students demonstrating exceptional financial need. No interest accrues on the loan while enrolled at least half time; there is a nine (9) month grace period after a student graduates, withdraws or drops below half-time, prior to repayment. Awards range from $750 to $4,000. The Federal Perkins Loan Program expired on September 30, 2017.\\nFederal Direct Loan:  Eligibility for a Direct Federal Subsidized or Unsubsidized loan is based upon ‘need’ as determined by the information submitted on the FAFSA. Undergraduate borrower limits for Federal Direct Loans are as follows:\\n$3,500.00 Subsidized + $2,000.00 Unsubsidized for Dependent Freshmen\\n$3,500.00 Subsidized + $6,000.00 Unsubsidized for Independent Freshman\\n$4,500.00 Subsidized + $2,000.00 for Unsubsidized for Dependent Sophomores\\n$4,500.00 Subsidized +$6,000.00 for Unsubsidized for Independent Sophomores\\n$5,500.00 Subsidized + $2,000.00 for Unsubsidized for Dependent Juniors & Seniors\\n$5,500.00 Subsidized +$7,000.00 for Unsubsidized for Independent Juniors & Seniors\\nThe cumulative aggregate Federal Direct Loan debt an undergraduate dependent student may incur is $31,000.00 — no more than $23,000 may be from the Direct Subsidized Loan program. The cumulative aggregate Federal Direct Loan debt an independent student may incur is $57,500 — no more than $23,000 from the Direct Subsidized Loan program.\\nStudents must complete Loan Entrance Counseling and a Master Promissory Note (MPN) prior to borrowing at www.studentloans.gov. The Loan Entrance Counseling provides required information about a borrower’s rights and responsibilities.\\n\\nSubsidized Federal Direct LoansUnsubsidized Federal Direct LoansFederal PLUS Loan Program\\n\\n'),\n",
       "  Document(page_content='\\n\\r\\n\\tLoans and Work-Study\\r\\nGraduate students enrolled in a degree-granting program on at least a half-time basis (a minimum of six credits per semester) may apply for federal student loans and/or Federal Work-Study by submitting the Free Application for Federal Student Aid (FAFSA). The results of this standardized application will allow the Office of Financial Aid to determine eligibility for federal aid. Only U.S. citizens or permanent residents may file the FAFSA; international students do not qualify for federal assistance.\\n\\n'),\n",
       "  Document(page_content='\\n\\r\\n\\tFederal Loans\\r\\nThere are a number of loan opportunities for eligible graduate students. Federal Direct Unsubsidized Loans as well as Federal Direct Graduate PLUS loans may be available to qualified borrowers. The maximum amount that can be borrowed from the Federal Direct Unsubsidized Loan program for the academic year is $20,500. The graduate student aggregate loan limit is $138,500. Interest accrues on the loan beginning at disbursement (the interest rate is fixed and is 6.6% for the 2018-2019 year and a 1.062% loan fee taken at the time of disbursement).\\nThe Graduate PLUS loan is a credit-based loan that is not need based. The interest rate is fixed at 7.6% for the 2018-2019 year and a loan fee of 4.248% is taken at the time of disbursement. The Graduate PLUS Application can be completed at studentloans.gov. After submission of the PLUS Application, the student will receive a credit decision electronically. If credit approved then the student must complete their Graduate PLUS Promissory Note, on studentloans.gov. If your credit is declined by the federal government then you may appeal their credit decision, or you may wish to obtain a co-signer. A co- signer must electronically complete an Endorser Addendum on www.studentloans.gov.\\n\\n')],\n",
       " 'question': 'What is the financial aid provided for graduate courses?',\n",
       " 'answer': 'The financial aid provided for graduate courses at Stevens Institute of Technology includes various sources such as fellowships, assistantships, on-campus employment, employer tuition assistance plans, loan funds, and deferred payment plans. Here is a summary of the key financial aid options available:\\n\\n| Financial Aid Source | Description |\\n|----------------------|-------------|\\n| Fellowships | Competitive awards for outstanding full-time graduate students. |\\n| Assistantships | Including Provost Masters Fellowship Awards, Research Assistantships, Teaching Assistantships, and Robert Crooks Stanley Graduate Fellowships. |\\n| Graduate Grant | Grants awarded to graduate students. |\\n| Loans and Work-Study | Federal student loans and Federal Work-Study for eligible students enrolled at least half-time. |\\n| FAFSA | Free Application for Federal Student Aid for determining eligibility for federal aid. |\\n| Federal Loans | Federal Direct Unsubsidized Loans up to $20,500 per academic year and Graduate PLUS loans. |\\n| Work-Study | Opportunity to earn money to help pay educational expenses. |\\n\\nGraduate students should consult their department for more information regarding assistantships and may become eligible for additional sources of aid as they progress through their program. Federal financial aid programs are available to students who meet the eligibility criteria, which is determined by the FAFSA. International students do not qualify for federal assistance.'}"
      ]
     },
     "execution_count": 10,
     "metadata": {},
     "output_type": "execute_result"
    }
   ],
   "source": [
    "response"
   ]
  },
  {
   "cell_type": "code",
   "execution_count": null,
   "metadata": {},
   "outputs": [],
   "source": []
  }
 ],
 "metadata": {
  "kernelspec": {
   "display_name": "stevens",
   "language": "python",
   "name": "python3"
  },
  "language_info": {
   "codemirror_mode": {
    "name": "ipython",
    "version": 3
   },
   "file_extension": ".py",
   "mimetype": "text/x-python",
   "name": "python",
   "nbconvert_exporter": "python",
   "pygments_lexer": "ipython3",
   "version": "3.11.5"
  }
 },
 "nbformat": 4,
 "nbformat_minor": 2
}
