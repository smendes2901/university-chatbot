{
 "cells": [
  {
   "cell_type": "code",
   "execution_count": 1,
   "metadata": {},
   "outputs": [],
   "source": [
    "import os \n",
    "import sys\n",
    "base_dir = os.path.abspath('')\n",
    "curr_dir = os.path.dirname(base_dir)\n",
    "if not curr_dir in sys.path: sys.path.append(curr_dir)"
   ]
  },
  {
   "cell_type": "code",
   "execution_count": 2,
   "metadata": {},
   "outputs": [],
   "source": [
    "import json\n",
    "\n",
    "from chains.base import CommonChain\n",
    "from chains.self_retrival import ProgramChain\n",
    "from embedding import initialize_embeddings\n",
    "from models import initialize_llm\n",
    "from router import PromptRouter\n",
    "from utils import to_markdown"
   ]
  },
  {
   "cell_type": "code",
   "execution_count": 3,
   "metadata": {},
   "outputs": [],
   "source": [
    "llm = initialize_llm(\"gpt4\")\n",
    "embeddings = initialize_embeddings()"
   ]
  },
  {
   "cell_type": "code",
   "execution_count": 4,
   "metadata": {},
   "outputs": [
    {
     "data": {
      "text/plain": [
       "[{'name': 'financing_a_stevens_education',\n",
       "  'description': 'This contains all the information in regards to helping students finance their education at Stevens by providing information regarding financing sources, institution financing programs, financial aid and state financing'},\n",
       " {'name': 'tuition_fees_and_other_expenses_for_undergraduate_students',\n",
       "  'description': 'This contains all the information regarding tution fees and additional fees for undergraduate students'},\n",
       " {'name': 'tuition_fees_and_other_expenses_for_graduate_students',\n",
       "  'description': 'This contains all the information regarding tution fees and additional fees for graduate students'},\n",
       " {'name': 'student_life_at_stevens',\n",
       "  'description': 'This contains all the information regarding student services including sports, code of conduct and student government bodies'},\n",
       " {'name': 'student_services_at_stevens',\n",
       "  'description': 'This contains all the information regarding academic tutoring, career guidance, counseling, disability accommodations, financial aid management, health services, and housing options to facilitate student success and well-being'},\n",
       " {'name': 'graduate_education_at_stevens',\n",
       "  'description': 'This contains all the information regarding graduate student structured admissions guidance, course options, grading policies, English proficiency support for international students, and procedures for academic standing and progression'},\n",
       " {'name': 'undergraduate_education_at_stevens',\n",
       "  'description': 'This contains all the information regarding undergraduate student structured admissions guidance, course options, grading policies, English proficiency support for international students, and procedures for academic standing and progression'},\n",
       " {'name': 'program_info_at_stevens',\n",
       "  'description': 'This contains all the details regarding bachelors, masters, phd and engineering programs. Questions relating to elective courses, core courses and details regarding a particular program are available here'}]"
      ]
     },
     "execution_count": 4,
     "metadata": {},
     "output_type": "execute_result"
    }
   ],
   "source": [
    "chain_info = json.load(open(\"../chains/chain_info.json\"))\n",
    "chain_info"
   ]
  },
  {
   "cell_type": "code",
   "execution_count": 5,
   "metadata": {},
   "outputs": [],
   "source": [
    "finance_chain = CommonChain(\"financing_a_stevens_education\", embeddings)\n",
    "graudate_chain = CommonChain(\"graduate_education_at_stevens\", embeddings)\n",
    "undergraduate_chain = CommonChain(\"undergraduate_education_at_stevens\", embeddings)\n",
    "student_life = CommonChain(\"student_life_at_stevens\", embeddings)\n",
    "student_services = CommonChain(\"student_services_at_stevens\", embeddings)\n",
    "graudate_tution_chain = CommonChain(\"tuition_fees_and_other_expenses_for_graduate_students\", embeddings)\n",
    "undergraudate_tution_chain = CommonChain(\"tuition_fees_and_other_expenses_for_undergraduate_students\", embeddings)\n",
    "department_chain = ProgramChain(\"department_info\", embeddings)\n",
    "\n",
    "chains = {\n",
    "    \"financing_a_stevens_education\": finance_chain,\n",
    "    \"tuition_fees_and_other_expenses_for_undergraduate_students\": undergraudate_tution_chain,\n",
    "    \"tuition_fees_and_other_expenses_for_graduate_students\": graudate_tution_chain,\n",
    "    \"student_life_at_stevens\": student_life,\n",
    "    \"student_services_at_stevens\": student_services,\n",
    "    \"graduate_education_at_stevens\": graudate_chain,\n",
    "    \"undergraduate_education_at_stevens\": undergraduate_chain,\n",
    "    \"program_info_at_stevens\": department_chain,\n",
    "}"
   ]
  },
  {
   "cell_type": "code",
   "execution_count": 8,
   "metadata": {},
   "outputs": [
    {
     "data": {
      "text/plain": [
       "0"
      ]
     },
     "execution_count": 8,
     "metadata": {},
     "output_type": "execute_result"
    }
   ],
   "source": [
    "student_life.vectorstore._collection.count()"
   ]
  },
  {
   "cell_type": "code",
   "execution_count": 8,
   "metadata": {},
   "outputs": [],
   "source": [
    "router = PromptRouter(llm=llm, chain_info=chain_info)"
   ]
  },
  {
   "cell_type": "code",
   "execution_count": 9,
   "metadata": {},
   "outputs": [],
   "source": [
    "prompt = \"What are the elective courses for MS in Machine Learning?\""
   ]
  },
  {
   "cell_type": "code",
   "execution_count": 10,
   "metadata": {},
   "outputs": [
    {
     "name": "stdout",
     "output_type": "stream",
     "text": [
      "program_info_at_stevens\n"
     ]
    }
   ],
   "source": [
    "chain_name = router.get_chain_name(prompt=prompt)\n",
    "print(chain_name)"
   ]
  },
  {
   "cell_type": "code",
   "execution_count": 11,
   "metadata": {},
   "outputs": [],
   "source": [
    "curr_chain = chains.get(chain_name)\n",
    "response = curr_chain.process_prompt(llm, prompt=prompt)"
   ]
  },
  {
   "cell_type": "code",
   "execution_count": 12,
   "metadata": {},
   "outputs": [
    {
     "data": {
      "text/markdown": [
       "> I don't know."
      ],
      "text/plain": [
       "<IPython.core.display.Markdown object>"
      ]
     },
     "execution_count": 12,
     "metadata": {},
     "output_type": "execute_result"
    }
   ],
   "source": [
    "to_markdown(response[\"answer\"])"
   ]
  },
  {
   "cell_type": "code",
   "execution_count": null,
   "metadata": {},
   "outputs": [],
   "source": []
  }
 ],
 "metadata": {
  "kernelspec": {
   "display_name": "stevens",
   "language": "python",
   "name": "python3"
  },
  "language_info": {
   "codemirror_mode": {
    "name": "ipython",
    "version": 3
   },
   "file_extension": ".py",
   "mimetype": "text/x-python",
   "name": "python",
   "nbconvert_exporter": "python",
   "pygments_lexer": "ipython3",
   "version": "3.11.5"
  }
 },
 "nbformat": 4,
 "nbformat_minor": 2
}
