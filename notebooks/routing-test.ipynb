{
 "cells": [
  {
   "cell_type": "code",
   "execution_count": 51,
   "metadata": {},
   "outputs": [],
   "source": [
    "from langchain_openai import ChatOpenAI\n",
    "from langchain.prompts import PromptTemplate\n",
    "\n",
    "\n",
    "from langchain.chains.router.llm_router import LLMRouterChain, RouterOutputParser\n",
    "from langchain.chains.router.multi_prompt_prompt import MULTI_PROMPT_ROUTER_TEMPLATE"
   ]
  },
  {
   "cell_type": "code",
   "execution_count": 52,
   "metadata": {},
   "outputs": [],
   "source": [
    "model = \"gpt-3.5-turbo-0613\"\n",
    "llm = ChatOpenAI(model=model, temperature=0)"
   ]
  },
  {
   "cell_type": "code",
   "execution_count": 53,
   "metadata": {},
   "outputs": [],
   "source": [
    "class PromptFactory():\n",
    "\n",
    "    prompt_infos = [\n",
    "        {\n",
    "            \"name\": \"financing_a_stevens_education\",\n",
    "            \"description\": \"This contains all the information in regards to helping students finance their education at Stevens by providing information regarding financing sources, institution financing programs, financial aid and state financing\"\n",
    "        },\n",
    "        {\n",
    "            \"name\": \"tuition_fees_and_other_expenses_for_undergraduate_students\",\n",
    "            \"description\": \"This contains all the information regarding tution fees and additional fees for undergraduate students\"\n",
    "        },\n",
    "        {\n",
    "            \"name\": \"tuition_fees_and_other_expenses_for_graduate_students\",\n",
    "            \"description\": \"This contains all the information regarding tution fees and additional fees for graduate students\"\n",
    "        },\n",
    "        {\n",
    "            \"name\": \"student_life_at_stevens\",\n",
    "            \"description\": \"This contains all the information regarding student services including sports, code of conduct and student government bodies\"\n",
    "        },\n",
    "        {\n",
    "            \"name\": \"student_services_at_stevens\",\n",
    "            \"description\": \"This contains all the information regarding academic tutoring, career guidance, counseling, disability accommodations, financial aid management, health services, and housing options to facilitate student success and well-being\"\n",
    "        },\n",
    "        {\n",
    "            \"name\": \"graduate_education_at_stevens\",\n",
    "            \"description\": \"This contains all the information regarding graduate student structured academic programs, admissions guidance, course options, grading policies, English proficiency support for international students, and procedures for academic standing and progression\"\n",
    "        },\n",
    "        {\n",
    "            \"name\": \"undergraduate_education_at_stevens\",\n",
    "            \"description\": \"This contains all the information regarding undergraduate student structured academic programs, admissions guidance, course options, grading policies, English proficiency support for international students, and procedures for academic standing and progression\"\n",
    "        },\n",
    "    ]"
   ]
  },
  {
   "cell_type": "code",
   "execution_count": 58,
   "metadata": {},
   "outputs": [],
   "source": [
    "prompt_factory = PromptFactory()\n",
    "prompt_infos = prompt_factory.prompt_infos"
   ]
  },
  {
   "cell_type": "code",
   "execution_count": 60,
   "metadata": {},
   "outputs": [],
   "source": [
    "destinations = [f\"{p['name']}: {p['description']}\" for p in prompt_infos]\n",
    "destinations_str = '\\n'.join(destinations)\n",
    "router_template = MULTI_PROMPT_ROUTER_TEMPLATE.format(destinations=destinations_str)\n",
    "router_prompt = PromptTemplate(\n",
    "    template=router_template,\n",
    "    input_variables=['input'],\n",
    "    output_parser=RouterOutputParser()\n",
    ")\n",
    "router_chain = LLMRouterChain.from_llm(llm, router_prompt)"
   ]
  },
  {
   "cell_type": "code",
   "execution_count": 64,
   "metadata": {},
   "outputs": [
    {
     "data": {
      "text/plain": [
       "{'input': 'What are the financing options for a MS student',\n",
       " 'destination': 'financing_a_stevens_education',\n",
       " 'next_inputs': {'input': 'What are the financing options for a MS student'}}"
      ]
     },
     "execution_count": 64,
     "metadata": {},
     "output_type": "execute_result"
    }
   ],
   "source": [
    "out = router_chain.invoke({\"input\": \"What are the financing options for a MS student\"})\n",
    "out"
   ]
  },
  {
   "cell_type": "code",
   "execution_count": null,
   "metadata": {},
   "outputs": [],
   "source": []
  }
 ],
 "metadata": {
  "kernelspec": {
   "display_name": "stevens",
   "language": "python",
   "name": "python3"
  },
  "language_info": {
   "codemirror_mode": {
    "name": "ipython",
    "version": 3
   },
   "file_extension": ".py",
   "mimetype": "text/x-python",
   "name": "python",
   "nbconvert_exporter": "python",
   "pygments_lexer": "ipython3",
   "version": "3.11.5"
  }
 },
 "nbformat": 4,
 "nbformat_minor": 2
}
