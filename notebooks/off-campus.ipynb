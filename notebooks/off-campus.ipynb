{
 "cells": [
  {
   "cell_type": "code",
   "execution_count": 1,
   "metadata": {},
   "outputs": [],
   "source": [
    "import os \n",
    "import sys\n",
    "base_dir = os.path.abspath('')\n",
    "curr_dir = os.path.dirname(base_dir)\n",
    "if not curr_dir in sys.path: sys.path.append(curr_dir)"
   ]
  },
  {
   "cell_type": "code",
   "execution_count": 2,
   "metadata": {},
   "outputs": [],
   "source": [
    "from glob import glob\n",
    "from langchain_core.runnables import RunnableParallel\n",
    "from langchain_core.output_parsers import StrOutputParser\n",
    "from chains.utils import format_docs\n",
    "from prompt import BASIC_CHAT_TEMPLATE\n",
    "from langchain_core.runnables import RunnablePassthrough\n",
    "from langchain_chroma import Chroma"
   ]
  },
  {
   "cell_type": "code",
   "execution_count": 3,
   "metadata": {},
   "outputs": [
    {
     "data": {
      "text/plain": [
       "['../../data/text files\\\\https_  www.stevens.edu off-campus-employment isss-f1-students cap-gap-extension.txt',\n",
       " '../../data/text files\\\\https_  www.stevens.edu off-campus-employment isss-f1-students cpt-work-authorization.txt',\n",
       " '../../data/text files\\\\https_  www.stevens.edu off-campus-employment isss-f1-students opt-work-authorization.txt',\n",
       " '../../data/text files\\\\https_  www.stevens.edu off-campus-employment isss-f1-students other-off-campus-employment.txt',\n",
       " '../../data/text files\\\\https_  www.stevens.edu off-campus-employment isss-f1-students stem-extension.txt',\n",
       " '../../data/text files\\\\https_  www.stevens.edu off-campus-employment-0.txt']"
      ]
     },
     "execution_count": 3,
     "metadata": {},
     "output_type": "execute_result"
    }
   ],
   "source": [
    "files = glob(\"../../data/text files/*www.stevens.edu off-campus-employment*\")\n",
    "files"
   ]
  },
  {
   "cell_type": "code",
   "execution_count": 4,
   "metadata": {},
   "outputs": [],
   "source": [
    "out = []\n",
    "\n",
    "for file in files:\n",
    "    with open(file, \"r\") as fp:\n",
    "        out.append(fp.read())"
   ]
  },
  {
   "cell_type": "code",
   "execution_count": 8,
   "metadata": {},
   "outputs": [],
   "source": [
    "import pandas as pd\n",
    "pd.DataFrame({\"text\": out}).to_csv(\"../data/off_campus.csv\")"
   ]
  },
  {
   "cell_type": "code",
   "execution_count": 15,
   "metadata": {},
   "outputs": [],
   "source": [
    "from langchain_community.vectorstores import Chroma\n",
    "from langchain_community.embeddings import HuggingFaceEmbeddings\n",
    "from langchain_core.documents import Document"
   ]
  },
  {
   "cell_type": "code",
   "execution_count": 16,
   "metadata": {},
   "outputs": [],
   "source": [
    "model_kwargs = {\n",
    "    \"trust_remote_code\": True,\n",
    "    # \"device\": \"cpu\"\n",
    "    }\n",
    "encode_kwargs={\"normalize_embeddings\": True}\n",
    "embeddings = HuggingFaceEmbeddings(model_name=\"sentence-transformers/all-mpnet-base-v2\", model_kwargs=model_kwargs, encode_kwargs=encode_kwargs)"
   ]
  },
  {
   "cell_type": "code",
   "execution_count": 8,
   "metadata": {},
   "outputs": [],
   "source": [
    "docs = [\n",
    "    Document(page_content=text)\n",
    "    for text in out\n",
    "]\n",
    "# vector = Chroma.from_documents(docs, embeddings, collection_name=\"off_campus_employment\", persist_directory=\"../data/chromadb\")\n",
    "vector = Chroma(collection_name=\"off_campus_employment\", persist_directory=\"../data/chromadb\", embedding_function=embeddings)"
   ]
  },
  {
   "cell_type": "code",
   "execution_count": 19,
   "metadata": {},
   "outputs": [],
   "source": [
    "from langchain_openai import ChatOpenAI\n",
    "\n",
    "llm=ChatOpenAI(model=\"gpt-4-1106-preview\", temperature=0)"
   ]
  },
  {
   "cell_type": "code",
   "execution_count": 24,
   "metadata": {},
   "outputs": [],
   "source": [
    "rag_chain_from_docs = (\n",
    "    RunnablePassthrough.assign(context=(lambda x: format_docs(x[\"context\"])))\n",
    "    | BASIC_CHAT_TEMPLATE\n",
    "    | llm\n",
    "    | StrOutputParser()\n",
    ")\n",
    "retriever = vector.as_retriever(\n",
    "    search_type=\"similarity\", search_kwargs={\"k\": 5}\n",
    ")\n",
    "rag_chain_with_source = RunnableParallel(\n",
    "    {\"context\": retriever, \"question\": RunnablePassthrough()}\n",
    ").assign(answer=rag_chain_from_docs)\n"
   ]
  },
  {
   "cell_type": "code",
   "execution_count": 25,
   "metadata": {},
   "outputs": [
    {
     "data": {
      "text/plain": [
       "{'context': [Document(page_content=\"Curricular Practical Training (CPT) is work authorization that is granted to eligible F-1 students so that they may complete the requirements of a course or the Cooperative (Co-Op) Education Program.\\nStudents must meet the eligibility requirements listed below to apply for CPT work authorization:\\nBe a full-time student in F-1 status for at least one academic year (one fall and one spring semester)\\nBe in lawful F-1 status at the time of the CPT application\\nGet approval from Academic Advisor\\nBe enrolled in the practicum course necessitating practicum employment or the Cooperative Education Program (Co-op)\\nHave a job offer that is directly related to your major\\nHave a GPA of 3.0 or above (graduate students) or 2.0 or above (undergraduate students). Students should contact the Stevens Career Center for GPA requirements for the Cooperative Education Program.\\nBe otherwise enrolled in a full course of study (9 credits for graduate students, 12 credits for undergraduates), unless you are participating in Co-op. For more information regarding course enrollment and CPT, please review our \\nCPT FAQs Webpage\\nThe work location must be within a reasonable commuting distance (no more than 75 miles from campus).  Students may work outside of the 75 mile radius during the Summer term, unless they will be completing their program during the summer\\nStudents MUST continue to engage in a full-course load (9 credits for graduates, 12 credits for undergraduates) each fall and spring semester, unless it is their final semester and they have less than the full-course load credits remaining in their program. \\nStudents in their final semester that have less than 9 credits remaining and have an approved \\nFinal Semester Reduced Course Load (RCL)\\n from ISSS are permitted to engage in full-time work authorization during the fall or spring semester. \\nStudents in their final semester that have 9 or more credits remaining will only be able to engage in part-time CPT work authorization.\\nPart-Time CPT: \\nEmployment for 20 hours or less per week is considered part-time CPT. Though there is no limit to the length of time you may participate in part-time CPT, you must be enrolled in a course requiring the CPT employment for every semester you participate. Part-time CPT authorization does not affect OPT eligibility.\\nFull-Time CPT: \\nEmployment for more than 20 hours per week is considered full-time CPT. Please be aware that more than 364 days of full-time CPT will cancel your eligibility for Optional Practical Training (OPT). All Cooperative Education (Co-op) jobs are full-time CPT.\\nNOTE: If you are not attending your classes or your academic work is suffering because of your job, you may not be able to participate in CPT in the future if your GPA slips below the required minimum or be approved for a program extension on the sole basis that you need more time because your grades slipped due to CPT.\\nAs CPT work authorization is related to the requirements for the practicum course, the earliest a student may be approved to begin work is the first day of class for the term.  The last day a student may be approved to work is the last day of the final exam period for the term. To find the dates of the semester, please use the \\nAcademic Calendar\\n.\\nFall 2023 authorization dates: Friday, September 1, 2023 - Friday, December 22, 2023\\nSpring 2024 authorization dates: Wednesday, January 17, 2024 - Tuesday, May 14, 2024\\nSummer 2024 authorization dates: Thursday, May 16, 2024 - Monday, August 26, 2024\\nSummer Session II dates: Monday, July 8, 2024 - Saturday, August 24, 2024\\nFall 2024 authorization dates: Tuesday, September 3 - Sunday, December 22, 2024\\nStevens' academic policies indicate that students may earn no more than \\nthree (3)\\n practicum course credits per degree program.  Most academic departments will allow students to divide the three total credits between multiple semesters.  Please check with your academic department if you have questions concerning its policy on the number of practicum credits you may take per semester.  \\nContact your academic advisor to determine if there is a course available in your major or Co-op opportunity that requires employment. A practicum course is one that requires employment of all students in that class in order to be successfully completed. \\nGet approval from \\nGraduate Academics & Student Success \\nto enroll in the practicum course. This process is done through Workday. Once Graduate Academics approves your practicum application, you will need to enroll in the practicum course yourself through Workday. If you are participating in Co-Op, the Stevens Career Center will assist you (undergraduates) or Graduate Academics & Student Success (graduates).\\n**Students in their final semester: If you have already submitted the Reduced Course Load Request in Workday and you are unable to register for the course, you will be able to indicate this on the CPT request form and ISSS will assist you.**\\nGather your employer offer letter and work with your practicum advisor to complete the \\nAdvisor CPT Recommendation Form\\n. Once you  have these documents ready for upload, submit the ISSS CPT Request found in the Control Center of your \\nISSS Student Portal\\n. We recommend you complete this process at least 2 weeks prior to your intended start date. To avoid delays in the processing of your request, please ensure that your application has met all of the following requirements:\\nThe application that you submit is completed and contains all required uploads.\\nThe copy of your job offer letter contains all of the required information:\\nStudent's name\\nThe company name and address \\nThe address of the student's work location (if different from the company's main address or remote)\\nThe student's title\\nA brief internship description\\nThe number of hours per week to be worked\\nStart and end dates of the employment (within the semester dates). \\nThe letter must also be on the company's letterhead and must be signed by its author.\\nIf you are working remotely, the offer letter must also state the fact that you will be working remotely, the name of your supervisor, and details on how the practical training will be supervised remotely.\\nStudents in their final semester:\\nIf you are taking less than a full-time course load (12 credits for undergraduate students, 9 credits for graduate students), you must submit a\\n Reduced Course Load Request \\nin Workday. If you have already submitted the Reduced Course Load Request in Workday and you are unable to register for the course, you will be able to indicate this on the CPT request form and ISSS will assist you.\\nISSS will process your application after you have successfully enrolled in the practicum course. You will be issued a new Form I-20 with your CPT/Co-op employment information listed on the second page.\\nPlease visit the \\nSocial Security Number Information Page\\n to learn more about the process of obtaining an SSN for paid employment. Please note that you cannot apply for an SSN more than 30 days before the start date of your CPT work authorization.\\nYou must register in the practicum course in Workday for your major \\nwithin 2 weeks after the add/drop period. Students will only be able to add the practicum course to their Workday schedule on their own up until the end of the add/drop period\\n. \\nThe add/drop dates are listed on the \\nStevens Academic Calendar.\\nSpring 2024 Semester: \\nFebruary 13, 2024*\\nSummer 2024 Semester: \\nJune 14, 2024*\\nDates of authorization: May 16, 2024- August 26, 2024\\nSummer 2024 Session II Only: \\nJuly 26, 2024*\\nDates of authorization: July 8, 2024- August 24, 2024\\nFall 2024 Semester: \\nTBD\\n(please check with your Academic Department if there is a Summer II Practicum course)\\nYou should also submit your application materials to ISSS by the deadlines above. You do not need to begin working by the deadline or receive your I-20 by the deadline, but materials and enrollment should be completed by the above deadlines.\\n*Students who have not enrolled in the practicum course by the end of the add/drop deadline should contact the \\nOffice of Graduate Academics & Student Success\\n regarding enrollment options. If you are not approved by Graduate Academics and cannot enroll in the practicum course, ISSS will not be able to issue an I-20 with the CPT work authorization and you will not be permitted to engage in employment.\\n(c) \\n2024\\n Stevens Institute of Technology\"),\n",
       "  Document(page_content=\"Off Campus work, such as CPT or OPT, will require ISSS and/or USCIS Authorization \\nbefore\\n you may begin working. \\nIf you work before the authorized start date  or you work without proper work authorization, your F-1 status will be\\n \\nterminated.\\nCurricular Practical Training (CPT) is work authorization that is granted to eligible F-1 students so that they may complete the requirements of a course or the Cooperative (Co-Op) Education Program.\\nOPT is off-campus employment authorization that allows F-1 students to gain work experience in the major/field of study in which they are currently studying.\\nYou may use OPT during (pre-completion) or after (post-completion) your studies.\\nThe maximum amount of work you are permitted is 12 months of full-time employment for each higher educational level you pursue in the U.S.\\nIf you work part-time (less than 20 hours per week) before graduation (pre-completion OPT), your work time accrues at  1/2 rate (for instance, if you work part-time for six months, you've only used three months of your OPT).\\nCertain majors in STEM (science, technology, engineering, and math) fields also qualify for a 24-month extension of OPT after completing their post-completion OPT. Please refer to the \\nSTEM OPT page\\n for more information.\\nF-1 students participating in post-completion OPT who have earned or are currently earning a bachelor's, master's, or Ph.D. from a qualified degree program on the \\ngovernment STEM-designated list\\n, may be eligible to apply for the 24-month STEM Optional Practical Training (OPT) extension.\\nStudents with pending or approved H-1B petitions are permitted to extend their F-1 OPT/STEM OPT work authorization from the end of the OPT/STEM OPT period through September 30. This period, known as the Cap-Gap, only applies to those whose OPT/STEM OPT period ends prior to September 30 and to those with H-1B petitions filed with a request for a change in immigration status, not consular processing. This regulation enables those on OPT/STEM OPT to continue their employment until their H-1B takes effect on October 1.\\nF-1 students have two options for off-campus employment other than CPT or OPT. These other options require authorization, a new I-20 from ISSS, and also require approval and an Employment Authorization Document (EAD) from USCIS. Except in rare circumstances, off-campus employment is not available until a student has completed one academic year (one fall and one spring semester) in full-time study in F-1 status within the U.S. The below information provides more specific information in regard to each type of off-campus employment authorization, severe economic hardship employment and employment with an international organization.\\n(c) \\n2024\\n Stevens Institute of Technology\"),\n",
       "  Document(page_content='F-1 students have two options for off-campus employment other than CPT or OPT. These other options require authorization, a new I-20 from ISSS, and also require approval and an Employment Authorization Document (EAD) from USCIS. Except in rare circumstances, off-campus employment is not available until a student has completed one academic year (one fall and one spring semester) in full-time study in F-1 status within the U.S. The below information provides more specific information in regard to each type of off-campus employment authorization, severe economic hardship employment and employment with an international organization.\\nFor both of these off-campus employment opportunities, your F-1 reporting responsibilities remain the same. You are still required to report the following information to ISSS within 10 days of making the change:\\nChange of name: Providing your updated passport noting the change.\\nChange of address: In addition to reporting this to ISSS, it is particularly important that changes of address be \\nreported immediately to USCIS\\n if your application is still pending with USCIS so that your documents (Receipt, Approval Notice, EAD, etc.) will be sent to you at the correct address.\\n \\nWHAT IS IT?\\nSevere Economic Hardship Employment is off-campus employment authorization for students who are experiencing serious financial difficulties caused by unforeseen circumstances beyond their control that occurred after they applied for and received the F-1 visa or I-20 (for students who changed status in the U.S.).  If authorized, you may get any kind of legal employment anywhere in the U.S. and work a maximum of 20 hours per week while school is in session (fall and spring semesters) and full-time during vacation periods.\\nHOW CAN YOU QUALIFY FOR IT?\\nYou must have been in F-1 status for one academic year.\\nOn-campus employment has been either unavailable or insufficient to meet your needs\\nYou must be able to provide EVIDENCE which proves that you have financial problems that are caused by unforeseen circumstances beyond your control.  Any reasons are acceptable as long as you can convince USCIS that they could not have been avoided and are beyond your control.\\nExamples of unexpected expenses may be: unexpected medical expenses, illness or death of a sponsor or a sponsor\\'s family member, a sponsor\\'s business problems, natural disasters or other problems where your sponsor lives, currency devaluations, or large tuition increases.\\nIf your financial difficulties are caused by problems your sponsor is having (the person who provided you with the financial support to receive your Form I-20), that person should provide evidence of the unexpected circumstances that are now affecting your support and complete a Revised Affidavit of Financial Support indicating the new amount that will be provided (if any) and evidence of continued financial capability to provide it.  Evidence may include newspaper/journal/web articles, official school notices, medical bills, death notice, etc.   \\nHOW DO YOU APPLY?\\nIf you think that you qualify for Severe Economic Hardship Employment authorization but would like to discuss the process further, \\nemail an ISSS advisor\\n to discuss your situation.\\nOnce you submit the required documentation and we believe that you have a reasonable case, we will recommend that USCIS authorize your employment due to severe economic hardship, issue you a new I-20, and you will send your application to USCIS to process your work authorization.\\nHOW LONG DOES IT TAKE?\\nAfter you send your application to USCIS, plan that it will take \\nabout three months\\n for your EAD (Employment Authorization Document) to be returned to us from USCIS.\\nSometimes USCIS will write asking for more evidence of your financial problems. If you receive a Request for Evidence, please let us know; this may delay your application processing.\\nHOW LONG WILL I BE ABLE TO WORK?\\nUSCIS grants hardship employment authorization for one-year periods.  It can be renewed annually up to your expected date of completion of studies.\\nYour employment authorization is automatically terminated if you fail to maintain your F-1 student status.\\nYOU CANNOT START WORKING UNTIL USCIS AUTHORIZES YOUR EMPLOYMENT AND YOU RECEIVE AN EAD!\\nThis type of employment is for students who receive an internship (written offer) with \"a recognized international organization within the meaning of the International Organization Immunities Act, \"\\nsee22 USC 288 for the list of organizations\\n\". \\nWork does not have to be related to your course of study and can be full-time or part-time.\\nWork authorization must be granted by USCIS and is granted in increments of no more than one year.\\nThere is no waiting period, so a student is eligible at the start of F-1 status, as long as the organization and position qualify.\\nTo apply for Employment with an International Organization, please \\nemail an ISSS Advisor\\n to discuss your situation.\\n(c) \\n2024\\n Stevens Institute of Technology'),\n",
       "  Document(page_content='F-1 students participating in post-completion OPT who have earned or are currently earning a bachelor\\'s, master\\'s, or Ph.D. from a qualified degree program on the \\ngovernment STEM-designated list\\n, may be eligible to apply for the 24-month STEM Optional Practical Training (OPT) extension.\\nBe maintaining valid F-1 status.\\nCurrently participating in post-completion OPT administered by Stevens, working in the U.S. in a job related directly to  major field of study.\\nMust have reported employment to ISSS using the \\nOPT Employer Update Form\\n or through the \\nSEVP Portal\\n.\\nHave not exceeded 90 days of unemployment during the post-completion OPT period and will not exceed that limit prior to the STEM OPT extension start date.\\nHave previously earned (in the past ten years) or \\nare currently earning (in thesis/dissertation status at Stevens Institute of Technology only) a bachelor\\'s, master\\'s, or Ph.D. which has its field of study/major listed on the \\ngovernment STEM-designated list\\n.\\nMust have a job or a job offer for paid employment of at least twenty (20) hours per week with a company enrolled in and using the government\\'s \\nE-Verify\\n employment verification system.\\nMust not be self-employed. Self-employment is not an option on the STEM OPT extension.\\nHave not previously used the STEM OPT extension for this degree level.\\nHave not previously used the STEM OPT extension more than once.\\nThe earliest you can apply is 90 days prior to the end date of your post-completion OPT. USCIS must receive your STEM OPT application before your post-completion OPT expires.\\n \\nYou cannot apply for STEM OPT during your 60-day grace period.\\nIf you file your STEM OPT extension application on time and your OPT  period expires while your extension application is pending, \\nUSCIS will automatically extend\\n your employment authorization for 180 days. This automatic 180-day  extension ceases once USCIS adjudicates your STEM OPT extension  application.\\nFrom your \\nISSS Student Portal\\n Control Center, select STEM OPT Request Form. A box will pop-up with details on your current Post-Completion OPT. Please click on your Post-Completion OPT line item to open the STEM Request Form. Please note that the STEM OPT Extension Request Form will become available to you on your portal once you are within 100 days of your OPT End Date.\\nYou will need to upload a completed \\nForm I-983,\\n using the \\nI-983 Guide\\n to complete the form\\nIf you are changing employers, submit the OPT/STEM OPT Employer Update Form from your \\nISSS Student Portal\\n Control Center.\\nCopy of your EAD \\nISSS processing time is 10 business days.\\nISSS will issue you a new I-20 with the STEM OPT recommendation. You will receive an email when your new I-20 is ready in your ISSS Student Portal.\\nOnce you download your new I-20, print, sign and date the \"Student Attestation\" section on page 1 of your I-20. \\nGather the documents found on the \\nSTEM OPT Checklist and Instructions.\\nOnce you have gathered all your documents, you will submit your application to USCIS. Please  refer to the \\nSTEM OPT Checklist and Instructions\\n for a list of required documents. Remember, applications must be received by USCIS within 60 days of the issuance date on the I-20 and no later than the end date of post-completion OPT, whichever comes first. \\nUSCIS will issue an I-797C Receipt Notice within 2-4 weeks after receiving your application via post. If you submit your application online, you will receive a receipt number right away. You can check the status of your case on \\nUSCIS.gov\\n. \\nContact \\n[email protected]\\n if you receive any other notice, such a Request for Evidence (RFE) or rejection notice, from USCIS. \\nIf you file your STEM OPT extension application on time and your OPT  period expires while your extension application is pending, \\nUSCIS will automatically extend\\n your employment authorization for 180 days. Your employer may refer to section 7.4.4 the \\nI-9 Manual\\n if they have questions on how to complete the Form I-9 while your application is pending.\\nIf your application is approved, USCIS will mail you an Employment  Authorization Document (EAD) for the STEM OPT extension, which will list the start and end dates you are authorized to work on the STEM OPT extension. \\nYou do not need a new I-20 once your STEM OPT extension has been approved. However, if you wish to get an updated I-20 showing your STEM OPT approval, you can request a reprint I-20 (reason: updated) from your \\nISSS Student Portal\\n Control Center. \\nContact \\n[email protected]\\n if you receive any other notice, such a Request for Evidence (RFE), from USCIS. \\nBelow you will find webpages for the STEM OPT Filing Checklist, Frequently Asked Questions, and How to Maintain your F-1 Status while on active STEM OPT. \\nUSCIS now allows STEM OPT Extension applications to be filed online. You have the option to submit your application via regular mail or file online. This webpage will guide you through the application requirement for your STEM OPT Application to USCIS. \\nUsing the online I-765 to apply for STEM OPT Extension.\\nMany of the questions you may have about requesting, filing for, or participating in STEM OPT can be answered on our Frequently Asked Questions Page. \\nOnce you are on active STEM OPT, you must follow the STEM OPT Employment and Reporting requirements to maintain your F-1 Status.\\nIf you have received your EAD card and find that there is an error on the card, such as a name misspelling, birth date error, or the wrong OPT Category was issued, or if you have lost your EAD Card, please refer to the information on this webpage to request a new EAD Card from USCIS. \\n(c) \\n2024\\n Stevens Institute of Technology'),\n",
       "  Document(page_content=\"OPT is off-campus employment authorization that allows F-1 students to gain work experience in the major/field of study in which they are currently studying.\\nYou may use OPT during (pre-completion) or after (post-completion) your studies.\\nThe maximum amount of work you are permitted is 12 months of full-time employment for each higher educational level you pursue in the U.S.\\nIf you work part-time (less than 20 hours per week) before graduation (pre-completion OPT), your work time accrues at  1/2 rate (for instance, if you work part-time for six months, you've only used three months of your OPT).\\nCertain majors in STEM (science, technology, engineering, and math) fields also qualify for a 24-month extension of OPT after completing their post-completion OPT. Please refer to the \\nSTEM OPT page\\n for more information.\\nDuring the summer vacation and semester break, you may apply to do either part-time or full-time pre-completion OPT employment.\\nWhile school is in session, you may apply to do part-time pre-completion OPT employment only.\\nYou can apply for Pre-Completion OPT via the \\nISSS Student Portal\\n.\\nApplied for during your final semester to begin after the completion of ALL requirements for your course of study.\\nThesis/Dissertation Status: may apply for post-completion OPT if you are in thesis/dissertation status and have met all your degree requirements, except for the thesis/dissertation\\nYou must have been enrolled full-time for at least one academic year (spring and fall term).\\nYou must be able to describe how the type of work you are seeking directly relates to your major. You do not have to have a job offer to apply for OPT, but if you are applying for pre-completion of studies OPT, it is wise that you be as sure as possible of a job so that you don't waste any of your 12 months of OPT time.\\nYou may apply for Post-Completion OPT up to 90 days before completion of your program of study, but not later than 60 days after. If you apply within the 60-day period after completion, you are likely not to receive your full 12 month OPT benefit due to USCIS processing times.\\nIf you have already used 12 months of full-time Curricular Practical Training (CPT), you are not eligible for any OPT.\\nFor pre-completion OPT, student must have a GPA of 3.0 or above (graduate students) or 2.0 or above (undergraduate students). Students must be in good academic standing and not on academic probation or warning in order to apply.\\nGraduation approval in Workday does not need to be processed by the Registrar for the OPT application. However, you should apply for program completion in Workday by the Registrar's deadline. \\nTo confirm your program completion in Workday for your OPT Application, please follow the directions based on your graduation term: \\nSPRING 2023 GRADUATES:\\n To confirm your graduation for your OPT Application, please ensure that your Expected Program Completion Date listed on your Workday Academics Tab matches that of the semester you intend to graduate in. If your Expected Program Completion Date does not match the semester you wish to graduate in, you will need to update it using the \\nGraduate\\n or \\nUndergraduate\\n Workday Guide. \\nISSS processing time is 10 business days.\\nStudents who do not have their program completion confirmed in Workday per the directions in STEP 1 will be instructed to submit the requirements as part of the OPT Request.\\nISSS will issue you a new I-20 with the OPT recommendation. You will receive an email when your new I-20 is ready.\\nOnce you receive your new I-20, sign the I-20 on page 1.\\nGather the documents found on the \\nPre and Post Completion OPT Application to USCIS Checklist.\\nOnce you have gathered all your documents, you will submit your documents to USCIS. Since April 2021, USCIS has allowed OPT applications to be \\nfiled online\\n. \\nIf you apply online and have not yet received your OPT I-20 from ISSS, your OPT application will be denied.\\nIf filing online, please review the \\nISSS Online Filing Webpage\\n and the \\nISSS ONLINE FILING GUIDE\\n.\\nIf you still prefer to mail your application to USCIS, please refer to the Filing via mail  \\nPre and Post Completion OPT Application to USCIS Checklist\\n for additional details.\\nREMINDER: 30 DAY RULE!\\n Applications must be received by USCIS within 30 days of the issuance date on the I-20 and no later than than the end of the 60 day grace period, whichever comes first\\n. Applications received by USCIS after the 30 days will be accepted and adjudicated but will be denied by USCIS at the end of the process. \\nThis is the most common reason for denial.\\nIf you apply online, you will receive a receipt number as soon as you submit your application. A paper copy will be mailed to you as well. If you apply via mail, USCIS will issue an I-797C Receipt Notice within 2-4 weeks after receiving your application. You can check the status of your case on \\nUSCIS.gov\\n.\\nContact \\n[email protected]\\n if you receive any other notice, such a Request for Evidence (RFE) or rejection notice, from USCIS.\\nIf your application is approved, USCIS will mail you an Employment Authorization Document (EAD) for OPT, which will list the start and end dates you are authorized to work\\nContact \\n[email protected]\\n if you receive any other notice, such a Request for Evidence (RFE), from USCIS.\\nBelow you will find webpages for the OPT Filing Checklist, Frequently Asked Questions, and maintaining your SEVP Portal.\\nUSCIS now allows OPT applications to be filed online. You have the option to submit your application via regular mail OR file online. Do not submit two applications! Follow the OPT Checklist and instructions to submit your OPT Application to USCIS. \\nThe ISSS I-765 for Online Filing includes I-765 questions, document upload, and submission.\\nTips, resources, and guides to completing the I-765 Form required for the OPT Application.\\nOnce your OPT Application is approved, it is important to properly maintain your F-1 Status while engaging in OPT Work Authorization.\\nIf you have received your EAD card and find that there is an error on the card, such as a name misspelling, birth date error, or the wrong OPT Category was issued, or if you have lost your EAD Card, please refer to the information on this webpage to request a new EAD Card from USCIS. \\nBe sure to consult with an ISSS Advisor at \\n[email protected]\\n before applying for Pre-Completion OPT. \\n(c) \\n2024\\n Stevens Institute of Technology\")],\n",
       " 'question': 'What is CPT?',\n",
       " 'answer': 'Curricular Practical Training (CPT) is work authorization granted to eligible F-1 students, allowing them to fulfill the requirements of a course or the Cooperative (Co-Op) Education Program. Here are the key points regarding CPT:\\n\\n- **Eligibility Requirements:**\\n  - Full-time student in F-1 status for at least one academic year (one fall and one spring semester)\\n  - Lawful F-1 status at the time of CPT application\\n  - Approval from Academic Advisor\\n  - Enrollment in a practicum course or Co-op\\n  - Job offer related to major\\n  - GPA of 3.0+ (graduate) or 2.0+ (undergraduate)\\n  - Full course of study enrollment, unless participating in Co-op\\n\\n- **Types of CPT:**\\n  - **Part-Time CPT:** Employment for 20 hours or less per week. Does not affect OPT eligibility.\\n  - **Full-Time CPT:** Employment for more than 20 hours per week. More than 364 days of full-time CPT will cancel OPT eligibility.\\n\\n- **Authorization Dates:**\\n  - Fall 2023: September 1 - December 22, 2023\\n  - Spring 2024: January 17 - May 14, 2024\\n  - Summer 2024: May 16 - August 26, 2024\\n  - Summer Session II 2024: July 8 - August 24, 2024\\n  - Fall 2024: September 3 - December 22, 2024\\n\\n- **Application Process:**\\n  - Approval from Graduate Academics & Student Success\\n  - Enrollment in practicum course through Workday\\n  - Advisor CPT Recommendation Form\\n  - Submission of ISSS CPT Request with employer offer letter\\n\\n- **Important Considerations:**\\n  - Work location must be within a reasonable commuting distance (no more than 75 miles from campus), except during the summer term.\\n  - Students must maintain a full-course load each fall and spring semester, unless it is their final semester with less than a full-course load remaining.\\n  - Students in their final semester with an approved Final Semester Reduced Course Load (RCL) from ISSS may engage in full-time work authorization.\\n\\n- **Deadlines:**\\n  - Students must register in the practicum course in Workday within 2 weeks after the add/drop period.\\n  - Specific add/drop dates are listed on the Stevens Academic Calendar.\\n\\n- **Off-Campus Work Authorization:**\\n  - CPT or OPT requires ISSS and/or USCIS authorization before beginning work.\\n  - Working before the authorized start date or without proper work authorization can result in F-1 status termination.\\n\\nFor more detailed information, students should refer to the CPT FAQs Webpage and contact their academic advisor or the Stevens Career Center.'}"
      ]
     },
     "execution_count": 25,
     "metadata": {},
     "output_type": "execute_result"
    }
   ],
   "source": [
    "rag_chain_with_source.invoke(\"What is CPT?\")"
   ]
  },
  {
   "cell_type": "code",
   "execution_count": null,
   "metadata": {},
   "outputs": [],
   "source": []
  }
 ],
 "metadata": {
  "kernelspec": {
   "display_name": "stevens",
   "language": "python",
   "name": "python3"
  },
  "language_info": {
   "codemirror_mode": {
    "name": "ipython",
    "version": 3
   },
   "file_extension": ".py",
   "mimetype": "text/x-python",
   "name": "python",
   "nbconvert_exporter": "python",
   "pygments_lexer": "ipython3",
   "version": "3.11.5"
  }
 },
 "nbformat": 4,
 "nbformat_minor": 2
}
