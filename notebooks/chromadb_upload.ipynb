{
 "cells": [
  {
   "cell_type": "code",
   "execution_count": 1,
   "metadata": {},
   "outputs": [],
   "source": [
    "from langchain_community.vectorstores import Chroma\n",
    "from langchain_community.embeddings import HuggingFaceEmbeddings\n",
    "from langchain_core.documents import Document"
   ]
  },
  {
   "cell_type": "code",
   "execution_count": 2,
   "metadata": {},
   "outputs": [],
   "source": [
    "model_kwargs = {\n",
    "    \"trust_remote_code\": True,\n",
    "    # \"device\": \"cpu\"\n",
    "    }\n",
    "encode_kwargs={\"normalize_embeddings\": True}\n",
    "embeddings = HuggingFaceEmbeddings(model_name=\"sentence-transformers/all-mpnet-base-v2\", model_kwargs=model_kwargs, encode_kwargs=encode_kwargs)"
   ]
  },
  {
   "cell_type": "code",
   "execution_count": 14,
   "metadata": {},
   "outputs": [],
   "source": [
    "import pandas as pd\n",
    "financing_df = pd.read_csv(\"../data/financing-a-stevens-education.csv\")\n",
    "graduate_tution_df = pd.read_csv(\"../data/tuition-fees-and-other-expenses-for-graduate-students.csv\")\n",
    "undergraduate_tution_df = pd.read_csv(\"../data/tuition-fees-and-other-expenses-for-undergraduate-students.csv\")\n",
    "student_life_df = pd.read_csv(\"../data/student-life.csv\")\n",
    "student_services_df = pd.read_csv(\"../data/student-services.csv\")\n",
    "graduate_education_df = pd.read_csv(\"../data/graduate-education.csv\")\n",
    "undergraduate_education_df = pd.read_csv(\"../data/undergraduate-education.csv\")\n",
    "courses_df = pd.read_csv(\"../data/courses_info_w_meta.csv\")\n",
    "department_df = pd.read_csv(\"../data/department_info_w_meta.csv\")\n",
    "off_campus_df = pd.read_csv(\"../data/off_campus.csv\")"
   ]
  },
  {
   "cell_type": "code",
   "execution_count": 4,
   "metadata": {},
   "outputs": [],
   "source": [
    "docs = [\n",
    "    Document(page_content=text)\n",
    "    for text in financing_df[\"text\"].tolist()\n",
    "]\n",
    "vector = Chroma.from_documents(docs, embeddings, collection_name=\"financing_a_stevens_education\", persist_directory=\"../data/chromadb\")"
   ]
  },
  {
   "cell_type": "code",
   "execution_count": 5,
   "metadata": {},
   "outputs": [],
   "source": [
    "docs = [\n",
    "    Document(page_content=text)\n",
    "    for text in undergraduate_tution_df[\"text\"].tolist()\n",
    "]\n",
    "vector = Chroma.from_documents(docs, embeddings, collection_name=\"tuition_fees_and_other_expenses_for_undergraduate_students\", persist_directory=\"../data/chromadb\")"
   ]
  },
  {
   "cell_type": "code",
   "execution_count": 6,
   "metadata": {},
   "outputs": [],
   "source": [
    "docs = [\n",
    "    Document(page_content=text)\n",
    "    for text in graduate_tution_df[\"text\"].tolist()\n",
    "]\n",
    "vector = Chroma.from_documents(docs, embeddings, collection_name=\"tuition_fees_and_other_expenses_for_graduate_students\", persist_directory=\"../data/chromadb\")"
   ]
  },
  {
   "cell_type": "code",
   "execution_count": 7,
   "metadata": {},
   "outputs": [],
   "source": [
    "docs = [\n",
    "    Document(page_content=text)\n",
    "    for text in student_life_df[\"text\"].tolist()\n",
    "]\n",
    "vector = Chroma.from_documents(docs, embeddings, collection_name=\"student_life_at_stevens\", persist_directory=\"../data/chromadb\")"
   ]
  },
  {
   "cell_type": "code",
   "execution_count": 8,
   "metadata": {},
   "outputs": [],
   "source": [
    "docs = [\n",
    "    Document(page_content=text)\n",
    "    for text in student_services_df[\"text\"].tolist()\n",
    "]\n",
    "vector = Chroma.from_documents(docs, embeddings, collection_name=\"student_services_at_stevens\", persist_directory=\"../data/chromadb\")"
   ]
  },
  {
   "cell_type": "code",
   "execution_count": 9,
   "metadata": {},
   "outputs": [],
   "source": [
    "docs = [\n",
    "    Document(page_content=text)\n",
    "    for text in graduate_education_df[\"text\"].tolist()\n",
    "]\n",
    "vector = Chroma.from_documents(docs, embeddings, collection_name=\"graduate_education_at_stevens\", persist_directory=\"../data/chromadb\")"
   ]
  },
  {
   "cell_type": "code",
   "execution_count": 10,
   "metadata": {},
   "outputs": [],
   "source": [
    "docs = [\n",
    "    Document(page_content=text)\n",
    "    for text in undergraduate_education_df[\"text\"].tolist()\n",
    "]\n",
    "vector = Chroma.from_documents(docs, embeddings, collection_name=\"undergraduate_education_at_stevens\", persist_directory=\"../data/chromadb\")"
   ]
  },
  {
   "cell_type": "code",
   "execution_count": 32,
   "metadata": {},
   "outputs": [],
   "source": [
    "courses_df.dropna(subset=[\"course_number\"], inplace=True)\n",
    "courses_df[\"course_number\"] = courses_df[\"course_number\"].astype(int)\n",
    "docs = [\n",
    "    Document(\n",
    "        page_content=doc[\"page_content\"],\n",
    "        metadata=dict((key, value) for key, value in doc.items() if key!=\"page_content\")\n",
    "    )\n",
    "    for doc in courses_df.to_dict(orient=\"records\")\n",
    "]\n",
    "vector = Chroma.from_documents(docs, embeddings, collection_name=\"course_info\", persist_directory=\"../data/chromadb\")"
   ]
  },
  {
   "cell_type": "code",
   "execution_count": 23,
   "metadata": {},
   "outputs": [],
   "source": [
    "docs = [\n",
    "    Document(\n",
    "        page_content=doc[\"page_content\"],\n",
    "        metadata=dict((key, value) for key, value in doc.items() if key!=\"page_content\")\n",
    "    )\n",
    "    for doc in department_df.to_dict(orient=\"records\")\n",
    "]\n",
    "vector = Chroma.from_documents(docs, embeddings, collection_name=\"department_info\", persist_directory=\"../data/chromadb\")"
   ]
  },
  {
   "cell_type": "code",
   "execution_count": 16,
   "metadata": {},
   "outputs": [],
   "source": [
    "docs = [\n",
    "    Document(page_content=text)\n",
    "    for text in off_campus_df[\"text\"].tolist()\n",
    "]\n",
    "vector = Chroma.from_documents(docs, embeddings, collection_name=\"off_campus_employment\", persist_directory=\"../data/chromadb\")"
   ]
  },
  {
   "cell_type": "code",
   "execution_count": 13,
   "metadata": {},
   "outputs": [
    {
     "name": "stderr",
     "output_type": "stream",
     "text": [
      "c:\\Users\\smend\\miniconda3\\envs\\stevens\\Lib\\site-packages\\langchain_core\\_api\\deprecation.py:119: LangChainDeprecationWarning: Since Chroma 0.4.x the manual persistence method is no longer supported as docs are automatically persisted.\n",
      "  warn_deprecated(\n"
     ]
    }
   ],
   "source": [
    "vector.persist()\n",
    "vector = None"
   ]
  },
  {
   "cell_type": "code",
   "execution_count": null,
   "metadata": {},
   "outputs": [],
   "source": []
  }
 ],
 "metadata": {
  "kernelspec": {
   "display_name": "stevens",
   "language": "python",
   "name": "python3"
  },
  "language_info": {
   "codemirror_mode": {
    "name": "ipython",
    "version": 3
   },
   "file_extension": ".py",
   "mimetype": "text/x-python",
   "name": "python",
   "nbconvert_exporter": "python",
   "pygments_lexer": "ipython3",
   "version": "3.11.5"
  }
 },
 "nbformat": 4,
 "nbformat_minor": 2
}
